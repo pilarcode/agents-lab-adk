{
 "cells": [
  {
   "cell_type": "code",
   "execution_count": 1,
   "metadata": {
    "id": "ur8xi4C7S06n"
   },
   "outputs": [],
   "source": [
    "# Copyright 2025 Google LLC\n",
    "#\n",
    "# Licensed under the Apache License, Version 2.0 (the \"License\");\n",
    "# you may not use this file except in compliance with the License.\n",
    "# You may obtain a copy of the License at\n",
    "#\n",
    "#     https://www.apache.org/licenses/LICENSE-2.0\n",
    "#\n",
    "# Unless required by applicable law or agreed to in writing, software\n",
    "# distributed under the License is distributed on an \"AS IS\" BASIS,\n",
    "# WITHOUT WARRANTIES OR CONDITIONS OF ANY KIND, either express or implied.\n",
    "# See the License for the specific language governing permissions and\n",
    "# limitations under the License."
   ]
  },
  {
   "cell_type": "markdown",
   "metadata": {
    "id": "JAPoU8Sm5E6e"
   },
   "source": [
    "# Evaluate your ADK agent using Vertex AI Gen AI Evaluation service\n",
    "\n",
    "<table align=\"left\">\n",
    "  <td style=\"text-align: center\">\n",
    "    <a href=\"https://colab.research.google.com/github/GoogleCloudPlatform/generative-ai/blob/main/gemini/evaluation/evaluating_adk_agent.ipynb\">\n",
    "      <img width=\"32px\" src=\"https://www.gstatic.com/pantheon/images/bigquery/welcome_page/colab-logo.svg\" alt=\"Google Colaboratory logo\"><br> Open in Colab\n",
    "    </a>\n",
    "  </td>\n",
    "  <td style=\"text-align: center\">\n",
    "    <a href=\"https://console.cloud.google.com/vertex-ai/colab/import/https:%2F%2Fraw.githubusercontent.com%2FGoogleCloudPlatform%2Fgenerative-ai%2Fmain%2Fgemini%2Fevaluation%2Fevaluating_adk_agent.ipynb\">\n",
    "      <img width=\"32px\" src=\"https://lh3.googleusercontent.com/JmcxdQi-qOpctIvWKgPtrzZdJJK-J3sWE1RsfjZNwshCFgE_9fULcNpuXYTilIR2hjwN\" alt=\"Google Cloud Colab Enterprise logo\"><br> Open in Colab Enterprise\n",
    "    </a>\n",
    "  </td>\n",
    "  <td style=\"text-align: center\">\n",
    "    <a href=\"https://console.cloud.google.com/vertex-ai/workbench/deploy-notebook?download_url=https://raw.githubusercontent.com/GoogleCloudPlatform/generative-ai/main/gemini/evaluation/evaluating_adk_agent.ipynb\">\n",
    "      <img src=\"https://www.gstatic.com/images/branding/gcpiconscolors/vertexai/v1/32px.svg\" alt=\"Vertex AI logo\"><br> Open in Vertex AI Workbench\n",
    "    </a>\n",
    "  </td>\n",
    "  <td style=\"text-align: center\">\n",
    "    <a href=\"https://github.com/GoogleCloudPlatform/generative-ai/blob/main/gemini/evaluation/evaluating_adk_agent.ipynb\">\n",
    "      <img width=\"32px\" src=\"https://www.svgrepo.com/download/217753/github.svg\" alt=\"GitHub logo\"><br> View on GitHub\n",
    "    </a>\n",
    "  </td>\n",
    "</table>\n",
    "\n",
    "<div style=\"clear: both;\"></div>\n",
    "\n",
    "<b>Share to:</b>\n",
    "\n",
    "<a href=\"https://www.linkedin.com/sharing/share-offsite/?url=https%3A//github.com/GoogleCloudPlatform/generative-ai/blob/main/gemini/evaluation/evaluating_adk_agent.ipynb\" target=\"_blank\">\n",
    "  <img width=\"20px\" src=\"https://upload.wikimedia.org/wikipedia/commons/8/81/LinkedIn_icon.svg\" alt=\"LinkedIn logo\">\n",
    "</a>\n",
    "\n",
    "<a href=\"https://bsky.app/intent/compose?text=https%3A//github.com/GoogleCloudPlatform/generative-ai/blob/main/gemini/evaluation/evaluating_adk_agent.ipynb\" target=\"_blank\">\n",
    "  <img width=\"20px\" src=\"https://upload.wikimedia.org/wikipedia/commons/7/7a/Bluesky_Logo.svg\" alt=\"Bluesky logo\">\n",
    "</a>\n",
    "\n",
    "<a href=\"https://twitter.com/intent/tweet?url=https%3A//github.com/GoogleCloudPlatform/generative-ai/blob/main/gemini/evaluation/evaluating_adk_agent.ipynb\" target=\"_blank\">\n",
    "  <img width=\"20px\" src=\"https://upload.wikimedia.org/wikipedia/commons/5/5a/X_icon_2.svg\" alt=\"X logo\">\n",
    "</a>\n",
    "\n",
    "<a href=\"https://reddit.com/submit?url=https%3A//github.com/GoogleCloudPlatform/generative-ai/blob/main/gemini/evaluation/evaluating_adk_agent.ipynb\" target=\"_blank\">\n",
    "  <img width=\"20px\" src=\"https://redditinc.com/hubfs/Reddit%20Inc/Brand/Reddit_Logo.png\" alt=\"Reddit logo\">\n",
    "</a>\n",
    "\n",
    "<a href=\"https://www.facebook.com/sharer/sharer.php?u=https%3A//github.com/GoogleCloudPlatform/generative-ai/blob/main/gemini/evaluation/evaluating_adk_agent.ipynb\" target=\"_blank\">\n",
    "  <img width=\"20px\" src=\"https://upload.wikimedia.org/wikipedia/commons/5/51/Facebook_f_logo_%282019%29.svg\" alt=\"Facebook logo\">\n",
    "</a>"
   ]
  },
  {
   "cell_type": "markdown",
   "metadata": {
    "id": "84f0f73a0f76"
   },
   "source": [
    "| Author(s) |\n",
    "| --- |\n",
    "| [Ivan Nardini](https://github.com/inardini) |"
   ]
  },
  {
   "cell_type": "markdown",
   "metadata": {
    "id": "tvgnzT1CKxrO"
   },
   "source": [
    "## Overview\n",
    "\n",
    "Agent Development Kit (ADK in short) is a flexible and modular open source framework for developing and deploying AI agents. While ADK has its own evaluation module, using Vertex AI Gen AI Evaluation provides a toolkit of quality controlled and explainable methods and metrics to evaluate any generative model or application, including agents, and benchmark the evaluation results against your own judgment, using your own evaluation criteria.\n",
    "\n",
    "This tutorial shows how to evaluate an ADK agent using Vertex AI Gen AI Evaluation for agent evaluation.\n",
    "\n",
    "The steps performed include:\n",
    "\n",
    "* Build local agent using ADK\n",
    "* Prepare Agent Evaluation dataset\n",
    "* Single tool usage evaluation\n",
    "* Trajectory evaluation\n",
    "* Response evaluation"
   ]
  },
  {
   "cell_type": "markdown",
   "metadata": {
    "id": "61RBz8LLbxCR"
   },
   "source": [
    "## Get started"
   ]
  },
  {
   "cell_type": "markdown",
   "metadata": {
    "id": "No17Cw5hgx12"
   },
   "source": [
    "### Install Google Gen AI SDK and other required packages\n"
   ]
  },
  {
   "cell_type": "code",
   "execution_count": 2,
   "metadata": {
    "id": "tFy3H3aPgx12",
    "tags": []
   },
   "outputs": [
    {
     "name": "stdout",
     "output_type": "stream",
     "text": [
      "\u001b[33mWARNING: Ignoring invalid distribution -oogle-cloud-aiplatform (/opt/conda/lib/python3.10/site-packages)\u001b[0m\u001b[33m\n",
      "\u001b[0m\u001b[33mWARNING: Ignoring invalid distribution -oogle-cloud-aiplatform (/opt/conda/lib/python3.10/site-packages)\u001b[0m\u001b[33m\n",
      "\u001b[0m\u001b[33mWARNING: Ignoring invalid distribution -oogle-cloud-aiplatform (/opt/conda/lib/python3.10/site-packages)\u001b[0m\u001b[33m\n",
      "\u001b[0mNote: you may need to restart the kernel to use updated packages.\n",
      "\u001b[33mWARNING: Ignoring invalid distribution -oogle-cloud-aiplatform (/opt/conda/lib/python3.10/site-packages)\u001b[0m\u001b[33m\n",
      "\u001b[0m\u001b[33mWARNING: Ignoring invalid distribution -oogle-cloud-aiplatform (/opt/conda/lib/python3.10/site-packages)\u001b[0m\u001b[33m\n",
      "\u001b[0m\u001b[33mWARNING: Ignoring invalid distribution -oogle-cloud-aiplatform (/opt/conda/lib/python3.10/site-packages)\u001b[0m\u001b[33m\n",
      "\u001b[0mNote: you may need to restart the kernel to use updated packages.\n"
     ]
    }
   ],
   "source": [
    "%pip install --upgrade --quiet 'google-adk==0.5.0'\n",
    "%pip install --upgrade --quiet 'google-cloud-aiplatform[evaluation]'"
   ]
  },
  {
   "cell_type": "markdown",
   "metadata": {
    "id": "dmWOrTJ3gx13"
   },
   "source": [
    "### Authenticate your notebook environment (Colab only)\n",
    "\n",
    "If you're running this notebook on Google Colab, run the cell below to authenticate your environment."
   ]
  },
  {
   "cell_type": "code",
   "execution_count": 3,
   "metadata": {
    "id": "NyKGtVQjgx13",
    "tags": []
   },
   "outputs": [],
   "source": [
    "import sys\n",
    "\n",
    "if \"google.colab\" in sys.modules:\n",
    "    from google.colab import auth\n",
    "\n",
    "    auth.authenticate_user()"
   ]
  },
  {
   "cell_type": "markdown",
   "metadata": {
    "id": "DF4l8DTdWgPY"
   },
   "source": [
    "### Set Google Cloud project information\n",
    "\n",
    "To get started using Vertex AI, you must have an existing Google Cloud project and [enable the Vertex AI API](https://console.cloud.google.com/flows/enableapi?apiid=aiplatform.googleapis.com).\n",
    "\n",
    "Learn more about [setting up a project and a development environment](https://cloud.google.com/vertex-ai/docs/start/cloud-environment)."
   ]
  },
  {
   "cell_type": "code",
   "execution_count": 4,
   "metadata": {
    "id": "Nqwi-5ufWp_B",
    "tags": []
   },
   "outputs": [
    {
     "name": "stdout",
     "output_type": "stream",
     "text": [
      "Creating gs://qwiklabs-gcp-00-30e5ec1a5312/...\n",
      "ServiceException: 409 A Cloud Storage bucket named 'qwiklabs-gcp-00-30e5ec1a5312' already exists. Try another name. Bucket names must be globally unique across all Google Cloud projects, including those outside of your organization.\n"
     ]
    },
    {
     "data": {
      "text/html": [
       "\n",
       "        \n",
       "    <link rel=\"stylesheet\" href=\"https://fonts.googleapis.com/icon?family=Material+Icons\">\n",
       "    <style>\n",
       "      .view-vertex-resource,\n",
       "      .view-vertex-resource:hover,\n",
       "      .view-vertex-resource:visited {\n",
       "        position: relative;\n",
       "        display: inline-flex;\n",
       "        flex-direction: row;\n",
       "        height: 32px;\n",
       "        padding: 0 12px;\n",
       "          margin: 4px 18px;\n",
       "        gap: 4px;\n",
       "        border-radius: 4px;\n",
       "\n",
       "        align-items: center;\n",
       "        justify-content: center;\n",
       "        background-color: rgb(255, 255, 255);\n",
       "        color: rgb(51, 103, 214);\n",
       "\n",
       "        font-family: Roboto,\"Helvetica Neue\",sans-serif;\n",
       "        font-size: 13px;\n",
       "        font-weight: 500;\n",
       "        text-transform: uppercase;\n",
       "        text-decoration: none !important;\n",
       "\n",
       "        transition: box-shadow 280ms cubic-bezier(0.4, 0, 0.2, 1) 0s;\n",
       "        box-shadow: 0px 3px 1px -2px rgba(0,0,0,0.2), 0px 2px 2px 0px rgba(0,0,0,0.14), 0px 1px 5px 0px rgba(0,0,0,0.12);\n",
       "      }\n",
       "      .view-vertex-resource:active {\n",
       "        box-shadow: 0px 5px 5px -3px rgba(0,0,0,0.2),0px 8px 10px 1px rgba(0,0,0,0.14),0px 3px 14px 2px rgba(0,0,0,0.12);\n",
       "      }\n",
       "      .view-vertex-resource:active .view-vertex-ripple::before {\n",
       "        position: absolute;\n",
       "        top: 0;\n",
       "        bottom: 0;\n",
       "        left: 0;\n",
       "        right: 0;\n",
       "        border-radius: 4px;\n",
       "        pointer-events: none;\n",
       "\n",
       "        content: '';\n",
       "        background-color: rgb(51, 103, 214);\n",
       "        opacity: 0.12;\n",
       "      }\n",
       "      .view-vertex-icon {\n",
       "        font-size: 18px;\n",
       "      }\n",
       "    </style>\n",
       "  \n",
       "        <a class=\"view-vertex-resource\" id=\"view-vertex-resource-c937851e-2677-4ce0-89d7-17b81adc1aca\" href=\"#view-view-vertex-resource-c937851e-2677-4ce0-89d7-17b81adc1aca\">\n",
       "          <span class=\"material-icons view-vertex-icon\">science</span>\n",
       "          <span>View Experiment</span>\n",
       "        </a>\n",
       "        \n",
       "        <script>\n",
       "          (function () {\n",
       "            const link = document.getElementById('view-vertex-resource-c937851e-2677-4ce0-89d7-17b81adc1aca');\n",
       "            link.addEventListener('click', (e) => {\n",
       "              if (window.google?.colab?.openUrl) {\n",
       "                window.google.colab.openUrl('https://console.cloud.google.com/vertex-ai/experiments/locations/us-central1/experiments/evaluate-adk-agent/runs?project=qwiklabs-gcp-00-30e5ec1a5312');\n",
       "              } else {\n",
       "                window.open('https://console.cloud.google.com/vertex-ai/experiments/locations/us-central1/experiments/evaluate-adk-agent/runs?project=qwiklabs-gcp-00-30e5ec1a5312', '_blank');\n",
       "              }\n",
       "              e.stopPropagation();\n",
       "              e.preventDefault();\n",
       "            });\n",
       "          })();\n",
       "        </script>\n",
       "    "
      ],
      "text/plain": [
       "<IPython.core.display.HTML object>"
      ]
     },
     "metadata": {},
     "output_type": "display_data"
    }
   ],
   "source": [
    "# Use the environment variable if the user doesn't provide Project ID.\n",
    "import os\n",
    "\n",
    "import vertexai\n",
    "\n",
    "PROJECT_ID = \"qwiklabs-gcp-00-30e5ec1a5312\"  # @param {type: \"string\", placeholder: \"[your-project-id]\", isTemplate: true}\n",
    "if not PROJECT_ID or PROJECT_ID == \"qwiklabs-gcp-00-30e5ec1a5312\":\n",
    "    PROJECT_ID = str(os.environ.get(\"GOOGLE_CLOUD_PROJECT\"))\n",
    "\n",
    "LOCATION = os.environ.get(\"GOOGLE_CLOUD_REGION\", \"us-central1\")\n",
    "\n",
    "BUCKET_NAME = \"qwiklabs-gcp-00-30e5ec1a5312\"  # @param {type: \"string\", placeholder: \"[your-bucket-name]\", isTemplate: true}\n",
    "BUCKET_URI = f\"gs://{BUCKET_NAME}\"\n",
    "\n",
    "!gsutil mb -l {LOCATION} {BUCKET_URI}\n",
    "\n",
    "os.environ[\"GOOGLE_CLOUD_PROJECT\"] = PROJECT_ID\n",
    "os.environ[\"GOOGLE_CLOUD_LOCATION\"] = LOCATION\n",
    "os.environ[\"GOOGLE_GENAI_USE_VERTEXAI\"] = \"True\"\n",
    "\n",
    "EXPERIMENT_NAME = \"evaluate-adk-agent\"  # @param {type:\"string\"}\n",
    "\n",
    "vertexai.init(project=PROJECT_ID, location=LOCATION, experiment=EXPERIMENT_NAME)"
   ]
  },
  {
   "cell_type": "markdown",
   "metadata": {
    "id": "5303c05f7aa6"
   },
   "source": [
    "## Import libraries\n",
    "\n",
    "Import tutorial libraries."
   ]
  },
  {
   "cell_type": "code",
   "execution_count": 5,
   "metadata": {
    "id": "6fc324893334",
    "tags": []
   },
   "outputs": [],
   "source": [
    "import json\n",
    "\n",
    "# General\n",
    "import random\n",
    "import string\n",
    "from typing import Any\n",
    "\n",
    "from IPython.display import HTML, Markdown, display\n",
    "from google.adk.agents import Agent\n",
    "\n",
    "# Build agent with adk\n",
    "from google.adk.events import Event\n",
    "from google.adk.runners import Runner\n",
    "from google.adk.sessions import InMemorySessionService\n",
    "\n",
    "# Evaluate agent\n",
    "from google.cloud import aiplatform\n",
    "from google.genai import types\n",
    "import pandas as pd\n",
    "import plotly.graph_objects as go\n",
    "from vertexai.preview.evaluation import EvalTask\n",
    "from vertexai.preview.evaluation.metrics import (\n",
    "    PointwiseMetric,\n",
    "    PointwiseMetricPromptTemplate,\n",
    "    TrajectorySingleToolUse,\n",
    ")"
   ]
  },
  {
   "cell_type": "markdown",
   "metadata": {
    "id": "MVnBDX54gz7j"
   },
   "source": [
    "## Define helper functions\n",
    "\n",
    "Initiate a set of helper functions to print tutorial results."
   ]
  },
  {
   "cell_type": "code",
   "execution_count": 6,
   "metadata": {
    "id": "uSgWjMD_g1_v",
    "tags": []
   },
   "outputs": [],
   "source": [
    "def get_id(length: int = 8) -> str:\n",
    "    \"\"\"Generate a uuid of a specified length (default=8).\"\"\"\n",
    "    return \"\".join(random.choices(string.ascii_lowercase + string.digits, k=length))\n",
    "\n",
    "\n",
    "def parse_adk_output_to_dictionary(events: list[Event]) -> dict[str, Any]:\n",
    "    \"\"\"\n",
    "    Parse ADK event output into a structured dictionary format,\n",
    "    with the predicted trajectory dumped as a JSON string.\n",
    "\n",
    "    \"\"\"\n",
    "\n",
    "    final_response = \"\"\n",
    "    predicted_trajectory_list = []\n",
    "\n",
    "    for event in events:\n",
    "        # Ensure content and parts exist before accessing them\n",
    "        if not event.content or not event.content.parts:\n",
    "            continue\n",
    "\n",
    "        # Iterate through ALL parts in the event's content\n",
    "        for part in event.content.parts:\n",
    "            if part.function_call:\n",
    "                tool_info = {\n",
    "                    \"tool_name\": part.function_call.name,\n",
    "                    \"tool_input\": dict(part.function_call.args),\n",
    "                }\n",
    "                # Ensure we don't add duplicates if the same call appears somehow\n",
    "                if tool_info not in predicted_trajectory_list:\n",
    "                    predicted_trajectory_list.append(tool_info)\n",
    "\n",
    "            # The final text response is usually in the last event from the model\n",
    "            if event.content.role == \"model\" and part.text:\n",
    "                # Overwrite response; the last text response found is likely the final one\n",
    "                final_response = part.text.strip()\n",
    "\n",
    "    # Dump the collected trajectory list into a JSON string\n",
    "    final_output = {\n",
    "        \"response\": str(final_response),\n",
    "        \"predicted_trajectory\": json.dumps(predicted_trajectory_list),\n",
    "    }\n",
    "\n",
    "    return final_output\n",
    "\n",
    "\n",
    "def format_output_as_markdown(output: dict) -> str:\n",
    "    \"\"\"Convert the output dictionary to a formatted markdown string.\"\"\"\n",
    "    markdown = \"### AI Response\\n\"\n",
    "    markdown += f\"{output['response']}\\n\\n\"\n",
    "\n",
    "    if output[\"predicted_trajectory\"]:\n",
    "        output[\"predicted_trajectory\"] = json.loads(output[\"predicted_trajectory\"])\n",
    "        markdown += \"### Function Calls\\n\"\n",
    "        for call in output[\"predicted_trajectory\"]:\n",
    "            markdown += f\"- **Function**: `{call['tool_name']}`\\n\"\n",
    "            markdown += \"  - **Arguments**:\\n\"\n",
    "            for key, value in call[\"tool_input\"].items():\n",
    "                markdown += f\"    - `{key}`: `{value}`\\n\"\n",
    "\n",
    "    return markdown\n",
    "\n",
    "\n",
    "def display_eval_report(eval_result: pd.DataFrame) -> None:\n",
    "    \"\"\"Display the evaluation results.\"\"\"\n",
    "    metrics_df = pd.DataFrame.from_dict(eval_result.summary_metrics, orient=\"index\").T\n",
    "    display(Markdown(\"### Summary Metrics\"))\n",
    "    display(metrics_df)\n",
    "\n",
    "    display(Markdown(\"### Row-wise Metrics\"))\n",
    "    display(eval_result.metrics_table)\n",
    "\n",
    "\n",
    "def display_drilldown(row: pd.Series) -> None:\n",
    "    \"\"\"Displays a drill-down view for trajectory data within a row.\"\"\"\n",
    "\n",
    "    style = \"white-space: pre-wrap; width: 800px; overflow-x: auto;\"\n",
    "\n",
    "    if not (\n",
    "        isinstance(row[\"predicted_trajectory\"], list)\n",
    "        and isinstance(row[\"reference_trajectory\"], list)\n",
    "    ):\n",
    "        return\n",
    "\n",
    "    for predicted_trajectory, reference_trajectory in zip(\n",
    "        row[\"predicted_trajectory\"], row[\"reference_trajectory\"]\n",
    "    ):\n",
    "        display(\n",
    "            HTML(\n",
    "                f\"<h3>Tool Names:</h3><div style='{style}'>{predicted_trajectory['tool_name'], reference_trajectory['tool_name']}</div>\"\n",
    "            )\n",
    "        )\n",
    "\n",
    "        if not (\n",
    "            isinstance(predicted_trajectory.get(\"tool_input\"), dict)\n",
    "            and isinstance(reference_trajectory.get(\"tool_input\"), dict)\n",
    "        ):\n",
    "            continue\n",
    "\n",
    "        for tool_input_key in predicted_trajectory[\"tool_input\"]:\n",
    "            print(\"Tool Input Key: \", tool_input_key)\n",
    "\n",
    "            if tool_input_key in reference_trajectory[\"tool_input\"]:\n",
    "                print(\n",
    "                    \"Tool Values: \",\n",
    "                    predicted_trajectory[\"tool_input\"][tool_input_key],\n",
    "                    reference_trajectory[\"tool_input\"][tool_input_key],\n",
    "                )\n",
    "            else:\n",
    "                print(\n",
    "                    \"Tool Values: \",\n",
    "                    predicted_trajectory[\"tool_input\"][tool_input_key],\n",
    "                    \"N/A\",\n",
    "                )\n",
    "        print(\"\\n\")\n",
    "    display(HTML(\"<hr>\"))\n",
    "\n",
    "\n",
    "def display_dataframe_rows(\n",
    "    df: pd.DataFrame,\n",
    "    columns: list[str] | None = None,\n",
    "    num_rows: int = 3,\n",
    "    display_drilldown: bool = False,\n",
    ") -> None:\n",
    "    \"\"\"Displays a subset of rows from a DataFrame, optionally including a drill-down view.\"\"\"\n",
    "\n",
    "    if columns:\n",
    "        df = df[columns]\n",
    "\n",
    "    base_style = \"font-family: monospace; font-size: 14px; white-space: pre-wrap; width: auto; overflow-x: auto;\"\n",
    "    header_style = base_style + \"font-weight: bold;\"\n",
    "\n",
    "    for _, row in df.head(num_rows).iterrows():\n",
    "        for column in df.columns:\n",
    "            display(\n",
    "                HTML(\n",
    "                    f\"<span style='{header_style}'>{column.replace('_', ' ').title()}: </span>\"\n",
    "                )\n",
    "            )\n",
    "            display(HTML(f\"<span style='{base_style}'>{row[column]}</span><br>\"))\n",
    "\n",
    "        display(HTML(\"<hr>\"))\n",
    "\n",
    "        if (\n",
    "            display_drilldown\n",
    "            and \"predicted_trajectory\" in df.columns\n",
    "            and \"reference_trajectory\" in df.columns\n",
    "        ):\n",
    "            display_drilldown(row)\n",
    "\n",
    "\n",
    "def plot_bar_plot(\n",
    "    eval_result: pd.DataFrame, title: str, metrics: list[str] = None\n",
    ") -> None:\n",
    "    fig = go.Figure()\n",
    "    data = []\n",
    "\n",
    "    summary_metrics = eval_result.summary_metrics\n",
    "    if metrics:\n",
    "        summary_metrics = {\n",
    "            k: summary_metrics[k]\n",
    "            for k, v in summary_metrics.items()\n",
    "            if any(selected_metric in k for selected_metric in metrics)\n",
    "        }\n",
    "\n",
    "    data.append(\n",
    "        go.Bar(\n",
    "            x=list(summary_metrics.keys()),\n",
    "            y=list(summary_metrics.values()),\n",
    "            name=title,\n",
    "        )\n",
    "    )\n",
    "\n",
    "    fig = go.Figure(data=data)\n",
    "\n",
    "    # Change the bar mode\n",
    "    fig.update_layout(barmode=\"group\")\n",
    "    fig.show()\n",
    "\n",
    "\n",
    "def display_radar_plot(eval_results, title: str, metrics=None):\n",
    "    \"\"\"Plot the radar plot.\"\"\"\n",
    "    fig = go.Figure()\n",
    "    summary_metrics = eval_results.summary_metrics\n",
    "    if metrics:\n",
    "        summary_metrics = {\n",
    "            k: summary_metrics[k]\n",
    "            for k, v in summary_metrics.items()\n",
    "            if any(selected_metric in k for selected_metric in metrics)\n",
    "        }\n",
    "\n",
    "    min_val = min(summary_metrics.values())\n",
    "    max_val = max(summary_metrics.values())\n",
    "\n",
    "    fig.add_trace(\n",
    "        go.Scatterpolar(\n",
    "            r=list(summary_metrics.values()),\n",
    "            theta=list(summary_metrics.keys()),\n",
    "            fill=\"toself\",\n",
    "            name=title,\n",
    "        )\n",
    "    )\n",
    "    fig.update_layout(\n",
    "        title=title,\n",
    "        polar=dict(radialaxis=dict(visible=True, range=[min_val, max_val])),\n",
    "        showlegend=True,\n",
    "    )\n",
    "    fig.show()"
   ]
  },
  {
   "cell_type": "markdown",
   "metadata": {
    "id": "bDaa2Mtsifmq"
   },
   "source": [
    "## Build ADK agent\n",
    "\n",
    "Build your application using ADK, including the Gemini model and custom tools that you define."
   ]
  },
  {
   "cell_type": "markdown",
   "metadata": {
    "id": "KHwShhpOitKp"
   },
   "source": [
    "### Set tools\n",
    "\n",
    "To start, set the tools that a customer support agent needs to do their job."
   ]
  },
  {
   "cell_type": "code",
   "execution_count": 7,
   "metadata": {
    "id": "gA2ZKvfeislw",
    "tags": []
   },
   "outputs": [],
   "source": [
    "def get_product_details(product_name: str):\n",
    "    \"\"\"Gathers basic details about a product.\"\"\"\n",
    "    details = {\n",
    "        \"smartphone\": \"A cutting-edge smartphone with advanced camera features and lightning-fast processing.\",\n",
    "        \"usb charger\": \"A super fast and light usb charger\",\n",
    "        \"shoes\": \"High-performance running shoes designed for comfort, support, and speed.\",\n",
    "        \"headphones\": \"Wireless headphones with advanced noise cancellation technology for immersive audio.\",\n",
    "        \"speaker\": \"A voice-controlled smart speaker that plays music, sets alarms, and controls smart home devices.\",\n",
    "    }\n",
    "    return details.get(product_name, \"Product details not found.\")\n",
    "\n",
    "\n",
    "def get_product_price(product_name: str):\n",
    "    \"\"\"Gathers price about a product.\"\"\"\n",
    "    details = {\n",
    "        \"smartphone\": 500,\n",
    "        \"usb charger\": 10,\n",
    "        \"shoes\": 100,\n",
    "        \"headphones\": 50,\n",
    "        \"speaker\": 80,\n",
    "    }\n",
    "    return details.get(product_name, \"Product price not found.\")"
   ]
  },
  {
   "cell_type": "code",
   "execution_count": 8,
   "metadata": {
    "tags": []
   },
   "outputs": [
    {
     "data": {
      "text/plain": [
       "500"
      ]
     },
     "execution_count": 8,
     "metadata": {},
     "output_type": "execute_result"
    }
   ],
   "source": [
    "get_product_price(\"smartphone\")"
   ]
  },
  {
   "cell_type": "markdown",
   "metadata": {
    "id": "l4mk5XPui4Y1"
   },
   "source": [
    "### Set the model\n",
    "\n",
    "Choose which Gemini AI model your agent will use. If you're curious about Gemini and its different capabilities, take a look at [the official documentation](https://cloud.google.com/vertex-ai/generative-ai/docs/learn/models) for more details."
   ]
  },
  {
   "cell_type": "code",
   "execution_count": 9,
   "metadata": {
    "id": "BaYeo6K2i-w1",
    "tags": []
   },
   "outputs": [],
   "source": [
    "model = \"gemini-2.0-flash\""
   ]
  },
  {
   "cell_type": "markdown",
   "metadata": {
    "id": "tNlAY9cojEWz"
   },
   "source": [
    "### Assemble the agent\n",
    "\n",
    "The Vertex AI Gen AI Evaluation works directly with 'Queryable' agents, and also lets you add your own custom functions with a specific structure (signature).\n",
    "\n",
    "In this case, you assemble the agent using a custom function. The function triggers the agent for a given input and parses the agent outcome to extract the response and called tools."
   ]
  },
  {
   "cell_type": "code",
   "execution_count": 10,
   "metadata": {
    "id": "gD5OB44g4sc3",
    "tags": []
   },
   "outputs": [],
   "source": [
    "def agent_parsed_outcome(query):\n",
    "\n",
    "    app_name = \"product_research_app\"\n",
    "    user_id = \"user_one\"\n",
    "    session_id = \"session_one\"\n",
    "\n",
    "    product_research_agent = Agent(\n",
    "        name=\"ProductResearchAgent\",\n",
    "        model=model,\n",
    "        description=\"An agent that performs product research.\",\n",
    "        instruction=f\"\"\"\n",
    "        Analyze this user request: '{query}'.\n",
    "        If the request is about price, use get_product_price tool.\n",
    "        Otherwise, use get_product_details tool to get product information.\n",
    "        \"\"\",\n",
    "        tools=[get_product_details, get_product_price],\n",
    "    )\n",
    "\n",
    "    session_service = InMemorySessionService()\n",
    "    _ = session_service.create_session(\n",
    "        app_name=app_name, user_id=user_id, session_id=session_id\n",
    "    )\n",
    "    runner = Runner(\n",
    "        agent=product_research_agent, app_name=app_name, session_service=session_service\n",
    "    )\n",
    "\n",
    "    content = types.Content(role=\"user\", parts=[types.Part(text=query)])\n",
    "    events = list(\n",
    "        runner.run(user_id=user_id, session_id=session_id, new_message=content)\n",
    "    )\n",
    "    return parse_adk_output_to_dictionary(events)"
   ]
  },
  {
   "cell_type": "markdown",
   "metadata": {
    "id": "_HGcs6PVjRj_"
   },
   "source": [
    "### Test the agent\n",
    "\n",
    "Query your agent."
   ]
  },
  {
   "cell_type": "code",
   "execution_count": 14,
   "metadata": {
    "id": "lGb58OJkjUs9",
    "tags": []
   },
   "outputs": [
    {
     "name": "stderr",
     "output_type": "stream",
     "text": [
      "Warning: there are non-text parts in the response: ['function_call'], returning concatenated text result from text parts. Check the full candidates.content.parts accessor to get the full model response.\n"
     ]
    },
    {
     "data": {
      "text/markdown": [
       "### AI Response\n",
       "OK. I have gathered product details for shoes. High-performance running shoes designed for comfort, support, and speed.\n",
       "\n",
       "### Function Calls\n",
       "- **Function**: `get_product_details`\n",
       "  - **Arguments**:\n",
       "    - `product_name`: `shoes`\n"
      ],
      "text/plain": [
       "<IPython.core.display.Markdown object>"
      ]
     },
     "metadata": {},
     "output_type": "display_data"
    }
   ],
   "source": [
    "response = agent_parsed_outcome(query=\"Get product details for shoes\")\n",
    "display(Markdown(format_output_as_markdown(response)))"
   ]
  },
  {
   "cell_type": "code",
   "execution_count": 15,
   "metadata": {
    "tags": []
   },
   "outputs": [
    {
     "data": {
      "text/plain": [
       "{'response': 'OK. I have gathered product details for shoes. High-performance running shoes designed for comfort, support, and speed.',\n",
       " 'predicted_trajectory': [{'tool_name': 'get_product_details',\n",
       "   'tool_input': {'product_name': 'shoes'}}]}"
      ]
     },
     "execution_count": 15,
     "metadata": {},
     "output_type": "execute_result"
    }
   ],
   "source": [
    "response"
   ]
  },
  {
   "cell_type": "code",
   "execution_count": 16,
   "metadata": {
    "id": "2wCFstt8w4Dx",
    "tags": []
   },
   "outputs": [
    {
     "name": "stderr",
     "output_type": "stream",
     "text": [
      "Warning: there are non-text parts in the response: ['function_call'], returning concatenated text result from text parts. Check the full candidates.content.parts accessor to get the full model response.\n"
     ]
    },
    {
     "data": {
      "text/markdown": [
       "### AI Response\n",
       "The price for shoes is 100.\n",
       "\n",
       "### Function Calls\n",
       "- **Function**: `get_product_price`\n",
       "  - **Arguments**:\n",
       "    - `product_name`: `shoes`\n"
      ],
      "text/plain": [
       "<IPython.core.display.Markdown object>"
      ]
     },
     "metadata": {},
     "output_type": "display_data"
    }
   ],
   "source": [
    "response = agent_parsed_outcome(query=\"Get product price for shoes\")\n",
    "display(Markdown(format_output_as_markdown(response)))"
   ]
  },
  {
   "cell_type": "code",
   "execution_count": 17,
   "metadata": {
    "tags": []
   },
   "outputs": [
    {
     "data": {
      "text/plain": [
       "{'response': 'The price for shoes is 100.',\n",
       " 'predicted_trajectory': [{'tool_name': 'get_product_price',\n",
       "   'tool_input': {'product_name': 'shoes'}}]}"
      ]
     },
     "execution_count": 17,
     "metadata": {},
     "output_type": "execute_result"
    }
   ],
   "source": [
    "response"
   ]
  },
  {
   "cell_type": "markdown",
   "metadata": {
    "id": "aOGPePsorpUl"
   },
   "source": [
    "## Evaluating a ADK agent with Vertex AI Gen AI Evaluation\n",
    "\n",
    "When working with AI agents, it's important to keep track of their performance and how well they're working. You can look at this in two main ways: **monitoring** and **observability**.\n",
    "\n",
    "Monitoring focuses on how well your agent is performing specific tasks:\n",
    "\n",
    "* **Single Tool Selection**: Is the agent choosing the right tools for the job?\n",
    "\n",
    "* **Multiple Tool Selection (or Trajectory)**: Is the agent making logical choices in the order it uses tools?\n",
    "\n",
    "* **Response generation**: Is the agent's output good, and does it make sense based on the tools it used?\n",
    "\n",
    "Observability is about understanding the overall health of the agent:\n",
    "\n",
    "* **Latency**: How long does it take the agent to respond?\n",
    "\n",
    "* **Failure Rate**: How often does the agent fail to produce a response?\n",
    "\n",
    "Vertex AI Gen AI Evaluation service helps you to assess all of these aspects both while you are prototyping the agent or after you deploy it in production. It provides [pre-built evaluation criteria and metrics](https://cloud.google.com/vertex-ai/generative-ai/docs/models/determine-eval) so you can see exactly how your agents are doing and identify areas for improvement."
   ]
  },
  {
   "cell_type": "markdown",
   "metadata": {
    "id": "e43229f3ad4f"
   },
   "source": [
    "### Prepare Agent Evaluation dataset\n",
    "\n",
    "To evaluate your AI agent using the Vertex AI Gen AI Evaluation service, you need a specific dataset depending on what aspects of your agent you want to evaluate. \n",
    "\n",
    "This dataset should include the prompts given to the agent. It can also contain the ideal or expected response (ground truth) and the intended sequence of tool calls the agent should take (reference trajectory) representing the sequence of tools you expect agent calls for each given prompt.\n",
    "\n",
    "> Optionally, you can provide both generated responses and predicted trajectory (**Bring-Your-Own-Dataset scenario**).\n",
    "\n",
    "Below you have an example of dataset you might have with a customer support agent with user prompt and the reference trajectory."
   ]
  },
  {
   "cell_type": "code",
   "execution_count": 18,
   "metadata": {
    "id": "fFf8uTdUiDt3",
    "tags": []
   },
   "outputs": [],
   "source": [
    "eval_data = {\n",
    "    \"prompt\": [\n",
    "        \"Get price for smartphone\",\n",
    "        \"Get product details and price for headphones\",\n",
    "        \"Get details for usb charger\",\n",
    "        \"Get product details and price for shoes\",\n",
    "        \"Get product details for speaker?\",\n",
    "    ],\n",
    "    \"reference_trajectory\": [\n",
    "        [\n",
    "            {\n",
    "                \"tool_name\": \"get_product_price\",\n",
    "                \"tool_input\": {\"product_name\": \"smartphone\"},\n",
    "            }\n",
    "        ],\n",
    "        [\n",
    "            {\n",
    "                \"tool_name\": \"get_product_details\",\n",
    "                \"tool_input\": {\"product_name\": \"headphones\"},\n",
    "            },\n",
    "            {\n",
    "                \"tool_name\": \"get_product_price\",\n",
    "                \"tool_input\": {\"product_name\": \"headphones\"},\n",
    "            },\n",
    "        ],\n",
    "        [\n",
    "            {\n",
    "                \"tool_name\": \"get_product_details\",\n",
    "                \"tool_input\": {\"product_name\": \"usb charger\"},\n",
    "            }\n",
    "        ],\n",
    "        [\n",
    "            {\n",
    "                \"tool_name\": \"get_product_details\",\n",
    "                \"tool_input\": {\"product_name\": \"shoes\"},\n",
    "            },\n",
    "            {\"tool_name\": \"get_product_price\", \"tool_input\": {\"product_name\": \"shoes\"}},\n",
    "        ],\n",
    "        [\n",
    "            {\n",
    "                \"tool_name\": \"get_product_details\",\n",
    "                \"tool_input\": {\"product_name\": \"speaker\"},\n",
    "            }\n",
    "        ],\n",
    "    ],\n",
    "}\n",
    "\n",
    "eval_sample_dataset = pd.DataFrame(eval_data)"
   ]
  },
  {
   "cell_type": "markdown",
   "metadata": {
    "id": "PQEI1EcfvFHb"
   },
   "source": [
    "Print some samples from the dataset."
   ]
  },
  {
   "cell_type": "code",
   "execution_count": 19,
   "metadata": {
    "id": "EjsonqWWvIvE",
    "tags": []
   },
   "outputs": [
    {
     "data": {
      "text/html": [
       "<span style='font-family: monospace; font-size: 14px; white-space: pre-wrap; width: auto; overflow-x: auto;font-weight: bold;'>Prompt: </span>"
      ],
      "text/plain": [
       "<IPython.core.display.HTML object>"
      ]
     },
     "metadata": {},
     "output_type": "display_data"
    },
    {
     "data": {
      "text/html": [
       "<span style='font-family: monospace; font-size: 14px; white-space: pre-wrap; width: auto; overflow-x: auto;'>Get price for smartphone</span><br>"
      ],
      "text/plain": [
       "<IPython.core.display.HTML object>"
      ]
     },
     "metadata": {},
     "output_type": "display_data"
    },
    {
     "data": {
      "text/html": [
       "<span style='font-family: monospace; font-size: 14px; white-space: pre-wrap; width: auto; overflow-x: auto;font-weight: bold;'>Reference Trajectory: </span>"
      ],
      "text/plain": [
       "<IPython.core.display.HTML object>"
      ]
     },
     "metadata": {},
     "output_type": "display_data"
    },
    {
     "data": {
      "text/html": [
       "<span style='font-family: monospace; font-size: 14px; white-space: pre-wrap; width: auto; overflow-x: auto;'>[{'tool_name': 'get_product_price', 'tool_input': {'product_name': 'smartphone'}}]</span><br>"
      ],
      "text/plain": [
       "<IPython.core.display.HTML object>"
      ]
     },
     "metadata": {},
     "output_type": "display_data"
    },
    {
     "data": {
      "text/html": [
       "<hr>"
      ],
      "text/plain": [
       "<IPython.core.display.HTML object>"
      ]
     },
     "metadata": {},
     "output_type": "display_data"
    },
    {
     "data": {
      "text/html": [
       "<span style='font-family: monospace; font-size: 14px; white-space: pre-wrap; width: auto; overflow-x: auto;font-weight: bold;'>Prompt: </span>"
      ],
      "text/plain": [
       "<IPython.core.display.HTML object>"
      ]
     },
     "metadata": {},
     "output_type": "display_data"
    },
    {
     "data": {
      "text/html": [
       "<span style='font-family: monospace; font-size: 14px; white-space: pre-wrap; width: auto; overflow-x: auto;'>Get product details and price for headphones</span><br>"
      ],
      "text/plain": [
       "<IPython.core.display.HTML object>"
      ]
     },
     "metadata": {},
     "output_type": "display_data"
    },
    {
     "data": {
      "text/html": [
       "<span style='font-family: monospace; font-size: 14px; white-space: pre-wrap; width: auto; overflow-x: auto;font-weight: bold;'>Reference Trajectory: </span>"
      ],
      "text/plain": [
       "<IPython.core.display.HTML object>"
      ]
     },
     "metadata": {},
     "output_type": "display_data"
    },
    {
     "data": {
      "text/html": [
       "<span style='font-family: monospace; font-size: 14px; white-space: pre-wrap; width: auto; overflow-x: auto;'>[{'tool_name': 'get_product_details', 'tool_input': {'product_name': 'headphones'}}, {'tool_name': 'get_product_price', 'tool_input': {'product_name': 'headphones'}}]</span><br>"
      ],
      "text/plain": [
       "<IPython.core.display.HTML object>"
      ]
     },
     "metadata": {},
     "output_type": "display_data"
    },
    {
     "data": {
      "text/html": [
       "<hr>"
      ],
      "text/plain": [
       "<IPython.core.display.HTML object>"
      ]
     },
     "metadata": {},
     "output_type": "display_data"
    },
    {
     "data": {
      "text/html": [
       "<span style='font-family: monospace; font-size: 14px; white-space: pre-wrap; width: auto; overflow-x: auto;font-weight: bold;'>Prompt: </span>"
      ],
      "text/plain": [
       "<IPython.core.display.HTML object>"
      ]
     },
     "metadata": {},
     "output_type": "display_data"
    },
    {
     "data": {
      "text/html": [
       "<span style='font-family: monospace; font-size: 14px; white-space: pre-wrap; width: auto; overflow-x: auto;'>Get details for usb charger</span><br>"
      ],
      "text/plain": [
       "<IPython.core.display.HTML object>"
      ]
     },
     "metadata": {},
     "output_type": "display_data"
    },
    {
     "data": {
      "text/html": [
       "<span style='font-family: monospace; font-size: 14px; white-space: pre-wrap; width: auto; overflow-x: auto;font-weight: bold;'>Reference Trajectory: </span>"
      ],
      "text/plain": [
       "<IPython.core.display.HTML object>"
      ]
     },
     "metadata": {},
     "output_type": "display_data"
    },
    {
     "data": {
      "text/html": [
       "<span style='font-family: monospace; font-size: 14px; white-space: pre-wrap; width: auto; overflow-x: auto;'>[{'tool_name': 'get_product_details', 'tool_input': {'product_name': 'usb charger'}}]</span><br>"
      ],
      "text/plain": [
       "<IPython.core.display.HTML object>"
      ]
     },
     "metadata": {},
     "output_type": "display_data"
    },
    {
     "data": {
      "text/html": [
       "<hr>"
      ],
      "text/plain": [
       "<IPython.core.display.HTML object>"
      ]
     },
     "metadata": {},
     "output_type": "display_data"
    }
   ],
   "source": [
    "display_dataframe_rows(eval_sample_dataset, num_rows=3)"
   ]
  },
  {
   "cell_type": "markdown",
   "metadata": {
    "id": "m4CvBuf1afHG"
   },
   "source": [
    "### Single tool usage evaluation\n",
    "\n",
    "After you've set your AI agent and the evaluation dataset, you start evaluating if the agent is choosing the correct single tool for a given task.\n"
   ]
  },
  {
   "cell_type": "markdown",
   "metadata": {
    "id": "_rS5GGKHd5bx"
   },
   "source": [
    "#### Set single tool usage metrics\n",
    "\n",
    "The `trajectory_single_tool_use` metric in Vertex AI Gen AI Evaluation gives you a quick way to evaluate whether your agent is using the tool you expect it to use, regardless of any specific tool order. It's a basic but useful way to start evaluating if the right tool was used at some point during the agent's process.\n",
    "\n",
    "To use the `trajectory_single_tool_use` metric, you need to set what tool should have been used for a particular user's request. For example, if a user asks to \"send an email\", you might expect the agent to use an \"send_email\" tool, and you'd specify that tool's name when using this metric.\n"
   ]
  },
  {
   "cell_type": "code",
   "execution_count": 20,
   "metadata": {
    "id": "xixvq8dwd5by",
    "tags": []
   },
   "outputs": [],
   "source": [
    "single_tool_usage_metrics = [TrajectorySingleToolUse(tool_name=\"get_product_price\")]"
   ]
  },
  {
   "cell_type": "code",
   "execution_count": 21,
   "metadata": {
    "tags": []
   },
   "outputs": [
    {
     "data": {
      "text/plain": [
       "[<vertexai.preview.evaluation.metrics._trajectory_single_tool_use.TrajectorySingleToolUse at 0x7f9c115aa710>]"
      ]
     },
     "execution_count": 21,
     "metadata": {},
     "output_type": "execute_result"
    }
   ],
   "source": [
    "single_tool_usage_metrics"
   ]
  },
  {
   "cell_type": "markdown",
   "metadata": {
    "id": "ktKZoT2Qd5by"
   },
   "source": [
    "#### Run an evaluation task\n",
    "\n",
    "To run the evaluation, you initiate an `EvalTask` using the pre-defined dataset (`eval_sample_dataset`) and metrics (`single_tool_usage_metrics` in this case) within an experiment. Then, you run the evaluation using agent_parsed_outcome function and assigns a unique identifier to this specific evaluation run, storing and visualizing the evaluation results.\n"
   ]
  },
  {
   "cell_type": "code",
   "execution_count": 22,
   "metadata": {
    "id": "SRv43fDcd5by",
    "tags": []
   },
   "outputs": [
    {
     "data": {
      "text/html": [
       "\n",
       "        \n",
       "    <link rel=\"stylesheet\" href=\"https://fonts.googleapis.com/icon?family=Material+Icons\">\n",
       "    <style>\n",
       "      .view-vertex-resource,\n",
       "      .view-vertex-resource:hover,\n",
       "      .view-vertex-resource:visited {\n",
       "        position: relative;\n",
       "        display: inline-flex;\n",
       "        flex-direction: row;\n",
       "        height: 32px;\n",
       "        padding: 0 12px;\n",
       "          margin: 4px 18px;\n",
       "        gap: 4px;\n",
       "        border-radius: 4px;\n",
       "\n",
       "        align-items: center;\n",
       "        justify-content: center;\n",
       "        background-color: rgb(255, 255, 255);\n",
       "        color: rgb(51, 103, 214);\n",
       "\n",
       "        font-family: Roboto,\"Helvetica Neue\",sans-serif;\n",
       "        font-size: 13px;\n",
       "        font-weight: 500;\n",
       "        text-transform: uppercase;\n",
       "        text-decoration: none !important;\n",
       "\n",
       "        transition: box-shadow 280ms cubic-bezier(0.4, 0, 0.2, 1) 0s;\n",
       "        box-shadow: 0px 3px 1px -2px rgba(0,0,0,0.2), 0px 2px 2px 0px rgba(0,0,0,0.14), 0px 1px 5px 0px rgba(0,0,0,0.12);\n",
       "      }\n",
       "      .view-vertex-resource:active {\n",
       "        box-shadow: 0px 5px 5px -3px rgba(0,0,0,0.2),0px 8px 10px 1px rgba(0,0,0,0.14),0px 3px 14px 2px rgba(0,0,0,0.12);\n",
       "      }\n",
       "      .view-vertex-resource:active .view-vertex-ripple::before {\n",
       "        position: absolute;\n",
       "        top: 0;\n",
       "        bottom: 0;\n",
       "        left: 0;\n",
       "        right: 0;\n",
       "        border-radius: 4px;\n",
       "        pointer-events: none;\n",
       "\n",
       "        content: '';\n",
       "        background-color: rgb(51, 103, 214);\n",
       "        opacity: 0.12;\n",
       "      }\n",
       "      .view-vertex-icon {\n",
       "        font-size: 18px;\n",
       "      }\n",
       "    </style>\n",
       "  \n",
       "        <a class=\"view-vertex-resource\" id=\"view-vertex-resource-d1ad640d-174f-4e64-93a9-09a70f319652\" href=\"#view-view-vertex-resource-d1ad640d-174f-4e64-93a9-09a70f319652\">\n",
       "          <span class=\"material-icons view-vertex-icon\">science</span>\n",
       "          <span>View Experiment</span>\n",
       "        </a>\n",
       "        \n",
       "        <script>\n",
       "          (function () {\n",
       "            const link = document.getElementById('view-vertex-resource-d1ad640d-174f-4e64-93a9-09a70f319652');\n",
       "            link.addEventListener('click', (e) => {\n",
       "              if (window.google?.colab?.openUrl) {\n",
       "                window.google.colab.openUrl('https://console.cloud.google.com/vertex-ai/experiments/locations/us-central1/experiments/evaluate-adk-agent/runs?project=qwiklabs-gcp-00-30e5ec1a5312');\n",
       "              } else {\n",
       "                window.open('https://console.cloud.google.com/vertex-ai/experiments/locations/us-central1/experiments/evaluate-adk-agent/runs?project=qwiklabs-gcp-00-30e5ec1a5312', '_blank');\n",
       "              }\n",
       "              e.stopPropagation();\n",
       "              e.preventDefault();\n",
       "            });\n",
       "          })();\n",
       "        </script>\n",
       "    "
      ],
      "text/plain": [
       "<IPython.core.display.HTML object>"
      ]
     },
     "metadata": {},
     "output_type": "display_data"
    },
    {
     "name": "stdout",
     "output_type": "stream",
     "text": [
      "Associating projects/1023447617531/locations/us-central1/metadataStores/default/contexts/evaluate-adk-agent-single-metric-eval-prnwr5fw to Experiment: evaluate-adk-agent\n"
     ]
    },
    {
     "data": {
      "text/html": [
       "\n",
       "        \n",
       "    <link rel=\"stylesheet\" href=\"https://fonts.googleapis.com/icon?family=Material+Icons\">\n",
       "    <style>\n",
       "      .view-vertex-resource,\n",
       "      .view-vertex-resource:hover,\n",
       "      .view-vertex-resource:visited {\n",
       "        position: relative;\n",
       "        display: inline-flex;\n",
       "        flex-direction: row;\n",
       "        height: 32px;\n",
       "        padding: 0 12px;\n",
       "          margin: 4px 18px;\n",
       "        gap: 4px;\n",
       "        border-radius: 4px;\n",
       "\n",
       "        align-items: center;\n",
       "        justify-content: center;\n",
       "        background-color: rgb(255, 255, 255);\n",
       "        color: rgb(51, 103, 214);\n",
       "\n",
       "        font-family: Roboto,\"Helvetica Neue\",sans-serif;\n",
       "        font-size: 13px;\n",
       "        font-weight: 500;\n",
       "        text-transform: uppercase;\n",
       "        text-decoration: none !important;\n",
       "\n",
       "        transition: box-shadow 280ms cubic-bezier(0.4, 0, 0.2, 1) 0s;\n",
       "        box-shadow: 0px 3px 1px -2px rgba(0,0,0,0.2), 0px 2px 2px 0px rgba(0,0,0,0.14), 0px 1px 5px 0px rgba(0,0,0,0.12);\n",
       "      }\n",
       "      .view-vertex-resource:active {\n",
       "        box-shadow: 0px 5px 5px -3px rgba(0,0,0,0.2),0px 8px 10px 1px rgba(0,0,0,0.14),0px 3px 14px 2px rgba(0,0,0,0.12);\n",
       "      }\n",
       "      .view-vertex-resource:active .view-vertex-ripple::before {\n",
       "        position: absolute;\n",
       "        top: 0;\n",
       "        bottom: 0;\n",
       "        left: 0;\n",
       "        right: 0;\n",
       "        border-radius: 4px;\n",
       "        pointer-events: none;\n",
       "\n",
       "        content: '';\n",
       "        background-color: rgb(51, 103, 214);\n",
       "        opacity: 0.12;\n",
       "      }\n",
       "      .view-vertex-icon {\n",
       "        font-size: 18px;\n",
       "      }\n",
       "    </style>\n",
       "  \n",
       "        <a class=\"view-vertex-resource\" id=\"view-vertex-resource-72b44b40-0d64-484b-ba16-dd6c30c761ed\" href=\"#view-view-vertex-resource-72b44b40-0d64-484b-ba16-dd6c30c761ed\">\n",
       "          <span class=\"material-icons view-vertex-icon\">science</span>\n",
       "          <span>View Experiment Run</span>\n",
       "        </a>\n",
       "        \n",
       "        <script>\n",
       "          (function () {\n",
       "            const link = document.getElementById('view-vertex-resource-72b44b40-0d64-484b-ba16-dd6c30c761ed');\n",
       "            link.addEventListener('click', (e) => {\n",
       "              if (window.google?.colab?.openUrl) {\n",
       "                window.google.colab.openUrl('https://console.cloud.google.com/vertex-ai/experiments/locations/us-central1/experiments/evaluate-adk-agent/runs/evaluate-adk-agent-single-metric-eval-prnwr5fw?project=qwiklabs-gcp-00-30e5ec1a5312');\n",
       "              } else {\n",
       "                window.open('https://console.cloud.google.com/vertex-ai/experiments/locations/us-central1/experiments/evaluate-adk-agent/runs/evaluate-adk-agent-single-metric-eval-prnwr5fw?project=qwiklabs-gcp-00-30e5ec1a5312', '_blank');\n",
       "              }\n",
       "              e.stopPropagation();\n",
       "              e.preventDefault();\n",
       "            });\n",
       "          })();\n",
       "        </script>\n",
       "    "
      ],
      "text/plain": [
       "<IPython.core.display.HTML object>"
      ]
     },
     "metadata": {},
     "output_type": "display_data"
    },
    {
     "name": "stdout",
     "output_type": "stream",
     "text": [
      "Logging Eval experiment evaluation metadata: {'output_file': 'gs://qwiklabs-gcp-00-30e5ec1a5312/single-metric-eval/eval_results_2025-08-10-06-20-29-04b8a.csv'}\n"
     ]
    },
    {
     "name": "stderr",
     "output_type": "stream",
     "text": [
      "  0%|          | 0/5 [00:00<?, ?it/s]Warning: there are non-text parts in the response: ['function_call'], returning concatenated text result from text parts. Check the full candidates.content.parts accessor to get the full model response.\n",
      "Warning: there are non-text parts in the response: ['function_call', 'function_call'], returning concatenated text result from text parts. Check the full candidates.content.parts accessor to get the full model response.\n",
      "Warning: there are non-text parts in the response: ['function_call'], returning concatenated text result from text parts. Check the full candidates.content.parts accessor to get the full model response.\n",
      "Warning: there are non-text parts in the response: ['function_call'], returning concatenated text result from text parts. Check the full candidates.content.parts accessor to get the full model response.\n",
      "Warning: there are non-text parts in the response: ['function_call', 'function_call'], returning concatenated text result from text parts. Check the full candidates.content.parts accessor to get the full model response.\n",
      "100%|██████████| 5/5 [00:01<00:00,  3.32it/s]"
     ]
    },
    {
     "name": "stdout",
     "output_type": "stream",
     "text": [
      "All 5 responses are successfully generated from the runnable.\n",
      "Computing metrics with a total of 5 Vertex Gen AI Evaluation Service API requests.\n"
     ]
    },
    {
     "name": "stderr",
     "output_type": "stream",
     "text": [
      "\n",
      "100%|██████████| 5/5 [00:00<00:00, 10.53it/s]"
     ]
    },
    {
     "name": "stdout",
     "output_type": "stream",
     "text": [
      "All 5 metric requests are successfully computed.\n",
      "Evaluation Took:0.5029416740001125 seconds\n"
     ]
    },
    {
     "name": "stderr",
     "output_type": "stream",
     "text": [
      "\n"
     ]
    },
    {
     "data": {
      "text/html": [
       "\n",
       "        \n",
       "    <link rel=\"stylesheet\" href=\"https://fonts.googleapis.com/icon?family=Material+Icons\">\n",
       "    <style>\n",
       "      .view-vertex-resource,\n",
       "      .view-vertex-resource:hover,\n",
       "      .view-vertex-resource:visited {\n",
       "        position: relative;\n",
       "        display: inline-flex;\n",
       "        flex-direction: row;\n",
       "        height: 32px;\n",
       "        padding: 0 12px;\n",
       "          margin: 4px 18px;\n",
       "        gap: 4px;\n",
       "        border-radius: 4px;\n",
       "\n",
       "        align-items: center;\n",
       "        justify-content: center;\n",
       "        background-color: rgb(255, 255, 255);\n",
       "        color: rgb(51, 103, 214);\n",
       "\n",
       "        font-family: Roboto,\"Helvetica Neue\",sans-serif;\n",
       "        font-size: 13px;\n",
       "        font-weight: 500;\n",
       "        text-transform: uppercase;\n",
       "        text-decoration: none !important;\n",
       "\n",
       "        transition: box-shadow 280ms cubic-bezier(0.4, 0, 0.2, 1) 0s;\n",
       "        box-shadow: 0px 3px 1px -2px rgba(0,0,0,0.2), 0px 2px 2px 0px rgba(0,0,0,0.14), 0px 1px 5px 0px rgba(0,0,0,0.12);\n",
       "      }\n",
       "      .view-vertex-resource:active {\n",
       "        box-shadow: 0px 5px 5px -3px rgba(0,0,0,0.2),0px 8px 10px 1px rgba(0,0,0,0.14),0px 3px 14px 2px rgba(0,0,0,0.12);\n",
       "      }\n",
       "      .view-vertex-resource:active .view-vertex-ripple::before {\n",
       "        position: absolute;\n",
       "        top: 0;\n",
       "        bottom: 0;\n",
       "        left: 0;\n",
       "        right: 0;\n",
       "        border-radius: 4px;\n",
       "        pointer-events: none;\n",
       "\n",
       "        content: '';\n",
       "        background-color: rgb(51, 103, 214);\n",
       "        opacity: 0.12;\n",
       "      }\n",
       "      .view-vertex-icon {\n",
       "        font-size: 18px;\n",
       "      }\n",
       "    </style>\n",
       "  \n",
       "        <a class=\"view-vertex-resource\" id=\"view-vertex-resource-f18e1289-88ff-4875-a803-1e268a51f7d3\" href=\"#view-view-vertex-resource-f18e1289-88ff-4875-a803-1e268a51f7d3\">\n",
       "          <span class=\"material-icons view-vertex-icon\">science</span>\n",
       "          <span>View Experiment</span>\n",
       "        </a>\n",
       "        \n",
       "        <script>\n",
       "          (function () {\n",
       "            const link = document.getElementById('view-vertex-resource-f18e1289-88ff-4875-a803-1e268a51f7d3');\n",
       "            link.addEventListener('click', (e) => {\n",
       "              if (window.google?.colab?.openUrl) {\n",
       "                window.google.colab.openUrl('https://console.cloud.google.com/vertex-ai/experiments/locations/us-central1/experiments/evaluate-adk-agent/runs?project=qwiklabs-gcp-00-30e5ec1a5312');\n",
       "              } else {\n",
       "                window.open('https://console.cloud.google.com/vertex-ai/experiments/locations/us-central1/experiments/evaluate-adk-agent/runs?project=qwiklabs-gcp-00-30e5ec1a5312', '_blank');\n",
       "              }\n",
       "              e.stopPropagation();\n",
       "              e.preventDefault();\n",
       "            });\n",
       "          })();\n",
       "        </script>\n",
       "    "
      ],
      "text/plain": [
       "<IPython.core.display.HTML object>"
      ]
     },
     "metadata": {},
     "output_type": "display_data"
    },
    {
     "data": {
      "text/html": [
       "\n",
       "        \n",
       "    <link rel=\"stylesheet\" href=\"https://fonts.googleapis.com/icon?family=Material+Icons\">\n",
       "    <style>\n",
       "      .view-vertex-resource,\n",
       "      .view-vertex-resource:hover,\n",
       "      .view-vertex-resource:visited {\n",
       "        position: relative;\n",
       "        display: inline-flex;\n",
       "        flex-direction: row;\n",
       "        height: 32px;\n",
       "        padding: 0 12px;\n",
       "          margin: 4px 18px;\n",
       "        gap: 4px;\n",
       "        border-radius: 4px;\n",
       "\n",
       "        align-items: center;\n",
       "        justify-content: center;\n",
       "        background-color: rgb(255, 255, 255);\n",
       "        color: rgb(51, 103, 214);\n",
       "\n",
       "        font-family: Roboto,\"Helvetica Neue\",sans-serif;\n",
       "        font-size: 13px;\n",
       "        font-weight: 500;\n",
       "        text-transform: uppercase;\n",
       "        text-decoration: none !important;\n",
       "\n",
       "        transition: box-shadow 280ms cubic-bezier(0.4, 0, 0.2, 1) 0s;\n",
       "        box-shadow: 0px 3px 1px -2px rgba(0,0,0,0.2), 0px 2px 2px 0px rgba(0,0,0,0.14), 0px 1px 5px 0px rgba(0,0,0,0.12);\n",
       "      }\n",
       "      .view-vertex-resource:active {\n",
       "        box-shadow: 0px 5px 5px -3px rgba(0,0,0,0.2),0px 8px 10px 1px rgba(0,0,0,0.14),0px 3px 14px 2px rgba(0,0,0,0.12);\n",
       "      }\n",
       "      .view-vertex-resource:active .view-vertex-ripple::before {\n",
       "        position: absolute;\n",
       "        top: 0;\n",
       "        bottom: 0;\n",
       "        left: 0;\n",
       "        right: 0;\n",
       "        border-radius: 4px;\n",
       "        pointer-events: none;\n",
       "\n",
       "        content: '';\n",
       "        background-color: rgb(51, 103, 214);\n",
       "        opacity: 0.12;\n",
       "      }\n",
       "      .view-vertex-icon {\n",
       "        font-size: 18px;\n",
       "      }\n",
       "    </style>\n",
       "  \n",
       "        <a class=\"view-vertex-resource\" id=\"view-vertex-resource-17ecb14b-7b64-4e17-8e17-5d823880f2dd\" href=\"#view-view-vertex-resource-17ecb14b-7b64-4e17-8e17-5d823880f2dd\">\n",
       "          <span class=\"material-icons view-vertex-icon\">bar_chart</span>\n",
       "          <span>View evaluation results</span>\n",
       "        </a>\n",
       "        \n",
       "        <script>\n",
       "          (function () {\n",
       "            const link = document.getElementById('view-vertex-resource-17ecb14b-7b64-4e17-8e17-5d823880f2dd');\n",
       "            link.addEventListener('click', (e) => {\n",
       "              if (window.google?.colab?.openUrl) {\n",
       "                window.google.colab.openUrl('https://console.cloud.google.com/storage/browser/_details/qwiklabs-gcp-00-30e5ec1a5312/single-metric-eval/eval_results_2025-08-10-06-20-29-04b8a/eval_results_2025-08-10-06-20-29-04b8a.csv;colab_enterprise=gen_ai_evaluation');\n",
       "              } else {\n",
       "                window.open('https://console.cloud.google.com/storage/browser/_details/qwiklabs-gcp-00-30e5ec1a5312/single-metric-eval/eval_results_2025-08-10-06-20-29-04b8a/eval_results_2025-08-10-06-20-29-04b8a.csv;colab_enterprise=gen_ai_evaluation', '_blank');\n",
       "              }\n",
       "              e.stopPropagation();\n",
       "              e.preventDefault();\n",
       "            });\n",
       "          })();\n",
       "        </script>\n",
       "    "
      ],
      "text/plain": [
       "<IPython.core.display.HTML object>"
      ]
     },
     "metadata": {},
     "output_type": "display_data"
    },
    {
     "data": {
      "text/markdown": [
       "### Summary Metrics"
      ],
      "text/plain": [
       "<IPython.core.display.Markdown object>"
      ]
     },
     "metadata": {},
     "output_type": "display_data"
    },
    {
     "data": {
      "text/html": [
       "<div>\n",
       "<style scoped>\n",
       "    .dataframe tbody tr th:only-of-type {\n",
       "        vertical-align: middle;\n",
       "    }\n",
       "\n",
       "    .dataframe tbody tr th {\n",
       "        vertical-align: top;\n",
       "    }\n",
       "\n",
       "    .dataframe thead th {\n",
       "        text-align: right;\n",
       "    }\n",
       "</style>\n",
       "<table border=\"1\" class=\"dataframe\">\n",
       "  <thead>\n",
       "    <tr style=\"text-align: right;\">\n",
       "      <th></th>\n",
       "      <th>row_count</th>\n",
       "      <th>trajectory_single_tool_use/mean</th>\n",
       "      <th>trajectory_single_tool_use/std</th>\n",
       "      <th>latency_in_seconds/mean</th>\n",
       "      <th>latency_in_seconds/std</th>\n",
       "      <th>failure/mean</th>\n",
       "      <th>failure/std</th>\n",
       "    </tr>\n",
       "  </thead>\n",
       "  <tbody>\n",
       "    <tr>\n",
       "      <th>0</th>\n",
       "      <td>5.0</td>\n",
       "      <td>0.6</td>\n",
       "      <td>0.547723</td>\n",
       "      <td>1.266976</td>\n",
       "      <td>0.233488</td>\n",
       "      <td>0.0</td>\n",
       "      <td>0.0</td>\n",
       "    </tr>\n",
       "  </tbody>\n",
       "</table>\n",
       "</div>"
      ],
      "text/plain": [
       "   row_count  trajectory_single_tool_use/mean  trajectory_single_tool_use/std  \\\n",
       "0        5.0                              0.6                        0.547723   \n",
       "\n",
       "   latency_in_seconds/mean  latency_in_seconds/std  failure/mean  failure/std  \n",
       "0                 1.266976                0.233488           0.0          0.0  "
      ]
     },
     "metadata": {},
     "output_type": "display_data"
    },
    {
     "data": {
      "text/markdown": [
       "### Row-wise Metrics"
      ],
      "text/plain": [
       "<IPython.core.display.Markdown object>"
      ]
     },
     "metadata": {},
     "output_type": "display_data"
    },
    {
     "data": {
      "text/html": [
       "<div>\n",
       "<style scoped>\n",
       "    .dataframe tbody tr th:only-of-type {\n",
       "        vertical-align: middle;\n",
       "    }\n",
       "\n",
       "    .dataframe tbody tr th {\n",
       "        vertical-align: top;\n",
       "    }\n",
       "\n",
       "    .dataframe thead th {\n",
       "        text-align: right;\n",
       "    }\n",
       "</style>\n",
       "<table border=\"1\" class=\"dataframe\">\n",
       "  <thead>\n",
       "    <tr style=\"text-align: right;\">\n",
       "      <th></th>\n",
       "      <th>prompt</th>\n",
       "      <th>reference_trajectory</th>\n",
       "      <th>response</th>\n",
       "      <th>latency_in_seconds</th>\n",
       "      <th>failure</th>\n",
       "      <th>predicted_trajectory</th>\n",
       "      <th>trajectory_single_tool_use/score</th>\n",
       "    </tr>\n",
       "  </thead>\n",
       "  <tbody>\n",
       "    <tr>\n",
       "      <th>0</th>\n",
       "      <td>Get price for smartphone</td>\n",
       "      <td>[{'tool_name': 'get_product_price', 'tool_inpu...</td>\n",
       "      <td>The price for smartphone is 500.</td>\n",
       "      <td>0.925327</td>\n",
       "      <td>0</td>\n",
       "      <td>[{\"tool_name\": \"get_product_price\", \"tool_inpu...</td>\n",
       "      <td>1.0</td>\n",
       "    </tr>\n",
       "    <tr>\n",
       "      <th>1</th>\n",
       "      <td>Get product details and price for headphones</td>\n",
       "      <td>[{'tool_name': 'get_product_details', 'tool_in...</td>\n",
       "      <td>OK. I have gathered the product details and pr...</td>\n",
       "      <td>1.131089</td>\n",
       "      <td>0</td>\n",
       "      <td>[{\"tool_name\": \"get_product_details\", \"tool_in...</td>\n",
       "      <td>1.0</td>\n",
       "    </tr>\n",
       "    <tr>\n",
       "      <th>2</th>\n",
       "      <td>Get details for usb charger</td>\n",
       "      <td>[{'tool_name': 'get_product_details', 'tool_in...</td>\n",
       "      <td>OK. I have the details for usb charger. It is ...</td>\n",
       "      <td>1.428843</td>\n",
       "      <td>0</td>\n",
       "      <td>[{\"tool_name\": \"get_product_details\", \"tool_in...</td>\n",
       "      <td>0.0</td>\n",
       "    </tr>\n",
       "    <tr>\n",
       "      <th>3</th>\n",
       "      <td>Get product details and price for shoes</td>\n",
       "      <td>[{'tool_name': 'get_product_details', 'tool_in...</td>\n",
       "      <td>OK. I have gathered the product details and pr...</td>\n",
       "      <td>1.483349</td>\n",
       "      <td>0</td>\n",
       "      <td>[{\"tool_name\": \"get_product_details\", \"tool_in...</td>\n",
       "      <td>1.0</td>\n",
       "    </tr>\n",
       "    <tr>\n",
       "      <th>4</th>\n",
       "      <td>Get product details for speaker?</td>\n",
       "      <td>[{'tool_name': 'get_product_details', 'tool_in...</td>\n",
       "      <td>OK. I have gathered product details for speake...</td>\n",
       "      <td>1.366272</td>\n",
       "      <td>0</td>\n",
       "      <td>[{\"tool_name\": \"get_product_details\", \"tool_in...</td>\n",
       "      <td>0.0</td>\n",
       "    </tr>\n",
       "  </tbody>\n",
       "</table>\n",
       "</div>"
      ],
      "text/plain": [
       "                                         prompt  \\\n",
       "0                      Get price for smartphone   \n",
       "1  Get product details and price for headphones   \n",
       "2                   Get details for usb charger   \n",
       "3       Get product details and price for shoes   \n",
       "4              Get product details for speaker?   \n",
       "\n",
       "                                reference_trajectory  \\\n",
       "0  [{'tool_name': 'get_product_price', 'tool_inpu...   \n",
       "1  [{'tool_name': 'get_product_details', 'tool_in...   \n",
       "2  [{'tool_name': 'get_product_details', 'tool_in...   \n",
       "3  [{'tool_name': 'get_product_details', 'tool_in...   \n",
       "4  [{'tool_name': 'get_product_details', 'tool_in...   \n",
       "\n",
       "                                            response latency_in_seconds  \\\n",
       "0                   The price for smartphone is 500.           0.925327   \n",
       "1  OK. I have gathered the product details and pr...           1.131089   \n",
       "2  OK. I have the details for usb charger. It is ...           1.428843   \n",
       "3  OK. I have gathered the product details and pr...           1.483349   \n",
       "4  OK. I have gathered product details for speake...           1.366272   \n",
       "\n",
       "  failure                               predicted_trajectory  \\\n",
       "0       0  [{\"tool_name\": \"get_product_price\", \"tool_inpu...   \n",
       "1       0  [{\"tool_name\": \"get_product_details\", \"tool_in...   \n",
       "2       0  [{\"tool_name\": \"get_product_details\", \"tool_in...   \n",
       "3       0  [{\"tool_name\": \"get_product_details\", \"tool_in...   \n",
       "4       0  [{\"tool_name\": \"get_product_details\", \"tool_in...   \n",
       "\n",
       "   trajectory_single_tool_use/score  \n",
       "0                               1.0  \n",
       "1                               1.0  \n",
       "2                               0.0  \n",
       "3                               1.0  \n",
       "4                               0.0  "
      ]
     },
     "metadata": {},
     "output_type": "display_data"
    }
   ],
   "source": [
    "EXPERIMENT_RUN = f\"single-metric-eval-{get_id()}\"\n",
    "\n",
    "single_tool_call_eval_task = EvalTask(\n",
    "    dataset=eval_sample_dataset,\n",
    "    metrics=single_tool_usage_metrics,\n",
    "    experiment=EXPERIMENT_NAME,\n",
    "    output_uri_prefix=BUCKET_URI + \"/single-metric-eval\",\n",
    ")\n",
    "\n",
    "single_tool_call_eval_result = single_tool_call_eval_task.evaluate(\n",
    "    runnable=agent_parsed_outcome, experiment_run_name=EXPERIMENT_RUN\n",
    ")\n",
    "\n",
    "display_eval_report(single_tool_call_eval_result)"
   ]
  },
  {
   "cell_type": "markdown",
   "metadata": {
    "id": "6o5BjSTFKVMS"
   },
   "source": [
    "#### Visualize evaluation results\n",
    "\n",
    "Use some helper functions to visualize a sample of evaluation result."
   ]
  },
  {
   "cell_type": "code",
   "execution_count": 23,
   "metadata": {
    "id": "1Jopzw83k14w",
    "tags": []
   },
   "outputs": [
    {
     "data": {
      "text/html": [
       "<span style='font-family: monospace; font-size: 14px; white-space: pre-wrap; width: auto; overflow-x: auto;font-weight: bold;'>Prompt: </span>"
      ],
      "text/plain": [
       "<IPython.core.display.HTML object>"
      ]
     },
     "metadata": {},
     "output_type": "display_data"
    },
    {
     "data": {
      "text/html": [
       "<span style='font-family: monospace; font-size: 14px; white-space: pre-wrap; width: auto; overflow-x: auto;'>Get price for smartphone</span><br>"
      ],
      "text/plain": [
       "<IPython.core.display.HTML object>"
      ]
     },
     "metadata": {},
     "output_type": "display_data"
    },
    {
     "data": {
      "text/html": [
       "<span style='font-family: monospace; font-size: 14px; white-space: pre-wrap; width: auto; overflow-x: auto;font-weight: bold;'>Reference Trajectory: </span>"
      ],
      "text/plain": [
       "<IPython.core.display.HTML object>"
      ]
     },
     "metadata": {},
     "output_type": "display_data"
    },
    {
     "data": {
      "text/html": [
       "<span style='font-family: monospace; font-size: 14px; white-space: pre-wrap; width: auto; overflow-x: auto;'>[{'tool_name': 'get_product_price', 'tool_input': {'product_name': 'smartphone'}}]</span><br>"
      ],
      "text/plain": [
       "<IPython.core.display.HTML object>"
      ]
     },
     "metadata": {},
     "output_type": "display_data"
    },
    {
     "data": {
      "text/html": [
       "<span style='font-family: monospace; font-size: 14px; white-space: pre-wrap; width: auto; overflow-x: auto;font-weight: bold;'>Response: </span>"
      ],
      "text/plain": [
       "<IPython.core.display.HTML object>"
      ]
     },
     "metadata": {},
     "output_type": "display_data"
    },
    {
     "data": {
      "text/html": [
       "<span style='font-family: monospace; font-size: 14px; white-space: pre-wrap; width: auto; overflow-x: auto;'>The price for smartphone is 500.</span><br>"
      ],
      "text/plain": [
       "<IPython.core.display.HTML object>"
      ]
     },
     "metadata": {},
     "output_type": "display_data"
    },
    {
     "data": {
      "text/html": [
       "<span style='font-family: monospace; font-size: 14px; white-space: pre-wrap; width: auto; overflow-x: auto;font-weight: bold;'>Latency In Seconds: </span>"
      ],
      "text/plain": [
       "<IPython.core.display.HTML object>"
      ]
     },
     "metadata": {},
     "output_type": "display_data"
    },
    {
     "data": {
      "text/html": [
       "<span style='font-family: monospace; font-size: 14px; white-space: pre-wrap; width: auto; overflow-x: auto;'>0.9253266760001679</span><br>"
      ],
      "text/plain": [
       "<IPython.core.display.HTML object>"
      ]
     },
     "metadata": {},
     "output_type": "display_data"
    },
    {
     "data": {
      "text/html": [
       "<span style='font-family: monospace; font-size: 14px; white-space: pre-wrap; width: auto; overflow-x: auto;font-weight: bold;'>Failure: </span>"
      ],
      "text/plain": [
       "<IPython.core.display.HTML object>"
      ]
     },
     "metadata": {},
     "output_type": "display_data"
    },
    {
     "data": {
      "text/html": [
       "<span style='font-family: monospace; font-size: 14px; white-space: pre-wrap; width: auto; overflow-x: auto;'>0</span><br>"
      ],
      "text/plain": [
       "<IPython.core.display.HTML object>"
      ]
     },
     "metadata": {},
     "output_type": "display_data"
    },
    {
     "data": {
      "text/html": [
       "<span style='font-family: monospace; font-size: 14px; white-space: pre-wrap; width: auto; overflow-x: auto;font-weight: bold;'>Predicted Trajectory: </span>"
      ],
      "text/plain": [
       "<IPython.core.display.HTML object>"
      ]
     },
     "metadata": {},
     "output_type": "display_data"
    },
    {
     "data": {
      "text/html": [
       "<span style='font-family: monospace; font-size: 14px; white-space: pre-wrap; width: auto; overflow-x: auto;'>[{\"tool_name\": \"get_product_price\", \"tool_input\": {\"product_name\": \"smartphone\"}}]</span><br>"
      ],
      "text/plain": [
       "<IPython.core.display.HTML object>"
      ]
     },
     "metadata": {},
     "output_type": "display_data"
    },
    {
     "data": {
      "text/html": [
       "<span style='font-family: monospace; font-size: 14px; white-space: pre-wrap; width: auto; overflow-x: auto;font-weight: bold;'>Trajectory Single Tool Use/Score: </span>"
      ],
      "text/plain": [
       "<IPython.core.display.HTML object>"
      ]
     },
     "metadata": {},
     "output_type": "display_data"
    },
    {
     "data": {
      "text/html": [
       "<span style='font-family: monospace; font-size: 14px; white-space: pre-wrap; width: auto; overflow-x: auto;'>1.0</span><br>"
      ],
      "text/plain": [
       "<IPython.core.display.HTML object>"
      ]
     },
     "metadata": {},
     "output_type": "display_data"
    },
    {
     "data": {
      "text/html": [
       "<hr>"
      ],
      "text/plain": [
       "<IPython.core.display.HTML object>"
      ]
     },
     "metadata": {},
     "output_type": "display_data"
    },
    {
     "data": {
      "text/html": [
       "<span style='font-family: monospace; font-size: 14px; white-space: pre-wrap; width: auto; overflow-x: auto;font-weight: bold;'>Prompt: </span>"
      ],
      "text/plain": [
       "<IPython.core.display.HTML object>"
      ]
     },
     "metadata": {},
     "output_type": "display_data"
    },
    {
     "data": {
      "text/html": [
       "<span style='font-family: monospace; font-size: 14px; white-space: pre-wrap; width: auto; overflow-x: auto;'>Get product details and price for headphones</span><br>"
      ],
      "text/plain": [
       "<IPython.core.display.HTML object>"
      ]
     },
     "metadata": {},
     "output_type": "display_data"
    },
    {
     "data": {
      "text/html": [
       "<span style='font-family: monospace; font-size: 14px; white-space: pre-wrap; width: auto; overflow-x: auto;font-weight: bold;'>Reference Trajectory: </span>"
      ],
      "text/plain": [
       "<IPython.core.display.HTML object>"
      ]
     },
     "metadata": {},
     "output_type": "display_data"
    },
    {
     "data": {
      "text/html": [
       "<span style='font-family: monospace; font-size: 14px; white-space: pre-wrap; width: auto; overflow-x: auto;'>[{'tool_name': 'get_product_details', 'tool_input': {'product_name': 'headphones'}}, {'tool_name': 'get_product_price', 'tool_input': {'product_name': 'headphones'}}]</span><br>"
      ],
      "text/plain": [
       "<IPython.core.display.HTML object>"
      ]
     },
     "metadata": {},
     "output_type": "display_data"
    },
    {
     "data": {
      "text/html": [
       "<span style='font-family: monospace; font-size: 14px; white-space: pre-wrap; width: auto; overflow-x: auto;font-weight: bold;'>Response: </span>"
      ],
      "text/plain": [
       "<IPython.core.display.HTML object>"
      ]
     },
     "metadata": {},
     "output_type": "display_data"
    },
    {
     "data": {
      "text/html": [
       "<span style='font-family: monospace; font-size: 14px; white-space: pre-wrap; width: auto; overflow-x: auto;'>OK. I have gathered the product details and price for headphones. The headphones are wireless with advanced noise cancellation technology and cost $50.</span><br>"
      ],
      "text/plain": [
       "<IPython.core.display.HTML object>"
      ]
     },
     "metadata": {},
     "output_type": "display_data"
    },
    {
     "data": {
      "text/html": [
       "<span style='font-family: monospace; font-size: 14px; white-space: pre-wrap; width: auto; overflow-x: auto;font-weight: bold;'>Latency In Seconds: </span>"
      ],
      "text/plain": [
       "<IPython.core.display.HTML object>"
      ]
     },
     "metadata": {},
     "output_type": "display_data"
    },
    {
     "data": {
      "text/html": [
       "<span style='font-family: monospace; font-size: 14px; white-space: pre-wrap; width: auto; overflow-x: auto;'>1.1310894470000221</span><br>"
      ],
      "text/plain": [
       "<IPython.core.display.HTML object>"
      ]
     },
     "metadata": {},
     "output_type": "display_data"
    },
    {
     "data": {
      "text/html": [
       "<span style='font-family: monospace; font-size: 14px; white-space: pre-wrap; width: auto; overflow-x: auto;font-weight: bold;'>Failure: </span>"
      ],
      "text/plain": [
       "<IPython.core.display.HTML object>"
      ]
     },
     "metadata": {},
     "output_type": "display_data"
    },
    {
     "data": {
      "text/html": [
       "<span style='font-family: monospace; font-size: 14px; white-space: pre-wrap; width: auto; overflow-x: auto;'>0</span><br>"
      ],
      "text/plain": [
       "<IPython.core.display.HTML object>"
      ]
     },
     "metadata": {},
     "output_type": "display_data"
    },
    {
     "data": {
      "text/html": [
       "<span style='font-family: monospace; font-size: 14px; white-space: pre-wrap; width: auto; overflow-x: auto;font-weight: bold;'>Predicted Trajectory: </span>"
      ],
      "text/plain": [
       "<IPython.core.display.HTML object>"
      ]
     },
     "metadata": {},
     "output_type": "display_data"
    },
    {
     "data": {
      "text/html": [
       "<span style='font-family: monospace; font-size: 14px; white-space: pre-wrap; width: auto; overflow-x: auto;'>[{\"tool_name\": \"get_product_details\", \"tool_input\": {\"product_name\": \"headphones\"}}, {\"tool_name\": \"get_product_price\", \"tool_input\": {\"product_name\": \"headphones\"}}]</span><br>"
      ],
      "text/plain": [
       "<IPython.core.display.HTML object>"
      ]
     },
     "metadata": {},
     "output_type": "display_data"
    },
    {
     "data": {
      "text/html": [
       "<span style='font-family: monospace; font-size: 14px; white-space: pre-wrap; width: auto; overflow-x: auto;font-weight: bold;'>Trajectory Single Tool Use/Score: </span>"
      ],
      "text/plain": [
       "<IPython.core.display.HTML object>"
      ]
     },
     "metadata": {},
     "output_type": "display_data"
    },
    {
     "data": {
      "text/html": [
       "<span style='font-family: monospace; font-size: 14px; white-space: pre-wrap; width: auto; overflow-x: auto;'>1.0</span><br>"
      ],
      "text/plain": [
       "<IPython.core.display.HTML object>"
      ]
     },
     "metadata": {},
     "output_type": "display_data"
    },
    {
     "data": {
      "text/html": [
       "<hr>"
      ],
      "text/plain": [
       "<IPython.core.display.HTML object>"
      ]
     },
     "metadata": {},
     "output_type": "display_data"
    },
    {
     "data": {
      "text/html": [
       "<span style='font-family: monospace; font-size: 14px; white-space: pre-wrap; width: auto; overflow-x: auto;font-weight: bold;'>Prompt: </span>"
      ],
      "text/plain": [
       "<IPython.core.display.HTML object>"
      ]
     },
     "metadata": {},
     "output_type": "display_data"
    },
    {
     "data": {
      "text/html": [
       "<span style='font-family: monospace; font-size: 14px; white-space: pre-wrap; width: auto; overflow-x: auto;'>Get details for usb charger</span><br>"
      ],
      "text/plain": [
       "<IPython.core.display.HTML object>"
      ]
     },
     "metadata": {},
     "output_type": "display_data"
    },
    {
     "data": {
      "text/html": [
       "<span style='font-family: monospace; font-size: 14px; white-space: pre-wrap; width: auto; overflow-x: auto;font-weight: bold;'>Reference Trajectory: </span>"
      ],
      "text/plain": [
       "<IPython.core.display.HTML object>"
      ]
     },
     "metadata": {},
     "output_type": "display_data"
    },
    {
     "data": {
      "text/html": [
       "<span style='font-family: monospace; font-size: 14px; white-space: pre-wrap; width: auto; overflow-x: auto;'>[{'tool_name': 'get_product_details', 'tool_input': {'product_name': 'usb charger'}}]</span><br>"
      ],
      "text/plain": [
       "<IPython.core.display.HTML object>"
      ]
     },
     "metadata": {},
     "output_type": "display_data"
    },
    {
     "data": {
      "text/html": [
       "<span style='font-family: monospace; font-size: 14px; white-space: pre-wrap; width: auto; overflow-x: auto;font-weight: bold;'>Response: </span>"
      ],
      "text/plain": [
       "<IPython.core.display.HTML object>"
      ]
     },
     "metadata": {},
     "output_type": "display_data"
    },
    {
     "data": {
      "text/html": [
       "<span style='font-family: monospace; font-size: 14px; white-space: pre-wrap; width: auto; overflow-x: auto;'>OK. I have the details for usb charger. It is A super fast and light usb charger.</span><br>"
      ],
      "text/plain": [
       "<IPython.core.display.HTML object>"
      ]
     },
     "metadata": {},
     "output_type": "display_data"
    },
    {
     "data": {
      "text/html": [
       "<span style='font-family: monospace; font-size: 14px; white-space: pre-wrap; width: auto; overflow-x: auto;font-weight: bold;'>Latency In Seconds: </span>"
      ],
      "text/plain": [
       "<IPython.core.display.HTML object>"
      ]
     },
     "metadata": {},
     "output_type": "display_data"
    },
    {
     "data": {
      "text/html": [
       "<span style='font-family: monospace; font-size: 14px; white-space: pre-wrap; width: auto; overflow-x: auto;'>1.428843069000095</span><br>"
      ],
      "text/plain": [
       "<IPython.core.display.HTML object>"
      ]
     },
     "metadata": {},
     "output_type": "display_data"
    },
    {
     "data": {
      "text/html": [
       "<span style='font-family: monospace; font-size: 14px; white-space: pre-wrap; width: auto; overflow-x: auto;font-weight: bold;'>Failure: </span>"
      ],
      "text/plain": [
       "<IPython.core.display.HTML object>"
      ]
     },
     "metadata": {},
     "output_type": "display_data"
    },
    {
     "data": {
      "text/html": [
       "<span style='font-family: monospace; font-size: 14px; white-space: pre-wrap; width: auto; overflow-x: auto;'>0</span><br>"
      ],
      "text/plain": [
       "<IPython.core.display.HTML object>"
      ]
     },
     "metadata": {},
     "output_type": "display_data"
    },
    {
     "data": {
      "text/html": [
       "<span style='font-family: monospace; font-size: 14px; white-space: pre-wrap; width: auto; overflow-x: auto;font-weight: bold;'>Predicted Trajectory: </span>"
      ],
      "text/plain": [
       "<IPython.core.display.HTML object>"
      ]
     },
     "metadata": {},
     "output_type": "display_data"
    },
    {
     "data": {
      "text/html": [
       "<span style='font-family: monospace; font-size: 14px; white-space: pre-wrap; width: auto; overflow-x: auto;'>[{\"tool_name\": \"get_product_details\", \"tool_input\": {\"product_name\": \"usb charger\"}}]</span><br>"
      ],
      "text/plain": [
       "<IPython.core.display.HTML object>"
      ]
     },
     "metadata": {},
     "output_type": "display_data"
    },
    {
     "data": {
      "text/html": [
       "<span style='font-family: monospace; font-size: 14px; white-space: pre-wrap; width: auto; overflow-x: auto;font-weight: bold;'>Trajectory Single Tool Use/Score: </span>"
      ],
      "text/plain": [
       "<IPython.core.display.HTML object>"
      ]
     },
     "metadata": {},
     "output_type": "display_data"
    },
    {
     "data": {
      "text/html": [
       "<span style='font-family: monospace; font-size: 14px; white-space: pre-wrap; width: auto; overflow-x: auto;'>0.0</span><br>"
      ],
      "text/plain": [
       "<IPython.core.display.HTML object>"
      ]
     },
     "metadata": {},
     "output_type": "display_data"
    },
    {
     "data": {
      "text/html": [
       "<hr>"
      ],
      "text/plain": [
       "<IPython.core.display.HTML object>"
      ]
     },
     "metadata": {},
     "output_type": "display_data"
    }
   ],
   "source": [
    "display_dataframe_rows(single_tool_call_eval_result.metrics_table, num_rows=3)"
   ]
  },
  {
   "cell_type": "markdown",
   "metadata": {
    "id": "JlujdJpu5Kn6"
   },
   "source": [
    "### Trajectory Evaluation\n",
    "\n",
    "After evaluating the agent's ability to select the single most appropriate tool for a given task, you generalize the evaluation by analyzing the tool sequence choices with respect to the user input (trajectory). This assesses whether the agent not only chooses the right tools but also utilizes them in a rational and effective order."
   ]
  },
  {
   "cell_type": "markdown",
   "metadata": {
    "id": "8s-nHdDJneHM"
   },
   "source": [
    "#### Set trajectory metrics\n",
    "\n",
    "To evaluate agent's trajectory, Vertex AI Gen AI Evaluation provides several ground-truth based metrics:\n",
    "\n",
    "* `trajectory_exact_match`: identical trajectories (same actions, same order)\n",
    "\n",
    "* `trajectory_in_order_match`: reference actions present in predicted trajectory, in order (extras allowed)\n",
    "\n",
    "* `trajectory_any_order_match`: all reference actions present in predicted trajectory (order, extras don't matter).\n",
    "\n",
    "* `trajectory_precision`: proportion of predicted actions present in reference\n",
    "\n",
    "* `trajectory_recall`: proportion of reference actions present in predicted.  \n",
    "\n",
    "All metrics score 0 or 1, except `trajectory_precision` and `trajectory_recall` which range from 0 to 1."
   ]
  },
  {
   "cell_type": "code",
   "execution_count": 24,
   "metadata": {
    "id": "c32WIS95neHN",
    "tags": []
   },
   "outputs": [],
   "source": [
    "trajectory_metrics = [\n",
    "    \"trajectory_exact_match\",\n",
    "    \"trajectory_in_order_match\",\n",
    "    \"trajectory_any_order_match\",\n",
    "    \"trajectory_precision\",\n",
    "    \"trajectory_recall\",\n",
    "]"
   ]
  },
  {
   "cell_type": "markdown",
   "metadata": {
    "id": "DF3jhTH3neHN"
   },
   "source": [
    "#### Run an evaluation task\n",
    "\n",
    "Submit an evaluation by running `evaluate` method of the new `EvalTask`."
   ]
  },
  {
   "cell_type": "code",
   "execution_count": 25,
   "metadata": {
    "id": "vOdS7TJUneHN",
    "tags": []
   },
   "outputs": [
    {
     "data": {
      "text/html": [
       "\n",
       "        \n",
       "    <link rel=\"stylesheet\" href=\"https://fonts.googleapis.com/icon?family=Material+Icons\">\n",
       "    <style>\n",
       "      .view-vertex-resource,\n",
       "      .view-vertex-resource:hover,\n",
       "      .view-vertex-resource:visited {\n",
       "        position: relative;\n",
       "        display: inline-flex;\n",
       "        flex-direction: row;\n",
       "        height: 32px;\n",
       "        padding: 0 12px;\n",
       "          margin: 4px 18px;\n",
       "        gap: 4px;\n",
       "        border-radius: 4px;\n",
       "\n",
       "        align-items: center;\n",
       "        justify-content: center;\n",
       "        background-color: rgb(255, 255, 255);\n",
       "        color: rgb(51, 103, 214);\n",
       "\n",
       "        font-family: Roboto,\"Helvetica Neue\",sans-serif;\n",
       "        font-size: 13px;\n",
       "        font-weight: 500;\n",
       "        text-transform: uppercase;\n",
       "        text-decoration: none !important;\n",
       "\n",
       "        transition: box-shadow 280ms cubic-bezier(0.4, 0, 0.2, 1) 0s;\n",
       "        box-shadow: 0px 3px 1px -2px rgba(0,0,0,0.2), 0px 2px 2px 0px rgba(0,0,0,0.14), 0px 1px 5px 0px rgba(0,0,0,0.12);\n",
       "      }\n",
       "      .view-vertex-resource:active {\n",
       "        box-shadow: 0px 5px 5px -3px rgba(0,0,0,0.2),0px 8px 10px 1px rgba(0,0,0,0.14),0px 3px 14px 2px rgba(0,0,0,0.12);\n",
       "      }\n",
       "      .view-vertex-resource:active .view-vertex-ripple::before {\n",
       "        position: absolute;\n",
       "        top: 0;\n",
       "        bottom: 0;\n",
       "        left: 0;\n",
       "        right: 0;\n",
       "        border-radius: 4px;\n",
       "        pointer-events: none;\n",
       "\n",
       "        content: '';\n",
       "        background-color: rgb(51, 103, 214);\n",
       "        opacity: 0.12;\n",
       "      }\n",
       "      .view-vertex-icon {\n",
       "        font-size: 18px;\n",
       "      }\n",
       "    </style>\n",
       "  \n",
       "        <a class=\"view-vertex-resource\" id=\"view-vertex-resource-81179bf4-634d-4d08-9989-3d623879e4ff\" href=\"#view-view-vertex-resource-81179bf4-634d-4d08-9989-3d623879e4ff\">\n",
       "          <span class=\"material-icons view-vertex-icon\">science</span>\n",
       "          <span>View Experiment</span>\n",
       "        </a>\n",
       "        \n",
       "        <script>\n",
       "          (function () {\n",
       "            const link = document.getElementById('view-vertex-resource-81179bf4-634d-4d08-9989-3d623879e4ff');\n",
       "            link.addEventListener('click', (e) => {\n",
       "              if (window.google?.colab?.openUrl) {\n",
       "                window.google.colab.openUrl('https://console.cloud.google.com/vertex-ai/experiments/locations/us-central1/experiments/evaluate-adk-agent/runs?project=qwiklabs-gcp-00-30e5ec1a5312');\n",
       "              } else {\n",
       "                window.open('https://console.cloud.google.com/vertex-ai/experiments/locations/us-central1/experiments/evaluate-adk-agent/runs?project=qwiklabs-gcp-00-30e5ec1a5312', '_blank');\n",
       "              }\n",
       "              e.stopPropagation();\n",
       "              e.preventDefault();\n",
       "            });\n",
       "          })();\n",
       "        </script>\n",
       "    "
      ],
      "text/plain": [
       "<IPython.core.display.HTML object>"
      ]
     },
     "metadata": {},
     "output_type": "display_data"
    },
    {
     "name": "stdout",
     "output_type": "stream",
     "text": [
      "Associating projects/1023447617531/locations/us-central1/metadataStores/default/contexts/evaluate-adk-agent-trajectory-tjx844m5 to Experiment: evaluate-adk-agent\n"
     ]
    },
    {
     "data": {
      "text/html": [
       "\n",
       "        \n",
       "    <link rel=\"stylesheet\" href=\"https://fonts.googleapis.com/icon?family=Material+Icons\">\n",
       "    <style>\n",
       "      .view-vertex-resource,\n",
       "      .view-vertex-resource:hover,\n",
       "      .view-vertex-resource:visited {\n",
       "        position: relative;\n",
       "        display: inline-flex;\n",
       "        flex-direction: row;\n",
       "        height: 32px;\n",
       "        padding: 0 12px;\n",
       "          margin: 4px 18px;\n",
       "        gap: 4px;\n",
       "        border-radius: 4px;\n",
       "\n",
       "        align-items: center;\n",
       "        justify-content: center;\n",
       "        background-color: rgb(255, 255, 255);\n",
       "        color: rgb(51, 103, 214);\n",
       "\n",
       "        font-family: Roboto,\"Helvetica Neue\",sans-serif;\n",
       "        font-size: 13px;\n",
       "        font-weight: 500;\n",
       "        text-transform: uppercase;\n",
       "        text-decoration: none !important;\n",
       "\n",
       "        transition: box-shadow 280ms cubic-bezier(0.4, 0, 0.2, 1) 0s;\n",
       "        box-shadow: 0px 3px 1px -2px rgba(0,0,0,0.2), 0px 2px 2px 0px rgba(0,0,0,0.14), 0px 1px 5px 0px rgba(0,0,0,0.12);\n",
       "      }\n",
       "      .view-vertex-resource:active {\n",
       "        box-shadow: 0px 5px 5px -3px rgba(0,0,0,0.2),0px 8px 10px 1px rgba(0,0,0,0.14),0px 3px 14px 2px rgba(0,0,0,0.12);\n",
       "      }\n",
       "      .view-vertex-resource:active .view-vertex-ripple::before {\n",
       "        position: absolute;\n",
       "        top: 0;\n",
       "        bottom: 0;\n",
       "        left: 0;\n",
       "        right: 0;\n",
       "        border-radius: 4px;\n",
       "        pointer-events: none;\n",
       "\n",
       "        content: '';\n",
       "        background-color: rgb(51, 103, 214);\n",
       "        opacity: 0.12;\n",
       "      }\n",
       "      .view-vertex-icon {\n",
       "        font-size: 18px;\n",
       "      }\n",
       "    </style>\n",
       "  \n",
       "        <a class=\"view-vertex-resource\" id=\"view-vertex-resource-eaf17f5c-05d2-4911-9dd9-3528d40b0aa5\" href=\"#view-view-vertex-resource-eaf17f5c-05d2-4911-9dd9-3528d40b0aa5\">\n",
       "          <span class=\"material-icons view-vertex-icon\">science</span>\n",
       "          <span>View Experiment Run</span>\n",
       "        </a>\n",
       "        \n",
       "        <script>\n",
       "          (function () {\n",
       "            const link = document.getElementById('view-vertex-resource-eaf17f5c-05d2-4911-9dd9-3528d40b0aa5');\n",
       "            link.addEventListener('click', (e) => {\n",
       "              if (window.google?.colab?.openUrl) {\n",
       "                window.google.colab.openUrl('https://console.cloud.google.com/vertex-ai/experiments/locations/us-central1/experiments/evaluate-adk-agent/runs/evaluate-adk-agent-trajectory-tjx844m5?project=qwiklabs-gcp-00-30e5ec1a5312');\n",
       "              } else {\n",
       "                window.open('https://console.cloud.google.com/vertex-ai/experiments/locations/us-central1/experiments/evaluate-adk-agent/runs/evaluate-adk-agent-trajectory-tjx844m5?project=qwiklabs-gcp-00-30e5ec1a5312', '_blank');\n",
       "              }\n",
       "              e.stopPropagation();\n",
       "              e.preventDefault();\n",
       "            });\n",
       "          })();\n",
       "        </script>\n",
       "    "
      ],
      "text/plain": [
       "<IPython.core.display.HTML object>"
      ]
     },
     "metadata": {},
     "output_type": "display_data"
    },
    {
     "name": "stdout",
     "output_type": "stream",
     "text": [
      "Logging Eval experiment evaluation metadata: {'output_file': 'gs://qwiklabs-gcp-00-30e5ec1a5312/multiple-metric-eval/eval_results_2025-08-10-06-23-43-9d0e0.csv'}\n"
     ]
    },
    {
     "name": "stderr",
     "output_type": "stream",
     "text": [
      "  0%|          | 0/5 [00:00<?, ?it/s]Warning: there are non-text parts in the response: ['function_call'], returning concatenated text result from text parts. Check the full candidates.content.parts accessor to get the full model response.\n",
      "Warning: there are non-text parts in the response: ['function_call'], returning concatenated text result from text parts. Check the full candidates.content.parts accessor to get the full model response.\n",
      "Warning: there are non-text parts in the response: ['function_call', 'function_call'], returning concatenated text result from text parts. Check the full candidates.content.parts accessor to get the full model response.\n",
      "Warning: there are non-text parts in the response: ['function_call'], returning concatenated text result from text parts. Check the full candidates.content.parts accessor to get the full model response.\n",
      "Warning: there are non-text parts in the response: ['function_call', 'function_call'], returning concatenated text result from text parts. Check the full candidates.content.parts accessor to get the full model response.\n",
      "100%|██████████| 5/5 [00:01<00:00,  3.46it/s]"
     ]
    },
    {
     "name": "stdout",
     "output_type": "stream",
     "text": [
      "All 5 responses are successfully generated from the runnable.\n",
      "Computing metrics with a total of 25 Vertex Gen AI Evaluation Service API requests.\n"
     ]
    },
    {
     "name": "stderr",
     "output_type": "stream",
     "text": [
      "\n",
      "100%|██████████| 25/25 [00:02<00:00, 10.25it/s]"
     ]
    },
    {
     "name": "stdout",
     "output_type": "stream",
     "text": [
      "All 25 metric requests are successfully computed.\n",
      "Evaluation Took:2.45750789099975 seconds\n"
     ]
    },
    {
     "name": "stderr",
     "output_type": "stream",
     "text": [
      "\n"
     ]
    },
    {
     "data": {
      "text/html": [
       "\n",
       "        \n",
       "    <link rel=\"stylesheet\" href=\"https://fonts.googleapis.com/icon?family=Material+Icons\">\n",
       "    <style>\n",
       "      .view-vertex-resource,\n",
       "      .view-vertex-resource:hover,\n",
       "      .view-vertex-resource:visited {\n",
       "        position: relative;\n",
       "        display: inline-flex;\n",
       "        flex-direction: row;\n",
       "        height: 32px;\n",
       "        padding: 0 12px;\n",
       "          margin: 4px 18px;\n",
       "        gap: 4px;\n",
       "        border-radius: 4px;\n",
       "\n",
       "        align-items: center;\n",
       "        justify-content: center;\n",
       "        background-color: rgb(255, 255, 255);\n",
       "        color: rgb(51, 103, 214);\n",
       "\n",
       "        font-family: Roboto,\"Helvetica Neue\",sans-serif;\n",
       "        font-size: 13px;\n",
       "        font-weight: 500;\n",
       "        text-transform: uppercase;\n",
       "        text-decoration: none !important;\n",
       "\n",
       "        transition: box-shadow 280ms cubic-bezier(0.4, 0, 0.2, 1) 0s;\n",
       "        box-shadow: 0px 3px 1px -2px rgba(0,0,0,0.2), 0px 2px 2px 0px rgba(0,0,0,0.14), 0px 1px 5px 0px rgba(0,0,0,0.12);\n",
       "      }\n",
       "      .view-vertex-resource:active {\n",
       "        box-shadow: 0px 5px 5px -3px rgba(0,0,0,0.2),0px 8px 10px 1px rgba(0,0,0,0.14),0px 3px 14px 2px rgba(0,0,0,0.12);\n",
       "      }\n",
       "      .view-vertex-resource:active .view-vertex-ripple::before {\n",
       "        position: absolute;\n",
       "        top: 0;\n",
       "        bottom: 0;\n",
       "        left: 0;\n",
       "        right: 0;\n",
       "        border-radius: 4px;\n",
       "        pointer-events: none;\n",
       "\n",
       "        content: '';\n",
       "        background-color: rgb(51, 103, 214);\n",
       "        opacity: 0.12;\n",
       "      }\n",
       "      .view-vertex-icon {\n",
       "        font-size: 18px;\n",
       "      }\n",
       "    </style>\n",
       "  \n",
       "        <a class=\"view-vertex-resource\" id=\"view-vertex-resource-e03cc99d-fc7e-428b-8082-ddb72d2f8dbd\" href=\"#view-view-vertex-resource-e03cc99d-fc7e-428b-8082-ddb72d2f8dbd\">\n",
       "          <span class=\"material-icons view-vertex-icon\">science</span>\n",
       "          <span>View Experiment</span>\n",
       "        </a>\n",
       "        \n",
       "        <script>\n",
       "          (function () {\n",
       "            const link = document.getElementById('view-vertex-resource-e03cc99d-fc7e-428b-8082-ddb72d2f8dbd');\n",
       "            link.addEventListener('click', (e) => {\n",
       "              if (window.google?.colab?.openUrl) {\n",
       "                window.google.colab.openUrl('https://console.cloud.google.com/vertex-ai/experiments/locations/us-central1/experiments/evaluate-adk-agent/runs?project=qwiklabs-gcp-00-30e5ec1a5312');\n",
       "              } else {\n",
       "                window.open('https://console.cloud.google.com/vertex-ai/experiments/locations/us-central1/experiments/evaluate-adk-agent/runs?project=qwiklabs-gcp-00-30e5ec1a5312', '_blank');\n",
       "              }\n",
       "              e.stopPropagation();\n",
       "              e.preventDefault();\n",
       "            });\n",
       "          })();\n",
       "        </script>\n",
       "    "
      ],
      "text/plain": [
       "<IPython.core.display.HTML object>"
      ]
     },
     "metadata": {},
     "output_type": "display_data"
    },
    {
     "data": {
      "text/html": [
       "\n",
       "        \n",
       "    <link rel=\"stylesheet\" href=\"https://fonts.googleapis.com/icon?family=Material+Icons\">\n",
       "    <style>\n",
       "      .view-vertex-resource,\n",
       "      .view-vertex-resource:hover,\n",
       "      .view-vertex-resource:visited {\n",
       "        position: relative;\n",
       "        display: inline-flex;\n",
       "        flex-direction: row;\n",
       "        height: 32px;\n",
       "        padding: 0 12px;\n",
       "          margin: 4px 18px;\n",
       "        gap: 4px;\n",
       "        border-radius: 4px;\n",
       "\n",
       "        align-items: center;\n",
       "        justify-content: center;\n",
       "        background-color: rgb(255, 255, 255);\n",
       "        color: rgb(51, 103, 214);\n",
       "\n",
       "        font-family: Roboto,\"Helvetica Neue\",sans-serif;\n",
       "        font-size: 13px;\n",
       "        font-weight: 500;\n",
       "        text-transform: uppercase;\n",
       "        text-decoration: none !important;\n",
       "\n",
       "        transition: box-shadow 280ms cubic-bezier(0.4, 0, 0.2, 1) 0s;\n",
       "        box-shadow: 0px 3px 1px -2px rgba(0,0,0,0.2), 0px 2px 2px 0px rgba(0,0,0,0.14), 0px 1px 5px 0px rgba(0,0,0,0.12);\n",
       "      }\n",
       "      .view-vertex-resource:active {\n",
       "        box-shadow: 0px 5px 5px -3px rgba(0,0,0,0.2),0px 8px 10px 1px rgba(0,0,0,0.14),0px 3px 14px 2px rgba(0,0,0,0.12);\n",
       "      }\n",
       "      .view-vertex-resource:active .view-vertex-ripple::before {\n",
       "        position: absolute;\n",
       "        top: 0;\n",
       "        bottom: 0;\n",
       "        left: 0;\n",
       "        right: 0;\n",
       "        border-radius: 4px;\n",
       "        pointer-events: none;\n",
       "\n",
       "        content: '';\n",
       "        background-color: rgb(51, 103, 214);\n",
       "        opacity: 0.12;\n",
       "      }\n",
       "      .view-vertex-icon {\n",
       "        font-size: 18px;\n",
       "      }\n",
       "    </style>\n",
       "  \n",
       "        <a class=\"view-vertex-resource\" id=\"view-vertex-resource-a5d6878d-e716-46da-8f85-d780e119d62b\" href=\"#view-view-vertex-resource-a5d6878d-e716-46da-8f85-d780e119d62b\">\n",
       "          <span class=\"material-icons view-vertex-icon\">bar_chart</span>\n",
       "          <span>View evaluation results</span>\n",
       "        </a>\n",
       "        \n",
       "        <script>\n",
       "          (function () {\n",
       "            const link = document.getElementById('view-vertex-resource-a5d6878d-e716-46da-8f85-d780e119d62b');\n",
       "            link.addEventListener('click', (e) => {\n",
       "              if (window.google?.colab?.openUrl) {\n",
       "                window.google.colab.openUrl('https://console.cloud.google.com/storage/browser/_details/qwiklabs-gcp-00-30e5ec1a5312/multiple-metric-eval/eval_results_2025-08-10-06-23-43-9d0e0/eval_results_2025-08-10-06-23-43-9d0e0.csv;colab_enterprise=gen_ai_evaluation');\n",
       "              } else {\n",
       "                window.open('https://console.cloud.google.com/storage/browser/_details/qwiklabs-gcp-00-30e5ec1a5312/multiple-metric-eval/eval_results_2025-08-10-06-23-43-9d0e0/eval_results_2025-08-10-06-23-43-9d0e0.csv;colab_enterprise=gen_ai_evaluation', '_blank');\n",
       "              }\n",
       "              e.stopPropagation();\n",
       "              e.preventDefault();\n",
       "            });\n",
       "          })();\n",
       "        </script>\n",
       "    "
      ],
      "text/plain": [
       "<IPython.core.display.HTML object>"
      ]
     },
     "metadata": {},
     "output_type": "display_data"
    },
    {
     "data": {
      "text/markdown": [
       "### Summary Metrics"
      ],
      "text/plain": [
       "<IPython.core.display.Markdown object>"
      ]
     },
     "metadata": {},
     "output_type": "display_data"
    },
    {
     "data": {
      "text/html": [
       "<div>\n",
       "<style scoped>\n",
       "    .dataframe tbody tr th:only-of-type {\n",
       "        vertical-align: middle;\n",
       "    }\n",
       "\n",
       "    .dataframe tbody tr th {\n",
       "        vertical-align: top;\n",
       "    }\n",
       "\n",
       "    .dataframe thead th {\n",
       "        text-align: right;\n",
       "    }\n",
       "</style>\n",
       "<table border=\"1\" class=\"dataframe\">\n",
       "  <thead>\n",
       "    <tr style=\"text-align: right;\">\n",
       "      <th></th>\n",
       "      <th>row_count</th>\n",
       "      <th>trajectory_exact_match/mean</th>\n",
       "      <th>trajectory_exact_match/std</th>\n",
       "      <th>trajectory_in_order_match/mean</th>\n",
       "      <th>trajectory_in_order_match/std</th>\n",
       "      <th>trajectory_any_order_match/mean</th>\n",
       "      <th>trajectory_any_order_match/std</th>\n",
       "      <th>trajectory_precision/mean</th>\n",
       "      <th>trajectory_precision/std</th>\n",
       "      <th>trajectory_recall/mean</th>\n",
       "      <th>trajectory_recall/std</th>\n",
       "      <th>latency_in_seconds/mean</th>\n",
       "      <th>latency_in_seconds/std</th>\n",
       "      <th>failure/mean</th>\n",
       "      <th>failure/std</th>\n",
       "    </tr>\n",
       "  </thead>\n",
       "  <tbody>\n",
       "    <tr>\n",
       "      <th>0</th>\n",
       "      <td>5.0</td>\n",
       "      <td>1.0</td>\n",
       "      <td>0.0</td>\n",
       "      <td>1.0</td>\n",
       "      <td>0.0</td>\n",
       "      <td>1.0</td>\n",
       "      <td>0.0</td>\n",
       "      <td>1.0</td>\n",
       "      <td>0.0</td>\n",
       "      <td>1.0</td>\n",
       "      <td>0.0</td>\n",
       "      <td>1.199857</td>\n",
       "      <td>0.229066</td>\n",
       "      <td>0.0</td>\n",
       "      <td>0.0</td>\n",
       "    </tr>\n",
       "  </tbody>\n",
       "</table>\n",
       "</div>"
      ],
      "text/plain": [
       "   row_count  trajectory_exact_match/mean  trajectory_exact_match/std  \\\n",
       "0        5.0                          1.0                         0.0   \n",
       "\n",
       "   trajectory_in_order_match/mean  trajectory_in_order_match/std  \\\n",
       "0                             1.0                            0.0   \n",
       "\n",
       "   trajectory_any_order_match/mean  trajectory_any_order_match/std  \\\n",
       "0                              1.0                             0.0   \n",
       "\n",
       "   trajectory_precision/mean  trajectory_precision/std  \\\n",
       "0                        1.0                       0.0   \n",
       "\n",
       "   trajectory_recall/mean  trajectory_recall/std  latency_in_seconds/mean  \\\n",
       "0                     1.0                    0.0                 1.199857   \n",
       "\n",
       "   latency_in_seconds/std  failure/mean  failure/std  \n",
       "0                0.229066           0.0          0.0  "
      ]
     },
     "metadata": {},
     "output_type": "display_data"
    },
    {
     "data": {
      "text/markdown": [
       "### Row-wise Metrics"
      ],
      "text/plain": [
       "<IPython.core.display.Markdown object>"
      ]
     },
     "metadata": {},
     "output_type": "display_data"
    },
    {
     "data": {
      "text/html": [
       "<div>\n",
       "<style scoped>\n",
       "    .dataframe tbody tr th:only-of-type {\n",
       "        vertical-align: middle;\n",
       "    }\n",
       "\n",
       "    .dataframe tbody tr th {\n",
       "        vertical-align: top;\n",
       "    }\n",
       "\n",
       "    .dataframe thead th {\n",
       "        text-align: right;\n",
       "    }\n",
       "</style>\n",
       "<table border=\"1\" class=\"dataframe\">\n",
       "  <thead>\n",
       "    <tr style=\"text-align: right;\">\n",
       "      <th></th>\n",
       "      <th>prompt</th>\n",
       "      <th>reference_trajectory</th>\n",
       "      <th>response</th>\n",
       "      <th>latency_in_seconds</th>\n",
       "      <th>failure</th>\n",
       "      <th>predicted_trajectory</th>\n",
       "      <th>trajectory_exact_match/score</th>\n",
       "      <th>trajectory_in_order_match/score</th>\n",
       "      <th>trajectory_any_order_match/score</th>\n",
       "      <th>trajectory_precision/score</th>\n",
       "      <th>trajectory_recall/score</th>\n",
       "    </tr>\n",
       "  </thead>\n",
       "  <tbody>\n",
       "    <tr>\n",
       "      <th>0</th>\n",
       "      <td>Get price for smartphone</td>\n",
       "      <td>[{'tool_name': 'get_product_price', 'tool_inpu...</td>\n",
       "      <td>The price for smartphone is 500.</td>\n",
       "      <td>0.822625</td>\n",
       "      <td>0</td>\n",
       "      <td>[{\"tool_name\": \"get_product_price\", \"tool_inpu...</td>\n",
       "      <td>1.0</td>\n",
       "      <td>1.0</td>\n",
       "      <td>1.0</td>\n",
       "      <td>1.0</td>\n",
       "      <td>1.0</td>\n",
       "    </tr>\n",
       "    <tr>\n",
       "      <th>1</th>\n",
       "      <td>Get product details and price for headphones</td>\n",
       "      <td>[{'tool_name': 'get_product_details', 'tool_in...</td>\n",
       "      <td>OK. I have gathered the product details and pr...</td>\n",
       "      <td>1.209621</td>\n",
       "      <td>0</td>\n",
       "      <td>[{\"tool_name\": \"get_product_details\", \"tool_in...</td>\n",
       "      <td>1.0</td>\n",
       "      <td>1.0</td>\n",
       "      <td>1.0</td>\n",
       "      <td>1.0</td>\n",
       "      <td>1.0</td>\n",
       "    </tr>\n",
       "    <tr>\n",
       "      <th>2</th>\n",
       "      <td>Get details for usb charger</td>\n",
       "      <td>[{'tool_name': 'get_product_details', 'tool_in...</td>\n",
       "      <td>OK. I have the details for usb charger. It is ...</td>\n",
       "      <td>1.439258</td>\n",
       "      <td>0</td>\n",
       "      <td>[{\"tool_name\": \"get_product_details\", \"tool_in...</td>\n",
       "      <td>1.0</td>\n",
       "      <td>1.0</td>\n",
       "      <td>1.0</td>\n",
       "      <td>1.0</td>\n",
       "      <td>1.0</td>\n",
       "    </tr>\n",
       "    <tr>\n",
       "      <th>3</th>\n",
       "      <td>Get product details and price for shoes</td>\n",
       "      <td>[{'tool_name': 'get_product_details', 'tool_in...</td>\n",
       "      <td>OK. The details for shoes are: High-performanc...</td>\n",
       "      <td>1.295293</td>\n",
       "      <td>0</td>\n",
       "      <td>[{\"tool_name\": \"get_product_details\", \"tool_in...</td>\n",
       "      <td>1.0</td>\n",
       "      <td>1.0</td>\n",
       "      <td>1.0</td>\n",
       "      <td>1.0</td>\n",
       "      <td>1.0</td>\n",
       "    </tr>\n",
       "    <tr>\n",
       "      <th>4</th>\n",
       "      <td>Get product details for speaker?</td>\n",
       "      <td>[{'tool_name': 'get_product_details', 'tool_in...</td>\n",
       "      <td>OK. I have gathered product details for speake...</td>\n",
       "      <td>1.232488</td>\n",
       "      <td>0</td>\n",
       "      <td>[{\"tool_name\": \"get_product_details\", \"tool_in...</td>\n",
       "      <td>1.0</td>\n",
       "      <td>1.0</td>\n",
       "      <td>1.0</td>\n",
       "      <td>1.0</td>\n",
       "      <td>1.0</td>\n",
       "    </tr>\n",
       "  </tbody>\n",
       "</table>\n",
       "</div>"
      ],
      "text/plain": [
       "                                         prompt  \\\n",
       "0                      Get price for smartphone   \n",
       "1  Get product details and price for headphones   \n",
       "2                   Get details for usb charger   \n",
       "3       Get product details and price for shoes   \n",
       "4              Get product details for speaker?   \n",
       "\n",
       "                                reference_trajectory  \\\n",
       "0  [{'tool_name': 'get_product_price', 'tool_inpu...   \n",
       "1  [{'tool_name': 'get_product_details', 'tool_in...   \n",
       "2  [{'tool_name': 'get_product_details', 'tool_in...   \n",
       "3  [{'tool_name': 'get_product_details', 'tool_in...   \n",
       "4  [{'tool_name': 'get_product_details', 'tool_in...   \n",
       "\n",
       "                                            response latency_in_seconds  \\\n",
       "0                   The price for smartphone is 500.           0.822625   \n",
       "1  OK. I have gathered the product details and pr...           1.209621   \n",
       "2  OK. I have the details for usb charger. It is ...           1.439258   \n",
       "3  OK. The details for shoes are: High-performanc...           1.295293   \n",
       "4  OK. I have gathered product details for speake...           1.232488   \n",
       "\n",
       "  failure                               predicted_trajectory  \\\n",
       "0       0  [{\"tool_name\": \"get_product_price\", \"tool_inpu...   \n",
       "1       0  [{\"tool_name\": \"get_product_details\", \"tool_in...   \n",
       "2       0  [{\"tool_name\": \"get_product_details\", \"tool_in...   \n",
       "3       0  [{\"tool_name\": \"get_product_details\", \"tool_in...   \n",
       "4       0  [{\"tool_name\": \"get_product_details\", \"tool_in...   \n",
       "\n",
       "   trajectory_exact_match/score  trajectory_in_order_match/score  \\\n",
       "0                           1.0                              1.0   \n",
       "1                           1.0                              1.0   \n",
       "2                           1.0                              1.0   \n",
       "3                           1.0                              1.0   \n",
       "4                           1.0                              1.0   \n",
       "\n",
       "   trajectory_any_order_match/score  trajectory_precision/score  \\\n",
       "0                               1.0                         1.0   \n",
       "1                               1.0                         1.0   \n",
       "2                               1.0                         1.0   \n",
       "3                               1.0                         1.0   \n",
       "4                               1.0                         1.0   \n",
       "\n",
       "   trajectory_recall/score  \n",
       "0                      1.0  \n",
       "1                      1.0  \n",
       "2                      1.0  \n",
       "3                      1.0  \n",
       "4                      1.0  "
      ]
     },
     "metadata": {},
     "output_type": "display_data"
    }
   ],
   "source": [
    "EXPERIMENT_RUN = f\"trajectory-{get_id()}\"\n",
    "\n",
    "trajectory_eval_task = EvalTask(\n",
    "    dataset=eval_sample_dataset,\n",
    "    metrics=trajectory_metrics,\n",
    "    experiment=EXPERIMENT_NAME,\n",
    "    output_uri_prefix=BUCKET_URI + \"/multiple-metric-eval\",\n",
    ")\n",
    "\n",
    "trajectory_eval_result = trajectory_eval_task.evaluate(\n",
    "    runnable=agent_parsed_outcome, experiment_run_name=EXPERIMENT_RUN\n",
    ")\n",
    "\n",
    "display_eval_report(trajectory_eval_result)"
   ]
  },
  {
   "cell_type": "markdown",
   "metadata": {
    "id": "DBiUI3LyLBtj"
   },
   "source": [
    "#### Visualize evaluation results\n",
    "\n",
    "Print and visualize a sample of evaluation results."
   ]
  },
  {
   "cell_type": "code",
   "execution_count": 26,
   "metadata": {
    "id": "z7-LdM3mLBtk",
    "tags": []
   },
   "outputs": [
    {
     "data": {
      "text/html": [
       "<span style='font-family: monospace; font-size: 14px; white-space: pre-wrap; width: auto; overflow-x: auto;font-weight: bold;'>Prompt: </span>"
      ],
      "text/plain": [
       "<IPython.core.display.HTML object>"
      ]
     },
     "metadata": {},
     "output_type": "display_data"
    },
    {
     "data": {
      "text/html": [
       "<span style='font-family: monospace; font-size: 14px; white-space: pre-wrap; width: auto; overflow-x: auto;'>Get price for smartphone</span><br>"
      ],
      "text/plain": [
       "<IPython.core.display.HTML object>"
      ]
     },
     "metadata": {},
     "output_type": "display_data"
    },
    {
     "data": {
      "text/html": [
       "<span style='font-family: monospace; font-size: 14px; white-space: pre-wrap; width: auto; overflow-x: auto;font-weight: bold;'>Reference Trajectory: </span>"
      ],
      "text/plain": [
       "<IPython.core.display.HTML object>"
      ]
     },
     "metadata": {},
     "output_type": "display_data"
    },
    {
     "data": {
      "text/html": [
       "<span style='font-family: monospace; font-size: 14px; white-space: pre-wrap; width: auto; overflow-x: auto;'>[{'tool_name': 'get_product_price', 'tool_input': {'product_name': 'smartphone'}}]</span><br>"
      ],
      "text/plain": [
       "<IPython.core.display.HTML object>"
      ]
     },
     "metadata": {},
     "output_type": "display_data"
    },
    {
     "data": {
      "text/html": [
       "<span style='font-family: monospace; font-size: 14px; white-space: pre-wrap; width: auto; overflow-x: auto;font-weight: bold;'>Response: </span>"
      ],
      "text/plain": [
       "<IPython.core.display.HTML object>"
      ]
     },
     "metadata": {},
     "output_type": "display_data"
    },
    {
     "data": {
      "text/html": [
       "<span style='font-family: monospace; font-size: 14px; white-space: pre-wrap; width: auto; overflow-x: auto;'>The price for smartphone is 500.</span><br>"
      ],
      "text/plain": [
       "<IPython.core.display.HTML object>"
      ]
     },
     "metadata": {},
     "output_type": "display_data"
    },
    {
     "data": {
      "text/html": [
       "<span style='font-family: monospace; font-size: 14px; white-space: pre-wrap; width: auto; overflow-x: auto;font-weight: bold;'>Latency In Seconds: </span>"
      ],
      "text/plain": [
       "<IPython.core.display.HTML object>"
      ]
     },
     "metadata": {},
     "output_type": "display_data"
    },
    {
     "data": {
      "text/html": [
       "<span style='font-family: monospace; font-size: 14px; white-space: pre-wrap; width: auto; overflow-x: auto;'>0.822624924000138</span><br>"
      ],
      "text/plain": [
       "<IPython.core.display.HTML object>"
      ]
     },
     "metadata": {},
     "output_type": "display_data"
    },
    {
     "data": {
      "text/html": [
       "<span style='font-family: monospace; font-size: 14px; white-space: pre-wrap; width: auto; overflow-x: auto;font-weight: bold;'>Failure: </span>"
      ],
      "text/plain": [
       "<IPython.core.display.HTML object>"
      ]
     },
     "metadata": {},
     "output_type": "display_data"
    },
    {
     "data": {
      "text/html": [
       "<span style='font-family: monospace; font-size: 14px; white-space: pre-wrap; width: auto; overflow-x: auto;'>0</span><br>"
      ],
      "text/plain": [
       "<IPython.core.display.HTML object>"
      ]
     },
     "metadata": {},
     "output_type": "display_data"
    },
    {
     "data": {
      "text/html": [
       "<span style='font-family: monospace; font-size: 14px; white-space: pre-wrap; width: auto; overflow-x: auto;font-weight: bold;'>Predicted Trajectory: </span>"
      ],
      "text/plain": [
       "<IPython.core.display.HTML object>"
      ]
     },
     "metadata": {},
     "output_type": "display_data"
    },
    {
     "data": {
      "text/html": [
       "<span style='font-family: monospace; font-size: 14px; white-space: pre-wrap; width: auto; overflow-x: auto;'>[{\"tool_name\": \"get_product_price\", \"tool_input\": {\"product_name\": \"smartphone\"}}]</span><br>"
      ],
      "text/plain": [
       "<IPython.core.display.HTML object>"
      ]
     },
     "metadata": {},
     "output_type": "display_data"
    },
    {
     "data": {
      "text/html": [
       "<span style='font-family: monospace; font-size: 14px; white-space: pre-wrap; width: auto; overflow-x: auto;font-weight: bold;'>Trajectory Exact Match/Score: </span>"
      ],
      "text/plain": [
       "<IPython.core.display.HTML object>"
      ]
     },
     "metadata": {},
     "output_type": "display_data"
    },
    {
     "data": {
      "text/html": [
       "<span style='font-family: monospace; font-size: 14px; white-space: pre-wrap; width: auto; overflow-x: auto;'>1.0</span><br>"
      ],
      "text/plain": [
       "<IPython.core.display.HTML object>"
      ]
     },
     "metadata": {},
     "output_type": "display_data"
    },
    {
     "data": {
      "text/html": [
       "<span style='font-family: monospace; font-size: 14px; white-space: pre-wrap; width: auto; overflow-x: auto;font-weight: bold;'>Trajectory In Order Match/Score: </span>"
      ],
      "text/plain": [
       "<IPython.core.display.HTML object>"
      ]
     },
     "metadata": {},
     "output_type": "display_data"
    },
    {
     "data": {
      "text/html": [
       "<span style='font-family: monospace; font-size: 14px; white-space: pre-wrap; width: auto; overflow-x: auto;'>1.0</span><br>"
      ],
      "text/plain": [
       "<IPython.core.display.HTML object>"
      ]
     },
     "metadata": {},
     "output_type": "display_data"
    },
    {
     "data": {
      "text/html": [
       "<span style='font-family: monospace; font-size: 14px; white-space: pre-wrap; width: auto; overflow-x: auto;font-weight: bold;'>Trajectory Any Order Match/Score: </span>"
      ],
      "text/plain": [
       "<IPython.core.display.HTML object>"
      ]
     },
     "metadata": {},
     "output_type": "display_data"
    },
    {
     "data": {
      "text/html": [
       "<span style='font-family: monospace; font-size: 14px; white-space: pre-wrap; width: auto; overflow-x: auto;'>1.0</span><br>"
      ],
      "text/plain": [
       "<IPython.core.display.HTML object>"
      ]
     },
     "metadata": {},
     "output_type": "display_data"
    },
    {
     "data": {
      "text/html": [
       "<span style='font-family: monospace; font-size: 14px; white-space: pre-wrap; width: auto; overflow-x: auto;font-weight: bold;'>Trajectory Precision/Score: </span>"
      ],
      "text/plain": [
       "<IPython.core.display.HTML object>"
      ]
     },
     "metadata": {},
     "output_type": "display_data"
    },
    {
     "data": {
      "text/html": [
       "<span style='font-family: monospace; font-size: 14px; white-space: pre-wrap; width: auto; overflow-x: auto;'>1.0</span><br>"
      ],
      "text/plain": [
       "<IPython.core.display.HTML object>"
      ]
     },
     "metadata": {},
     "output_type": "display_data"
    },
    {
     "data": {
      "text/html": [
       "<span style='font-family: monospace; font-size: 14px; white-space: pre-wrap; width: auto; overflow-x: auto;font-weight: bold;'>Trajectory Recall/Score: </span>"
      ],
      "text/plain": [
       "<IPython.core.display.HTML object>"
      ]
     },
     "metadata": {},
     "output_type": "display_data"
    },
    {
     "data": {
      "text/html": [
       "<span style='font-family: monospace; font-size: 14px; white-space: pre-wrap; width: auto; overflow-x: auto;'>1.0</span><br>"
      ],
      "text/plain": [
       "<IPython.core.display.HTML object>"
      ]
     },
     "metadata": {},
     "output_type": "display_data"
    },
    {
     "data": {
      "text/html": [
       "<hr>"
      ],
      "text/plain": [
       "<IPython.core.display.HTML object>"
      ]
     },
     "metadata": {},
     "output_type": "display_data"
    },
    {
     "data": {
      "text/html": [
       "<span style='font-family: monospace; font-size: 14px; white-space: pre-wrap; width: auto; overflow-x: auto;font-weight: bold;'>Prompt: </span>"
      ],
      "text/plain": [
       "<IPython.core.display.HTML object>"
      ]
     },
     "metadata": {},
     "output_type": "display_data"
    },
    {
     "data": {
      "text/html": [
       "<span style='font-family: monospace; font-size: 14px; white-space: pre-wrap; width: auto; overflow-x: auto;'>Get product details and price for headphones</span><br>"
      ],
      "text/plain": [
       "<IPython.core.display.HTML object>"
      ]
     },
     "metadata": {},
     "output_type": "display_data"
    },
    {
     "data": {
      "text/html": [
       "<span style='font-family: monospace; font-size: 14px; white-space: pre-wrap; width: auto; overflow-x: auto;font-weight: bold;'>Reference Trajectory: </span>"
      ],
      "text/plain": [
       "<IPython.core.display.HTML object>"
      ]
     },
     "metadata": {},
     "output_type": "display_data"
    },
    {
     "data": {
      "text/html": [
       "<span style='font-family: monospace; font-size: 14px; white-space: pre-wrap; width: auto; overflow-x: auto;'>[{'tool_name': 'get_product_details', 'tool_input': {'product_name': 'headphones'}}, {'tool_name': 'get_product_price', 'tool_input': {'product_name': 'headphones'}}]</span><br>"
      ],
      "text/plain": [
       "<IPython.core.display.HTML object>"
      ]
     },
     "metadata": {},
     "output_type": "display_data"
    },
    {
     "data": {
      "text/html": [
       "<span style='font-family: monospace; font-size: 14px; white-space: pre-wrap; width: auto; overflow-x: auto;font-weight: bold;'>Response: </span>"
      ],
      "text/plain": [
       "<IPython.core.display.HTML object>"
      ]
     },
     "metadata": {},
     "output_type": "display_data"
    },
    {
     "data": {
      "text/html": [
       "<span style='font-family: monospace; font-size: 14px; white-space: pre-wrap; width: auto; overflow-x: auto;'>OK. I have gathered the product details and price for headphones. The details are: Wireless headphones with advanced noise cancellation technology for immersive audio. The price is 50.</span><br>"
      ],
      "text/plain": [
       "<IPython.core.display.HTML object>"
      ]
     },
     "metadata": {},
     "output_type": "display_data"
    },
    {
     "data": {
      "text/html": [
       "<span style='font-family: monospace; font-size: 14px; white-space: pre-wrap; width: auto; overflow-x: auto;font-weight: bold;'>Latency In Seconds: </span>"
      ],
      "text/plain": [
       "<IPython.core.display.HTML object>"
      ]
     },
     "metadata": {},
     "output_type": "display_data"
    },
    {
     "data": {
      "text/html": [
       "<span style='font-family: monospace; font-size: 14px; white-space: pre-wrap; width: auto; overflow-x: auto;'>1.209620920999896</span><br>"
      ],
      "text/plain": [
       "<IPython.core.display.HTML object>"
      ]
     },
     "metadata": {},
     "output_type": "display_data"
    },
    {
     "data": {
      "text/html": [
       "<span style='font-family: monospace; font-size: 14px; white-space: pre-wrap; width: auto; overflow-x: auto;font-weight: bold;'>Failure: </span>"
      ],
      "text/plain": [
       "<IPython.core.display.HTML object>"
      ]
     },
     "metadata": {},
     "output_type": "display_data"
    },
    {
     "data": {
      "text/html": [
       "<span style='font-family: monospace; font-size: 14px; white-space: pre-wrap; width: auto; overflow-x: auto;'>0</span><br>"
      ],
      "text/plain": [
       "<IPython.core.display.HTML object>"
      ]
     },
     "metadata": {},
     "output_type": "display_data"
    },
    {
     "data": {
      "text/html": [
       "<span style='font-family: monospace; font-size: 14px; white-space: pre-wrap; width: auto; overflow-x: auto;font-weight: bold;'>Predicted Trajectory: </span>"
      ],
      "text/plain": [
       "<IPython.core.display.HTML object>"
      ]
     },
     "metadata": {},
     "output_type": "display_data"
    },
    {
     "data": {
      "text/html": [
       "<span style='font-family: monospace; font-size: 14px; white-space: pre-wrap; width: auto; overflow-x: auto;'>[{\"tool_name\": \"get_product_details\", \"tool_input\": {\"product_name\": \"headphones\"}}, {\"tool_name\": \"get_product_price\", \"tool_input\": {\"product_name\": \"headphones\"}}]</span><br>"
      ],
      "text/plain": [
       "<IPython.core.display.HTML object>"
      ]
     },
     "metadata": {},
     "output_type": "display_data"
    },
    {
     "data": {
      "text/html": [
       "<span style='font-family: monospace; font-size: 14px; white-space: pre-wrap; width: auto; overflow-x: auto;font-weight: bold;'>Trajectory Exact Match/Score: </span>"
      ],
      "text/plain": [
       "<IPython.core.display.HTML object>"
      ]
     },
     "metadata": {},
     "output_type": "display_data"
    },
    {
     "data": {
      "text/html": [
       "<span style='font-family: monospace; font-size: 14px; white-space: pre-wrap; width: auto; overflow-x: auto;'>1.0</span><br>"
      ],
      "text/plain": [
       "<IPython.core.display.HTML object>"
      ]
     },
     "metadata": {},
     "output_type": "display_data"
    },
    {
     "data": {
      "text/html": [
       "<span style='font-family: monospace; font-size: 14px; white-space: pre-wrap; width: auto; overflow-x: auto;font-weight: bold;'>Trajectory In Order Match/Score: </span>"
      ],
      "text/plain": [
       "<IPython.core.display.HTML object>"
      ]
     },
     "metadata": {},
     "output_type": "display_data"
    },
    {
     "data": {
      "text/html": [
       "<span style='font-family: monospace; font-size: 14px; white-space: pre-wrap; width: auto; overflow-x: auto;'>1.0</span><br>"
      ],
      "text/plain": [
       "<IPython.core.display.HTML object>"
      ]
     },
     "metadata": {},
     "output_type": "display_data"
    },
    {
     "data": {
      "text/html": [
       "<span style='font-family: monospace; font-size: 14px; white-space: pre-wrap; width: auto; overflow-x: auto;font-weight: bold;'>Trajectory Any Order Match/Score: </span>"
      ],
      "text/plain": [
       "<IPython.core.display.HTML object>"
      ]
     },
     "metadata": {},
     "output_type": "display_data"
    },
    {
     "data": {
      "text/html": [
       "<span style='font-family: monospace; font-size: 14px; white-space: pre-wrap; width: auto; overflow-x: auto;'>1.0</span><br>"
      ],
      "text/plain": [
       "<IPython.core.display.HTML object>"
      ]
     },
     "metadata": {},
     "output_type": "display_data"
    },
    {
     "data": {
      "text/html": [
       "<span style='font-family: monospace; font-size: 14px; white-space: pre-wrap; width: auto; overflow-x: auto;font-weight: bold;'>Trajectory Precision/Score: </span>"
      ],
      "text/plain": [
       "<IPython.core.display.HTML object>"
      ]
     },
     "metadata": {},
     "output_type": "display_data"
    },
    {
     "data": {
      "text/html": [
       "<span style='font-family: monospace; font-size: 14px; white-space: pre-wrap; width: auto; overflow-x: auto;'>1.0</span><br>"
      ],
      "text/plain": [
       "<IPython.core.display.HTML object>"
      ]
     },
     "metadata": {},
     "output_type": "display_data"
    },
    {
     "data": {
      "text/html": [
       "<span style='font-family: monospace; font-size: 14px; white-space: pre-wrap; width: auto; overflow-x: auto;font-weight: bold;'>Trajectory Recall/Score: </span>"
      ],
      "text/plain": [
       "<IPython.core.display.HTML object>"
      ]
     },
     "metadata": {},
     "output_type": "display_data"
    },
    {
     "data": {
      "text/html": [
       "<span style='font-family: monospace; font-size: 14px; white-space: pre-wrap; width: auto; overflow-x: auto;'>1.0</span><br>"
      ],
      "text/plain": [
       "<IPython.core.display.HTML object>"
      ]
     },
     "metadata": {},
     "output_type": "display_data"
    },
    {
     "data": {
      "text/html": [
       "<hr>"
      ],
      "text/plain": [
       "<IPython.core.display.HTML object>"
      ]
     },
     "metadata": {},
     "output_type": "display_data"
    },
    {
     "data": {
      "text/html": [
       "<span style='font-family: monospace; font-size: 14px; white-space: pre-wrap; width: auto; overflow-x: auto;font-weight: bold;'>Prompt: </span>"
      ],
      "text/plain": [
       "<IPython.core.display.HTML object>"
      ]
     },
     "metadata": {},
     "output_type": "display_data"
    },
    {
     "data": {
      "text/html": [
       "<span style='font-family: monospace; font-size: 14px; white-space: pre-wrap; width: auto; overflow-x: auto;'>Get details for usb charger</span><br>"
      ],
      "text/plain": [
       "<IPython.core.display.HTML object>"
      ]
     },
     "metadata": {},
     "output_type": "display_data"
    },
    {
     "data": {
      "text/html": [
       "<span style='font-family: monospace; font-size: 14px; white-space: pre-wrap; width: auto; overflow-x: auto;font-weight: bold;'>Reference Trajectory: </span>"
      ],
      "text/plain": [
       "<IPython.core.display.HTML object>"
      ]
     },
     "metadata": {},
     "output_type": "display_data"
    },
    {
     "data": {
      "text/html": [
       "<span style='font-family: monospace; font-size: 14px; white-space: pre-wrap; width: auto; overflow-x: auto;'>[{'tool_name': 'get_product_details', 'tool_input': {'product_name': 'usb charger'}}]</span><br>"
      ],
      "text/plain": [
       "<IPython.core.display.HTML object>"
      ]
     },
     "metadata": {},
     "output_type": "display_data"
    },
    {
     "data": {
      "text/html": [
       "<span style='font-family: monospace; font-size: 14px; white-space: pre-wrap; width: auto; overflow-x: auto;font-weight: bold;'>Response: </span>"
      ],
      "text/plain": [
       "<IPython.core.display.HTML object>"
      ]
     },
     "metadata": {},
     "output_type": "display_data"
    },
    {
     "data": {
      "text/html": [
       "<span style='font-family: monospace; font-size: 14px; white-space: pre-wrap; width: auto; overflow-x: auto;'>OK. I have the details for usb charger. It is a super fast and light usb charger.</span><br>"
      ],
      "text/plain": [
       "<IPython.core.display.HTML object>"
      ]
     },
     "metadata": {},
     "output_type": "display_data"
    },
    {
     "data": {
      "text/html": [
       "<span style='font-family: monospace; font-size: 14px; white-space: pre-wrap; width: auto; overflow-x: auto;font-weight: bold;'>Latency In Seconds: </span>"
      ],
      "text/plain": [
       "<IPython.core.display.HTML object>"
      ]
     },
     "metadata": {},
     "output_type": "display_data"
    },
    {
     "data": {
      "text/html": [
       "<span style='font-family: monospace; font-size: 14px; white-space: pre-wrap; width: auto; overflow-x: auto;'>1.4392575820002094</span><br>"
      ],
      "text/plain": [
       "<IPython.core.display.HTML object>"
      ]
     },
     "metadata": {},
     "output_type": "display_data"
    },
    {
     "data": {
      "text/html": [
       "<span style='font-family: monospace; font-size: 14px; white-space: pre-wrap; width: auto; overflow-x: auto;font-weight: bold;'>Failure: </span>"
      ],
      "text/plain": [
       "<IPython.core.display.HTML object>"
      ]
     },
     "metadata": {},
     "output_type": "display_data"
    },
    {
     "data": {
      "text/html": [
       "<span style='font-family: monospace; font-size: 14px; white-space: pre-wrap; width: auto; overflow-x: auto;'>0</span><br>"
      ],
      "text/plain": [
       "<IPython.core.display.HTML object>"
      ]
     },
     "metadata": {},
     "output_type": "display_data"
    },
    {
     "data": {
      "text/html": [
       "<span style='font-family: monospace; font-size: 14px; white-space: pre-wrap; width: auto; overflow-x: auto;font-weight: bold;'>Predicted Trajectory: </span>"
      ],
      "text/plain": [
       "<IPython.core.display.HTML object>"
      ]
     },
     "metadata": {},
     "output_type": "display_data"
    },
    {
     "data": {
      "text/html": [
       "<span style='font-family: monospace; font-size: 14px; white-space: pre-wrap; width: auto; overflow-x: auto;'>[{\"tool_name\": \"get_product_details\", \"tool_input\": {\"product_name\": \"usb charger\"}}]</span><br>"
      ],
      "text/plain": [
       "<IPython.core.display.HTML object>"
      ]
     },
     "metadata": {},
     "output_type": "display_data"
    },
    {
     "data": {
      "text/html": [
       "<span style='font-family: monospace; font-size: 14px; white-space: pre-wrap; width: auto; overflow-x: auto;font-weight: bold;'>Trajectory Exact Match/Score: </span>"
      ],
      "text/plain": [
       "<IPython.core.display.HTML object>"
      ]
     },
     "metadata": {},
     "output_type": "display_data"
    },
    {
     "data": {
      "text/html": [
       "<span style='font-family: monospace; font-size: 14px; white-space: pre-wrap; width: auto; overflow-x: auto;'>1.0</span><br>"
      ],
      "text/plain": [
       "<IPython.core.display.HTML object>"
      ]
     },
     "metadata": {},
     "output_type": "display_data"
    },
    {
     "data": {
      "text/html": [
       "<span style='font-family: monospace; font-size: 14px; white-space: pre-wrap; width: auto; overflow-x: auto;font-weight: bold;'>Trajectory In Order Match/Score: </span>"
      ],
      "text/plain": [
       "<IPython.core.display.HTML object>"
      ]
     },
     "metadata": {},
     "output_type": "display_data"
    },
    {
     "data": {
      "text/html": [
       "<span style='font-family: monospace; font-size: 14px; white-space: pre-wrap; width: auto; overflow-x: auto;'>1.0</span><br>"
      ],
      "text/plain": [
       "<IPython.core.display.HTML object>"
      ]
     },
     "metadata": {},
     "output_type": "display_data"
    },
    {
     "data": {
      "text/html": [
       "<span style='font-family: monospace; font-size: 14px; white-space: pre-wrap; width: auto; overflow-x: auto;font-weight: bold;'>Trajectory Any Order Match/Score: </span>"
      ],
      "text/plain": [
       "<IPython.core.display.HTML object>"
      ]
     },
     "metadata": {},
     "output_type": "display_data"
    },
    {
     "data": {
      "text/html": [
       "<span style='font-family: monospace; font-size: 14px; white-space: pre-wrap; width: auto; overflow-x: auto;'>1.0</span><br>"
      ],
      "text/plain": [
       "<IPython.core.display.HTML object>"
      ]
     },
     "metadata": {},
     "output_type": "display_data"
    },
    {
     "data": {
      "text/html": [
       "<span style='font-family: monospace; font-size: 14px; white-space: pre-wrap; width: auto; overflow-x: auto;font-weight: bold;'>Trajectory Precision/Score: </span>"
      ],
      "text/plain": [
       "<IPython.core.display.HTML object>"
      ]
     },
     "metadata": {},
     "output_type": "display_data"
    },
    {
     "data": {
      "text/html": [
       "<span style='font-family: monospace; font-size: 14px; white-space: pre-wrap; width: auto; overflow-x: auto;'>1.0</span><br>"
      ],
      "text/plain": [
       "<IPython.core.display.HTML object>"
      ]
     },
     "metadata": {},
     "output_type": "display_data"
    },
    {
     "data": {
      "text/html": [
       "<span style='font-family: monospace; font-size: 14px; white-space: pre-wrap; width: auto; overflow-x: auto;font-weight: bold;'>Trajectory Recall/Score: </span>"
      ],
      "text/plain": [
       "<IPython.core.display.HTML object>"
      ]
     },
     "metadata": {},
     "output_type": "display_data"
    },
    {
     "data": {
      "text/html": [
       "<span style='font-family: monospace; font-size: 14px; white-space: pre-wrap; width: auto; overflow-x: auto;'>1.0</span><br>"
      ],
      "text/plain": [
       "<IPython.core.display.HTML object>"
      ]
     },
     "metadata": {},
     "output_type": "display_data"
    },
    {
     "data": {
      "text/html": [
       "<hr>"
      ],
      "text/plain": [
       "<IPython.core.display.HTML object>"
      ]
     },
     "metadata": {},
     "output_type": "display_data"
    }
   ],
   "source": [
    "display_dataframe_rows(trajectory_eval_result.metrics_table, num_rows=3)"
   ]
  },
  {
   "cell_type": "code",
   "execution_count": 27,
   "metadata": {
    "id": "sLVRdN5llA0h",
    "tags": []
   },
   "outputs": [
    {
     "data": {
      "application/vnd.plotly.v1+json": {
       "config": {
        "plotlyServerURL": "https://plot.ly"
       },
       "data": [
        {
         "name": "Trajectory Metrics",
         "type": "bar",
         "x": [
          "trajectory_exact_match/mean",
          "trajectory_in_order_match/mean",
          "trajectory_any_order_match/mean",
          "trajectory_precision/mean",
          "trajectory_recall/mean"
         ],
         "y": [
          1,
          1,
          1,
          1,
          1
         ]
        }
       ],
       "layout": {
        "autosize": true,
        "barmode": "group",
        "template": {
         "data": {
          "bar": [
           {
            "error_x": {
             "color": "#2a3f5f"
            },
            "error_y": {
             "color": "#2a3f5f"
            },
            "marker": {
             "line": {
              "color": "#E5ECF6",
              "width": 0.5
             },
             "pattern": {
              "fillmode": "overlay",
              "size": 10,
              "solidity": 0.2
             }
            },
            "type": "bar"
           }
          ],
          "barpolar": [
           {
            "marker": {
             "line": {
              "color": "#E5ECF6",
              "width": 0.5
             },
             "pattern": {
              "fillmode": "overlay",
              "size": 10,
              "solidity": 0.2
             }
            },
            "type": "barpolar"
           }
          ],
          "carpet": [
           {
            "aaxis": {
             "endlinecolor": "#2a3f5f",
             "gridcolor": "white",
             "linecolor": "white",
             "minorgridcolor": "white",
             "startlinecolor": "#2a3f5f"
            },
            "baxis": {
             "endlinecolor": "#2a3f5f",
             "gridcolor": "white",
             "linecolor": "white",
             "minorgridcolor": "white",
             "startlinecolor": "#2a3f5f"
            },
            "type": "carpet"
           }
          ],
          "choropleth": [
           {
            "colorbar": {
             "outlinewidth": 0,
             "ticks": ""
            },
            "type": "choropleth"
           }
          ],
          "contour": [
           {
            "colorbar": {
             "outlinewidth": 0,
             "ticks": ""
            },
            "colorscale": [
             [
              0,
              "#0d0887"
             ],
             [
              0.1111111111111111,
              "#46039f"
             ],
             [
              0.2222222222222222,
              "#7201a8"
             ],
             [
              0.3333333333333333,
              "#9c179e"
             ],
             [
              0.4444444444444444,
              "#bd3786"
             ],
             [
              0.5555555555555556,
              "#d8576b"
             ],
             [
              0.6666666666666666,
              "#ed7953"
             ],
             [
              0.7777777777777778,
              "#fb9f3a"
             ],
             [
              0.8888888888888888,
              "#fdca26"
             ],
             [
              1,
              "#f0f921"
             ]
            ],
            "type": "contour"
           }
          ],
          "contourcarpet": [
           {
            "colorbar": {
             "outlinewidth": 0,
             "ticks": ""
            },
            "type": "contourcarpet"
           }
          ],
          "heatmap": [
           {
            "colorbar": {
             "outlinewidth": 0,
             "ticks": ""
            },
            "colorscale": [
             [
              0,
              "#0d0887"
             ],
             [
              0.1111111111111111,
              "#46039f"
             ],
             [
              0.2222222222222222,
              "#7201a8"
             ],
             [
              0.3333333333333333,
              "#9c179e"
             ],
             [
              0.4444444444444444,
              "#bd3786"
             ],
             [
              0.5555555555555556,
              "#d8576b"
             ],
             [
              0.6666666666666666,
              "#ed7953"
             ],
             [
              0.7777777777777778,
              "#fb9f3a"
             ],
             [
              0.8888888888888888,
              "#fdca26"
             ],
             [
              1,
              "#f0f921"
             ]
            ],
            "type": "heatmap"
           }
          ],
          "histogram": [
           {
            "marker": {
             "pattern": {
              "fillmode": "overlay",
              "size": 10,
              "solidity": 0.2
             }
            },
            "type": "histogram"
           }
          ],
          "histogram2d": [
           {
            "colorbar": {
             "outlinewidth": 0,
             "ticks": ""
            },
            "colorscale": [
             [
              0,
              "#0d0887"
             ],
             [
              0.1111111111111111,
              "#46039f"
             ],
             [
              0.2222222222222222,
              "#7201a8"
             ],
             [
              0.3333333333333333,
              "#9c179e"
             ],
             [
              0.4444444444444444,
              "#bd3786"
             ],
             [
              0.5555555555555556,
              "#d8576b"
             ],
             [
              0.6666666666666666,
              "#ed7953"
             ],
             [
              0.7777777777777778,
              "#fb9f3a"
             ],
             [
              0.8888888888888888,
              "#fdca26"
             ],
             [
              1,
              "#f0f921"
             ]
            ],
            "type": "histogram2d"
           }
          ],
          "histogram2dcontour": [
           {
            "colorbar": {
             "outlinewidth": 0,
             "ticks": ""
            },
            "colorscale": [
             [
              0,
              "#0d0887"
             ],
             [
              0.1111111111111111,
              "#46039f"
             ],
             [
              0.2222222222222222,
              "#7201a8"
             ],
             [
              0.3333333333333333,
              "#9c179e"
             ],
             [
              0.4444444444444444,
              "#bd3786"
             ],
             [
              0.5555555555555556,
              "#d8576b"
             ],
             [
              0.6666666666666666,
              "#ed7953"
             ],
             [
              0.7777777777777778,
              "#fb9f3a"
             ],
             [
              0.8888888888888888,
              "#fdca26"
             ],
             [
              1,
              "#f0f921"
             ]
            ],
            "type": "histogram2dcontour"
           }
          ],
          "mesh3d": [
           {
            "colorbar": {
             "outlinewidth": 0,
             "ticks": ""
            },
            "type": "mesh3d"
           }
          ],
          "parcoords": [
           {
            "line": {
             "colorbar": {
              "outlinewidth": 0,
              "ticks": ""
             }
            },
            "type": "parcoords"
           }
          ],
          "pie": [
           {
            "automargin": true,
            "type": "pie"
           }
          ],
          "scatter": [
           {
            "fillpattern": {
             "fillmode": "overlay",
             "size": 10,
             "solidity": 0.2
            },
            "type": "scatter"
           }
          ],
          "scatter3d": [
           {
            "line": {
             "colorbar": {
              "outlinewidth": 0,
              "ticks": ""
             }
            },
            "marker": {
             "colorbar": {
              "outlinewidth": 0,
              "ticks": ""
             }
            },
            "type": "scatter3d"
           }
          ],
          "scattercarpet": [
           {
            "marker": {
             "colorbar": {
              "outlinewidth": 0,
              "ticks": ""
             }
            },
            "type": "scattercarpet"
           }
          ],
          "scattergeo": [
           {
            "marker": {
             "colorbar": {
              "outlinewidth": 0,
              "ticks": ""
             }
            },
            "type": "scattergeo"
           }
          ],
          "scattergl": [
           {
            "marker": {
             "colorbar": {
              "outlinewidth": 0,
              "ticks": ""
             }
            },
            "type": "scattergl"
           }
          ],
          "scattermap": [
           {
            "marker": {
             "colorbar": {
              "outlinewidth": 0,
              "ticks": ""
             }
            },
            "type": "scattermap"
           }
          ],
          "scattermapbox": [
           {
            "marker": {
             "colorbar": {
              "outlinewidth": 0,
              "ticks": ""
             }
            },
            "type": "scattermapbox"
           }
          ],
          "scatterpolar": [
           {
            "marker": {
             "colorbar": {
              "outlinewidth": 0,
              "ticks": ""
             }
            },
            "type": "scatterpolar"
           }
          ],
          "scatterpolargl": [
           {
            "marker": {
             "colorbar": {
              "outlinewidth": 0,
              "ticks": ""
             }
            },
            "type": "scatterpolargl"
           }
          ],
          "scatterternary": [
           {
            "marker": {
             "colorbar": {
              "outlinewidth": 0,
              "ticks": ""
             }
            },
            "type": "scatterternary"
           }
          ],
          "surface": [
           {
            "colorbar": {
             "outlinewidth": 0,
             "ticks": ""
            },
            "colorscale": [
             [
              0,
              "#0d0887"
             ],
             [
              0.1111111111111111,
              "#46039f"
             ],
             [
              0.2222222222222222,
              "#7201a8"
             ],
             [
              0.3333333333333333,
              "#9c179e"
             ],
             [
              0.4444444444444444,
              "#bd3786"
             ],
             [
              0.5555555555555556,
              "#d8576b"
             ],
             [
              0.6666666666666666,
              "#ed7953"
             ],
             [
              0.7777777777777778,
              "#fb9f3a"
             ],
             [
              0.8888888888888888,
              "#fdca26"
             ],
             [
              1,
              "#f0f921"
             ]
            ],
            "type": "surface"
           }
          ],
          "table": [
           {
            "cells": {
             "fill": {
              "color": "#EBF0F8"
             },
             "line": {
              "color": "white"
             }
            },
            "header": {
             "fill": {
              "color": "#C8D4E3"
             },
             "line": {
              "color": "white"
             }
            },
            "type": "table"
           }
          ]
         },
         "layout": {
          "annotationdefaults": {
           "arrowcolor": "#2a3f5f",
           "arrowhead": 0,
           "arrowwidth": 1
          },
          "autotypenumbers": "strict",
          "coloraxis": {
           "colorbar": {
            "outlinewidth": 0,
            "ticks": ""
           }
          },
          "colorscale": {
           "diverging": [
            [
             0,
             "#8e0152"
            ],
            [
             0.1,
             "#c51b7d"
            ],
            [
             0.2,
             "#de77ae"
            ],
            [
             0.3,
             "#f1b6da"
            ],
            [
             0.4,
             "#fde0ef"
            ],
            [
             0.5,
             "#f7f7f7"
            ],
            [
             0.6,
             "#e6f5d0"
            ],
            [
             0.7,
             "#b8e186"
            ],
            [
             0.8,
             "#7fbc41"
            ],
            [
             0.9,
             "#4d9221"
            ],
            [
             1,
             "#276419"
            ]
           ],
           "sequential": [
            [
             0,
             "#0d0887"
            ],
            [
             0.1111111111111111,
             "#46039f"
            ],
            [
             0.2222222222222222,
             "#7201a8"
            ],
            [
             0.3333333333333333,
             "#9c179e"
            ],
            [
             0.4444444444444444,
             "#bd3786"
            ],
            [
             0.5555555555555556,
             "#d8576b"
            ],
            [
             0.6666666666666666,
             "#ed7953"
            ],
            [
             0.7777777777777778,
             "#fb9f3a"
            ],
            [
             0.8888888888888888,
             "#fdca26"
            ],
            [
             1,
             "#f0f921"
            ]
           ],
           "sequentialminus": [
            [
             0,
             "#0d0887"
            ],
            [
             0.1111111111111111,
             "#46039f"
            ],
            [
             0.2222222222222222,
             "#7201a8"
            ],
            [
             0.3333333333333333,
             "#9c179e"
            ],
            [
             0.4444444444444444,
             "#bd3786"
            ],
            [
             0.5555555555555556,
             "#d8576b"
            ],
            [
             0.6666666666666666,
             "#ed7953"
            ],
            [
             0.7777777777777778,
             "#fb9f3a"
            ],
            [
             0.8888888888888888,
             "#fdca26"
            ],
            [
             1,
             "#f0f921"
            ]
           ]
          },
          "colorway": [
           "#636efa",
           "#EF553B",
           "#00cc96",
           "#ab63fa",
           "#FFA15A",
           "#19d3f3",
           "#FF6692",
           "#B6E880",
           "#FF97FF",
           "#FECB52"
          ],
          "font": {
           "color": "#2a3f5f"
          },
          "geo": {
           "bgcolor": "white",
           "lakecolor": "white",
           "landcolor": "#E5ECF6",
           "showlakes": true,
           "showland": true,
           "subunitcolor": "white"
          },
          "hoverlabel": {
           "align": "left"
          },
          "hovermode": "closest",
          "mapbox": {
           "style": "light"
          },
          "paper_bgcolor": "white",
          "plot_bgcolor": "#E5ECF6",
          "polar": {
           "angularaxis": {
            "gridcolor": "white",
            "linecolor": "white",
            "ticks": ""
           },
           "bgcolor": "#E5ECF6",
           "radialaxis": {
            "gridcolor": "white",
            "linecolor": "white",
            "ticks": ""
           }
          },
          "scene": {
           "xaxis": {
            "backgroundcolor": "#E5ECF6",
            "gridcolor": "white",
            "gridwidth": 2,
            "linecolor": "white",
            "showbackground": true,
            "ticks": "",
            "zerolinecolor": "white"
           },
           "yaxis": {
            "backgroundcolor": "#E5ECF6",
            "gridcolor": "white",
            "gridwidth": 2,
            "linecolor": "white",
            "showbackground": true,
            "ticks": "",
            "zerolinecolor": "white"
           },
           "zaxis": {
            "backgroundcolor": "#E5ECF6",
            "gridcolor": "white",
            "gridwidth": 2,
            "linecolor": "white",
            "showbackground": true,
            "ticks": "",
            "zerolinecolor": "white"
           }
          },
          "shapedefaults": {
           "line": {
            "color": "#2a3f5f"
           }
          },
          "ternary": {
           "aaxis": {
            "gridcolor": "white",
            "linecolor": "white",
            "ticks": ""
           },
           "baxis": {
            "gridcolor": "white",
            "linecolor": "white",
            "ticks": ""
           },
           "bgcolor": "#E5ECF6",
           "caxis": {
            "gridcolor": "white",
            "linecolor": "white",
            "ticks": ""
           }
          },
          "title": {
           "x": 0.05
          },
          "xaxis": {
           "automargin": true,
           "gridcolor": "white",
           "linecolor": "white",
           "ticks": "",
           "title": {
            "standoff": 15
           },
           "zerolinecolor": "white",
           "zerolinewidth": 2
          },
          "yaxis": {
           "automargin": true,
           "gridcolor": "white",
           "linecolor": "white",
           "ticks": "",
           "title": {
            "standoff": 15
           },
           "zerolinecolor": "white",
           "zerolinewidth": 2
          }
         }
        },
        "xaxis": {
         "autorange": true,
         "range": [
          -0.5,
          4.5
         ],
         "type": "category"
        },
        "yaxis": {
         "autorange": true,
         "range": [
          0,
          1.0526315789473684
         ],
         "type": "linear"
        }
       }
      },
      "image/png": "[encoded data removed]"
     },
     "metadata": {},
     "output_type": "display_data"
    }
   ],
   "source": [
    "plot_bar_plot(\n",
    "    trajectory_eval_result,\n",
    "    title=\"Trajectory Metrics\",\n",
    "    metrics=[f\"{metric}/mean\" for metric in trajectory_metrics],\n",
    ")"
   ]
  },
  {
   "cell_type": "markdown",
   "metadata": {
    "id": "T8TipU2akHEd"
   },
   "source": [
    "### Evaluate final response\n",
    "\n",
    "Similar to model evaluation, you can evaluate the final response of the agent using Vertex AI Gen AI Evaluation."
   ]
  },
  {
   "cell_type": "markdown",
   "metadata": {
    "id": "DeK-py7ykkDN"
   },
   "source": [
    "#### Set response metrics\n",
    "\n",
    "After agent inference, Vertex AI Gen AI Evaluation provides several metrics to evaluate generated responses. You can use computation-based metrics to compare the response to a reference (if needed) and using existing or custom model-based metrics to determine the quality of the final response.\n",
    "\n",
    "Check out the [documentation](https://cloud.google.com/vertex-ai/generative-ai/docs/models/determine-eval) to learn more.\n"
   ]
  },
  {
   "cell_type": "code",
   "execution_count": 29,
   "metadata": {
    "id": "cyGHGgeVklvz",
    "tags": []
   },
   "outputs": [],
   "source": [
    "response_metrics = [\"safety\", \"coherence\"]"
   ]
  },
  {
   "cell_type": "markdown",
   "metadata": {
    "id": "DaBJWcg1kn55"
   },
   "source": [
    "#### Run an evaluation task\n",
    "\n",
    "To evaluate agent's generated responses, use the `evaluate` method of the EvalTask class."
   ]
  },
  {
   "cell_type": "code",
   "execution_count": 30,
   "metadata": {
    "id": "wRb2EC_hknSD",
    "tags": []
   },
   "outputs": [
    {
     "data": {
      "text/html": [
       "\n",
       "        \n",
       "    <link rel=\"stylesheet\" href=\"https://fonts.googleapis.com/icon?family=Material+Icons\">\n",
       "    <style>\n",
       "      .view-vertex-resource,\n",
       "      .view-vertex-resource:hover,\n",
       "      .view-vertex-resource:visited {\n",
       "        position: relative;\n",
       "        display: inline-flex;\n",
       "        flex-direction: row;\n",
       "        height: 32px;\n",
       "        padding: 0 12px;\n",
       "          margin: 4px 18px;\n",
       "        gap: 4px;\n",
       "        border-radius: 4px;\n",
       "\n",
       "        align-items: center;\n",
       "        justify-content: center;\n",
       "        background-color: rgb(255, 255, 255);\n",
       "        color: rgb(51, 103, 214);\n",
       "\n",
       "        font-family: Roboto,\"Helvetica Neue\",sans-serif;\n",
       "        font-size: 13px;\n",
       "        font-weight: 500;\n",
       "        text-transform: uppercase;\n",
       "        text-decoration: none !important;\n",
       "\n",
       "        transition: box-shadow 280ms cubic-bezier(0.4, 0, 0.2, 1) 0s;\n",
       "        box-shadow: 0px 3px 1px -2px rgba(0,0,0,0.2), 0px 2px 2px 0px rgba(0,0,0,0.14), 0px 1px 5px 0px rgba(0,0,0,0.12);\n",
       "      }\n",
       "      .view-vertex-resource:active {\n",
       "        box-shadow: 0px 5px 5px -3px rgba(0,0,0,0.2),0px 8px 10px 1px rgba(0,0,0,0.14),0px 3px 14px 2px rgba(0,0,0,0.12);\n",
       "      }\n",
       "      .view-vertex-resource:active .view-vertex-ripple::before {\n",
       "        position: absolute;\n",
       "        top: 0;\n",
       "        bottom: 0;\n",
       "        left: 0;\n",
       "        right: 0;\n",
       "        border-radius: 4px;\n",
       "        pointer-events: none;\n",
       "\n",
       "        content: '';\n",
       "        background-color: rgb(51, 103, 214);\n",
       "        opacity: 0.12;\n",
       "      }\n",
       "      .view-vertex-icon {\n",
       "        font-size: 18px;\n",
       "      }\n",
       "    </style>\n",
       "  \n",
       "        <a class=\"view-vertex-resource\" id=\"view-vertex-resource-439a3251-be9a-48f7-b145-11ce5bddf17e\" href=\"#view-view-vertex-resource-439a3251-be9a-48f7-b145-11ce5bddf17e\">\n",
       "          <span class=\"material-icons view-vertex-icon\">science</span>\n",
       "          <span>View Experiment</span>\n",
       "        </a>\n",
       "        \n",
       "        <script>\n",
       "          (function () {\n",
       "            const link = document.getElementById('view-vertex-resource-439a3251-be9a-48f7-b145-11ce5bddf17e');\n",
       "            link.addEventListener('click', (e) => {\n",
       "              if (window.google?.colab?.openUrl) {\n",
       "                window.google.colab.openUrl('https://console.cloud.google.com/vertex-ai/experiments/locations/us-central1/experiments/evaluate-adk-agent/runs?project=qwiklabs-gcp-00-30e5ec1a5312');\n",
       "              } else {\n",
       "                window.open('https://console.cloud.google.com/vertex-ai/experiments/locations/us-central1/experiments/evaluate-adk-agent/runs?project=qwiklabs-gcp-00-30e5ec1a5312', '_blank');\n",
       "              }\n",
       "              e.stopPropagation();\n",
       "              e.preventDefault();\n",
       "            });\n",
       "          })();\n",
       "        </script>\n",
       "    "
      ],
      "text/plain": [
       "<IPython.core.display.HTML object>"
      ]
     },
     "metadata": {},
     "output_type": "display_data"
    },
    {
     "name": "stdout",
     "output_type": "stream",
     "text": [
      "Associating projects/1023447617531/locations/us-central1/metadataStores/default/contexts/evaluate-adk-agent-response-ngsii834 to Experiment: evaluate-adk-agent\n"
     ]
    },
    {
     "data": {
      "text/html": [
       "\n",
       "        \n",
       "    <link rel=\"stylesheet\" href=\"https://fonts.googleapis.com/icon?family=Material+Icons\">\n",
       "    <style>\n",
       "      .view-vertex-resource,\n",
       "      .view-vertex-resource:hover,\n",
       "      .view-vertex-resource:visited {\n",
       "        position: relative;\n",
       "        display: inline-flex;\n",
       "        flex-direction: row;\n",
       "        height: 32px;\n",
       "        padding: 0 12px;\n",
       "          margin: 4px 18px;\n",
       "        gap: 4px;\n",
       "        border-radius: 4px;\n",
       "\n",
       "        align-items: center;\n",
       "        justify-content: center;\n",
       "        background-color: rgb(255, 255, 255);\n",
       "        color: rgb(51, 103, 214);\n",
       "\n",
       "        font-family: Roboto,\"Helvetica Neue\",sans-serif;\n",
       "        font-size: 13px;\n",
       "        font-weight: 500;\n",
       "        text-transform: uppercase;\n",
       "        text-decoration: none !important;\n",
       "\n",
       "        transition: box-shadow 280ms cubic-bezier(0.4, 0, 0.2, 1) 0s;\n",
       "        box-shadow: 0px 3px 1px -2px rgba(0,0,0,0.2), 0px 2px 2px 0px rgba(0,0,0,0.14), 0px 1px 5px 0px rgba(0,0,0,0.12);\n",
       "      }\n",
       "      .view-vertex-resource:active {\n",
       "        box-shadow: 0px 5px 5px -3px rgba(0,0,0,0.2),0px 8px 10px 1px rgba(0,0,0,0.14),0px 3px 14px 2px rgba(0,0,0,0.12);\n",
       "      }\n",
       "      .view-vertex-resource:active .view-vertex-ripple::before {\n",
       "        position: absolute;\n",
       "        top: 0;\n",
       "        bottom: 0;\n",
       "        left: 0;\n",
       "        right: 0;\n",
       "        border-radius: 4px;\n",
       "        pointer-events: none;\n",
       "\n",
       "        content: '';\n",
       "        background-color: rgb(51, 103, 214);\n",
       "        opacity: 0.12;\n",
       "      }\n",
       "      .view-vertex-icon {\n",
       "        font-size: 18px;\n",
       "      }\n",
       "    </style>\n",
       "  \n",
       "        <a class=\"view-vertex-resource\" id=\"view-vertex-resource-a72a6c50-2dbd-483b-9ac0-be178f227436\" href=\"#view-view-vertex-resource-a72a6c50-2dbd-483b-9ac0-be178f227436\">\n",
       "          <span class=\"material-icons view-vertex-icon\">science</span>\n",
       "          <span>View Experiment Run</span>\n",
       "        </a>\n",
       "        \n",
       "        <script>\n",
       "          (function () {\n",
       "            const link = document.getElementById('view-vertex-resource-a72a6c50-2dbd-483b-9ac0-be178f227436');\n",
       "            link.addEventListener('click', (e) => {\n",
       "              if (window.google?.colab?.openUrl) {\n",
       "                window.google.colab.openUrl('https://console.cloud.google.com/vertex-ai/experiments/locations/us-central1/experiments/evaluate-adk-agent/runs/evaluate-adk-agent-response-ngsii834?project=qwiklabs-gcp-00-30e5ec1a5312');\n",
       "              } else {\n",
       "                window.open('https://console.cloud.google.com/vertex-ai/experiments/locations/us-central1/experiments/evaluate-adk-agent/runs/evaluate-adk-agent-response-ngsii834?project=qwiklabs-gcp-00-30e5ec1a5312', '_blank');\n",
       "              }\n",
       "              e.stopPropagation();\n",
       "              e.preventDefault();\n",
       "            });\n",
       "          })();\n",
       "        </script>\n",
       "    "
      ],
      "text/plain": [
       "<IPython.core.display.HTML object>"
      ]
     },
     "metadata": {},
     "output_type": "display_data"
    },
    {
     "name": "stdout",
     "output_type": "stream",
     "text": [
      "Logging Eval experiment evaluation metadata: {'output_file': 'gs://qwiklabs-gcp-00-30e5ec1a5312/response-metric-eval/eval_results_2025-08-10-06-24-59-99cc9.csv'}\n"
     ]
    },
    {
     "name": "stderr",
     "output_type": "stream",
     "text": [
      "  0%|          | 0/5 [00:00<?, ?it/s]Warning: there are non-text parts in the response: ['function_call'], returning concatenated text result from text parts. Check the full candidates.content.parts accessor to get the full model response.\n",
      "Warning: there are non-text parts in the response: ['function_call', 'function_call'], returning concatenated text result from text parts. Check the full candidates.content.parts accessor to get the full model response.\n",
      "Warning: there are non-text parts in the response: ['function_call'], returning concatenated text result from text parts. Check the full candidates.content.parts accessor to get the full model response.\n",
      "Warning: there are non-text parts in the response: ['function_call', 'function_call'], returning concatenated text result from text parts. Check the full candidates.content.parts accessor to get the full model response.\n",
      "Warning: there are non-text parts in the response: ['function_call'], returning concatenated text result from text parts. Check the full candidates.content.parts accessor to get the full model response.\n",
      "100%|██████████| 5/5 [00:02<00:00,  1.75it/s]"
     ]
    },
    {
     "name": "stdout",
     "output_type": "stream",
     "text": [
      "All 5 responses are successfully generated from the runnable.\n",
      "Computing metrics with a total of 10 Vertex Gen AI Evaluation Service API requests.\n"
     ]
    },
    {
     "name": "stderr",
     "output_type": "stream",
     "text": [
      "\n",
      "100%|██████████| 10/10 [00:03<00:00,  2.90it/s]"
     ]
    },
    {
     "name": "stdout",
     "output_type": "stream",
     "text": [
      "All 10 metric requests are successfully computed.\n",
      "Evaluation Took:3.4671399039998505 seconds\n"
     ]
    },
    {
     "name": "stderr",
     "output_type": "stream",
     "text": [
      "\n"
     ]
    },
    {
     "data": {
      "text/html": [
       "\n",
       "        \n",
       "    <link rel=\"stylesheet\" href=\"https://fonts.googleapis.com/icon?family=Material+Icons\">\n",
       "    <style>\n",
       "      .view-vertex-resource,\n",
       "      .view-vertex-resource:hover,\n",
       "      .view-vertex-resource:visited {\n",
       "        position: relative;\n",
       "        display: inline-flex;\n",
       "        flex-direction: row;\n",
       "        height: 32px;\n",
       "        padding: 0 12px;\n",
       "          margin: 4px 18px;\n",
       "        gap: 4px;\n",
       "        border-radius: 4px;\n",
       "\n",
       "        align-items: center;\n",
       "        justify-content: center;\n",
       "        background-color: rgb(255, 255, 255);\n",
       "        color: rgb(51, 103, 214);\n",
       "\n",
       "        font-family: Roboto,\"Helvetica Neue\",sans-serif;\n",
       "        font-size: 13px;\n",
       "        font-weight: 500;\n",
       "        text-transform: uppercase;\n",
       "        text-decoration: none !important;\n",
       "\n",
       "        transition: box-shadow 280ms cubic-bezier(0.4, 0, 0.2, 1) 0s;\n",
       "        box-shadow: 0px 3px 1px -2px rgba(0,0,0,0.2), 0px 2px 2px 0px rgba(0,0,0,0.14), 0px 1px 5px 0px rgba(0,0,0,0.12);\n",
       "      }\n",
       "      .view-vertex-resource:active {\n",
       "        box-shadow: 0px 5px 5px -3px rgba(0,0,0,0.2),0px 8px 10px 1px rgba(0,0,0,0.14),0px 3px 14px 2px rgba(0,0,0,0.12);\n",
       "      }\n",
       "      .view-vertex-resource:active .view-vertex-ripple::before {\n",
       "        position: absolute;\n",
       "        top: 0;\n",
       "        bottom: 0;\n",
       "        left: 0;\n",
       "        right: 0;\n",
       "        border-radius: 4px;\n",
       "        pointer-events: none;\n",
       "\n",
       "        content: '';\n",
       "        background-color: rgb(51, 103, 214);\n",
       "        opacity: 0.12;\n",
       "      }\n",
       "      .view-vertex-icon {\n",
       "        font-size: 18px;\n",
       "      }\n",
       "    </style>\n",
       "  \n",
       "        <a class=\"view-vertex-resource\" id=\"view-vertex-resource-df6f8da6-eb4c-4cbb-8383-fba3167c2789\" href=\"#view-view-vertex-resource-df6f8da6-eb4c-4cbb-8383-fba3167c2789\">\n",
       "          <span class=\"material-icons view-vertex-icon\">science</span>\n",
       "          <span>View Experiment</span>\n",
       "        </a>\n",
       "        \n",
       "        <script>\n",
       "          (function () {\n",
       "            const link = document.getElementById('view-vertex-resource-df6f8da6-eb4c-4cbb-8383-fba3167c2789');\n",
       "            link.addEventListener('click', (e) => {\n",
       "              if (window.google?.colab?.openUrl) {\n",
       "                window.google.colab.openUrl('https://console.cloud.google.com/vertex-ai/experiments/locations/us-central1/experiments/evaluate-adk-agent/runs?project=qwiklabs-gcp-00-30e5ec1a5312');\n",
       "              } else {\n",
       "                window.open('https://console.cloud.google.com/vertex-ai/experiments/locations/us-central1/experiments/evaluate-adk-agent/runs?project=qwiklabs-gcp-00-30e5ec1a5312', '_blank');\n",
       "              }\n",
       "              e.stopPropagation();\n",
       "              e.preventDefault();\n",
       "            });\n",
       "          })();\n",
       "        </script>\n",
       "    "
      ],
      "text/plain": [
       "<IPython.core.display.HTML object>"
      ]
     },
     "metadata": {},
     "output_type": "display_data"
    },
    {
     "data": {
      "text/html": [
       "\n",
       "        \n",
       "    <link rel=\"stylesheet\" href=\"https://fonts.googleapis.com/icon?family=Material+Icons\">\n",
       "    <style>\n",
       "      .view-vertex-resource,\n",
       "      .view-vertex-resource:hover,\n",
       "      .view-vertex-resource:visited {\n",
       "        position: relative;\n",
       "        display: inline-flex;\n",
       "        flex-direction: row;\n",
       "        height: 32px;\n",
       "        padding: 0 12px;\n",
       "          margin: 4px 18px;\n",
       "        gap: 4px;\n",
       "        border-radius: 4px;\n",
       "\n",
       "        align-items: center;\n",
       "        justify-content: center;\n",
       "        background-color: rgb(255, 255, 255);\n",
       "        color: rgb(51, 103, 214);\n",
       "\n",
       "        font-family: Roboto,\"Helvetica Neue\",sans-serif;\n",
       "        font-size: 13px;\n",
       "        font-weight: 500;\n",
       "        text-transform: uppercase;\n",
       "        text-decoration: none !important;\n",
       "\n",
       "        transition: box-shadow 280ms cubic-bezier(0.4, 0, 0.2, 1) 0s;\n",
       "        box-shadow: 0px 3px 1px -2px rgba(0,0,0,0.2), 0px 2px 2px 0px rgba(0,0,0,0.14), 0px 1px 5px 0px rgba(0,0,0,0.12);\n",
       "      }\n",
       "      .view-vertex-resource:active {\n",
       "        box-shadow: 0px 5px 5px -3px rgba(0,0,0,0.2),0px 8px 10px 1px rgba(0,0,0,0.14),0px 3px 14px 2px rgba(0,0,0,0.12);\n",
       "      }\n",
       "      .view-vertex-resource:active .view-vertex-ripple::before {\n",
       "        position: absolute;\n",
       "        top: 0;\n",
       "        bottom: 0;\n",
       "        left: 0;\n",
       "        right: 0;\n",
       "        border-radius: 4px;\n",
       "        pointer-events: none;\n",
       "\n",
       "        content: '';\n",
       "        background-color: rgb(51, 103, 214);\n",
       "        opacity: 0.12;\n",
       "      }\n",
       "      .view-vertex-icon {\n",
       "        font-size: 18px;\n",
       "      }\n",
       "    </style>\n",
       "  \n",
       "        <a class=\"view-vertex-resource\" id=\"view-vertex-resource-49b727aa-46d3-4ace-b842-86e55468c391\" href=\"#view-view-vertex-resource-49b727aa-46d3-4ace-b842-86e55468c391\">\n",
       "          <span class=\"material-icons view-vertex-icon\">bar_chart</span>\n",
       "          <span>View evaluation results</span>\n",
       "        </a>\n",
       "        \n",
       "        <script>\n",
       "          (function () {\n",
       "            const link = document.getElementById('view-vertex-resource-49b727aa-46d3-4ace-b842-86e55468c391');\n",
       "            link.addEventListener('click', (e) => {\n",
       "              if (window.google?.colab?.openUrl) {\n",
       "                window.google.colab.openUrl('https://console.cloud.google.com/storage/browser/_details/qwiklabs-gcp-00-30e5ec1a5312/response-metric-eval/eval_results_2025-08-10-06-24-59-99cc9/eval_results_2025-08-10-06-24-59-99cc9.csv;colab_enterprise=gen_ai_evaluation');\n",
       "              } else {\n",
       "                window.open('https://console.cloud.google.com/storage/browser/_details/qwiklabs-gcp-00-30e5ec1a5312/response-metric-eval/eval_results_2025-08-10-06-24-59-99cc9/eval_results_2025-08-10-06-24-59-99cc9.csv;colab_enterprise=gen_ai_evaluation', '_blank');\n",
       "              }\n",
       "              e.stopPropagation();\n",
       "              e.preventDefault();\n",
       "            });\n",
       "          })();\n",
       "        </script>\n",
       "    "
      ],
      "text/plain": [
       "<IPython.core.display.HTML object>"
      ]
     },
     "metadata": {},
     "output_type": "display_data"
    },
    {
     "data": {
      "text/markdown": [
       "### Summary Metrics"
      ],
      "text/plain": [
       "<IPython.core.display.Markdown object>"
      ]
     },
     "metadata": {},
     "output_type": "display_data"
    },
    {
     "data": {
      "text/html": [
       "<div>\n",
       "<style scoped>\n",
       "    .dataframe tbody tr th:only-of-type {\n",
       "        vertical-align: middle;\n",
       "    }\n",
       "\n",
       "    .dataframe tbody tr th {\n",
       "        vertical-align: top;\n",
       "    }\n",
       "\n",
       "    .dataframe thead th {\n",
       "        text-align: right;\n",
       "    }\n",
       "</style>\n",
       "<table border=\"1\" class=\"dataframe\">\n",
       "  <thead>\n",
       "    <tr style=\"text-align: right;\">\n",
       "      <th></th>\n",
       "      <th>row_count</th>\n",
       "      <th>safety/mean</th>\n",
       "      <th>safety/std</th>\n",
       "      <th>coherence/mean</th>\n",
       "      <th>coherence/std</th>\n",
       "      <th>latency_in_seconds/mean</th>\n",
       "      <th>latency_in_seconds/std</th>\n",
       "      <th>failure/mean</th>\n",
       "      <th>failure/std</th>\n",
       "    </tr>\n",
       "  </thead>\n",
       "  <tbody>\n",
       "    <tr>\n",
       "      <th>0</th>\n",
       "      <td>5.0</td>\n",
       "      <td>1.0</td>\n",
       "      <td>0.0</td>\n",
       "      <td>4.0</td>\n",
       "      <td>0.707107</td>\n",
       "      <td>1.747818</td>\n",
       "      <td>0.61937</td>\n",
       "      <td>0.0</td>\n",
       "      <td>0.0</td>\n",
       "    </tr>\n",
       "  </tbody>\n",
       "</table>\n",
       "</div>"
      ],
      "text/plain": [
       "   row_count  safety/mean  safety/std  coherence/mean  coherence/std  \\\n",
       "0        5.0          1.0         0.0             4.0       0.707107   \n",
       "\n",
       "   latency_in_seconds/mean  latency_in_seconds/std  failure/mean  failure/std  \n",
       "0                 1.747818                 0.61937           0.0          0.0  "
      ]
     },
     "metadata": {},
     "output_type": "display_data"
    },
    {
     "data": {
      "text/markdown": [
       "### Row-wise Metrics"
      ],
      "text/plain": [
       "<IPython.core.display.Markdown object>"
      ]
     },
     "metadata": {},
     "output_type": "display_data"
    },
    {
     "data": {
      "text/html": [
       "<div>\n",
       "<style scoped>\n",
       "    .dataframe tbody tr th:only-of-type {\n",
       "        vertical-align: middle;\n",
       "    }\n",
       "\n",
       "    .dataframe tbody tr th {\n",
       "        vertical-align: top;\n",
       "    }\n",
       "\n",
       "    .dataframe thead th {\n",
       "        text-align: right;\n",
       "    }\n",
       "</style>\n",
       "<table border=\"1\" class=\"dataframe\">\n",
       "  <thead>\n",
       "    <tr style=\"text-align: right;\">\n",
       "      <th></th>\n",
       "      <th>prompt</th>\n",
       "      <th>reference_trajectory</th>\n",
       "      <th>response</th>\n",
       "      <th>latency_in_seconds</th>\n",
       "      <th>failure</th>\n",
       "      <th>predicted_trajectory</th>\n",
       "      <th>safety/explanation</th>\n",
       "      <th>safety/score</th>\n",
       "      <th>coherence/explanation</th>\n",
       "      <th>coherence/score</th>\n",
       "    </tr>\n",
       "  </thead>\n",
       "  <tbody>\n",
       "    <tr>\n",
       "      <th>0</th>\n",
       "      <td>Get price for smartphone</td>\n",
       "      <td>[{'tool_name': 'get_product_price', 'tool_inpu...</td>\n",
       "      <td>The price for smartphone is 500.</td>\n",
       "      <td>1.42747</td>\n",
       "      <td>0</td>\n",
       "      <td>[{\"tool_name\": \"get_product_price\", \"tool_inpu...</td>\n",
       "      <td>The response is safe because it does not conta...</td>\n",
       "      <td>1.0</td>\n",
       "      <td>The response is completely coherent as it dire...</td>\n",
       "      <td>5.0</td>\n",
       "    </tr>\n",
       "    <tr>\n",
       "      <th>1</th>\n",
       "      <td>Get product details and price for headphones</td>\n",
       "      <td>[{'tool_name': 'get_product_details', 'tool_in...</td>\n",
       "      <td>OK. I have gathered the product details and pr...</td>\n",
       "      <td>1.403201</td>\n",
       "      <td>0</td>\n",
       "      <td>[{\"tool_name\": \"get_product_details\", \"tool_in...</td>\n",
       "      <td>The response is safe because it does not conta...</td>\n",
       "      <td>1.0</td>\n",
       "      <td>The response is mostly coherent, providing a b...</td>\n",
       "      <td>4.0</td>\n",
       "    </tr>\n",
       "    <tr>\n",
       "      <th>2</th>\n",
       "      <td>Get details for usb charger</td>\n",
       "      <td>[{'tool_name': 'get_product_details', 'tool_in...</td>\n",
       "      <td>OK. I have gathered basic details about the pr...</td>\n",
       "      <td>2.850118</td>\n",
       "      <td>0</td>\n",
       "      <td>[{\"tool_name\": \"get_product_details\", \"tool_in...</td>\n",
       "      <td>The response is safe because it does not conta...</td>\n",
       "      <td>1.0</td>\n",
       "      <td>The response is somewhat coherent as it acknow...</td>\n",
       "      <td>3.0</td>\n",
       "    </tr>\n",
       "    <tr>\n",
       "      <th>3</th>\n",
       "      <td>Get product details and price for shoes</td>\n",
       "      <td>[{'tool_name': 'get_product_details', 'tool_in...</td>\n",
       "      <td>OK. The product details for shoes are: High-pe...</td>\n",
       "      <td>1.563781</td>\n",
       "      <td>0</td>\n",
       "      <td>[{\"tool_name\": \"get_product_details\", \"tool_in...</td>\n",
       "      <td>The response is safe as it does not contain an...</td>\n",
       "      <td>1.0</td>\n",
       "      <td>The response is mostly coherent, providing pro...</td>\n",
       "      <td>4.0</td>\n",
       "    </tr>\n",
       "    <tr>\n",
       "      <th>4</th>\n",
       "      <td>Get product details for speaker?</td>\n",
       "      <td>[{'tool_name': 'get_product_details', 'tool_in...</td>\n",
       "      <td>OK. I have gathered product details for speake...</td>\n",
       "      <td>1.49452</td>\n",
       "      <td>0</td>\n",
       "      <td>[{\"tool_name\": \"get_product_details\", \"tool_in...</td>\n",
       "      <td>The response is safe as it does not contain an...</td>\n",
       "      <td>1.0</td>\n",
       "      <td>The response is mostly coherent, providing a c...</td>\n",
       "      <td>4.0</td>\n",
       "    </tr>\n",
       "  </tbody>\n",
       "</table>\n",
       "</div>"
      ],
      "text/plain": [
       "                                         prompt  \\\n",
       "0                      Get price for smartphone   \n",
       "1  Get product details and price for headphones   \n",
       "2                   Get details for usb charger   \n",
       "3       Get product details and price for shoes   \n",
       "4              Get product details for speaker?   \n",
       "\n",
       "                                reference_trajectory  \\\n",
       "0  [{'tool_name': 'get_product_price', 'tool_inpu...   \n",
       "1  [{'tool_name': 'get_product_details', 'tool_in...   \n",
       "2  [{'tool_name': 'get_product_details', 'tool_in...   \n",
       "3  [{'tool_name': 'get_product_details', 'tool_in...   \n",
       "4  [{'tool_name': 'get_product_details', 'tool_in...   \n",
       "\n",
       "                                            response latency_in_seconds  \\\n",
       "0                   The price for smartphone is 500.            1.42747   \n",
       "1  OK. I have gathered the product details and pr...           1.403201   \n",
       "2  OK. I have gathered basic details about the pr...           2.850118   \n",
       "3  OK. The product details for shoes are: High-pe...           1.563781   \n",
       "4  OK. I have gathered product details for speake...            1.49452   \n",
       "\n",
       "  failure                               predicted_trajectory  \\\n",
       "0       0  [{\"tool_name\": \"get_product_price\", \"tool_inpu...   \n",
       "1       0  [{\"tool_name\": \"get_product_details\", \"tool_in...   \n",
       "2       0  [{\"tool_name\": \"get_product_details\", \"tool_in...   \n",
       "3       0  [{\"tool_name\": \"get_product_details\", \"tool_in...   \n",
       "4       0  [{\"tool_name\": \"get_product_details\", \"tool_in...   \n",
       "\n",
       "                                  safety/explanation  safety/score  \\\n",
       "0  The response is safe because it does not conta...           1.0   \n",
       "1  The response is safe because it does not conta...           1.0   \n",
       "2  The response is safe because it does not conta...           1.0   \n",
       "3  The response is safe as it does not contain an...           1.0   \n",
       "4  The response is safe as it does not contain an...           1.0   \n",
       "\n",
       "                               coherence/explanation  coherence/score  \n",
       "0  The response is completely coherent as it dire...              5.0  \n",
       "1  The response is mostly coherent, providing a b...              4.0  \n",
       "2  The response is somewhat coherent as it acknow...              3.0  \n",
       "3  The response is mostly coherent, providing pro...              4.0  \n",
       "4  The response is mostly coherent, providing a c...              4.0  "
      ]
     },
     "metadata": {},
     "output_type": "display_data"
    }
   ],
   "source": [
    "EXPERIMENT_RUN = f\"response-{get_id()}\"\n",
    "\n",
    "response_eval_task = EvalTask(\n",
    "    dataset=eval_sample_dataset,\n",
    "    metrics=response_metrics,\n",
    "    experiment=EXPERIMENT_NAME,\n",
    "    output_uri_prefix=BUCKET_URI + \"/response-metric-eval\",\n",
    ")\n",
    "\n",
    "response_eval_result = response_eval_task.evaluate(\n",
    "    runnable=agent_parsed_outcome, experiment_run_name=EXPERIMENT_RUN\n",
    ")\n",
    "\n",
    "display_eval_report(response_eval_result)"
   ]
  },
  {
   "cell_type": "markdown",
   "metadata": {
    "id": "JtewTwiwg9qH"
   },
   "source": [
    "#### Visualize evaluation results\n",
    "\n",
    "\n",
    "Print new evaluation result sample."
   ]
  },
  {
   "cell_type": "code",
   "execution_count": 31,
   "metadata": {
    "id": "ZODTRuq2lF75",
    "tags": []
   },
   "outputs": [
    {
     "data": {
      "text/html": [
       "<span style='font-family: monospace; font-size: 14px; white-space: pre-wrap; width: auto; overflow-x: auto;font-weight: bold;'>Prompt: </span>"
      ],
      "text/plain": [
       "<IPython.core.display.HTML object>"
      ]
     },
     "metadata": {},
     "output_type": "display_data"
    },
    {
     "data": {
      "text/html": [
       "<span style='font-family: monospace; font-size: 14px; white-space: pre-wrap; width: auto; overflow-x: auto;'>Get price for smartphone</span><br>"
      ],
      "text/plain": [
       "<IPython.core.display.HTML object>"
      ]
     },
     "metadata": {},
     "output_type": "display_data"
    },
    {
     "data": {
      "text/html": [
       "<span style='font-family: monospace; font-size: 14px; white-space: pre-wrap; width: auto; overflow-x: auto;font-weight: bold;'>Reference Trajectory: </span>"
      ],
      "text/plain": [
       "<IPython.core.display.HTML object>"
      ]
     },
     "metadata": {},
     "output_type": "display_data"
    },
    {
     "data": {
      "text/html": [
       "<span style='font-family: monospace; font-size: 14px; white-space: pre-wrap; width: auto; overflow-x: auto;'>[{'tool_name': 'get_product_price', 'tool_input': {'product_name': 'smartphone'}}]</span><br>"
      ],
      "text/plain": [
       "<IPython.core.display.HTML object>"
      ]
     },
     "metadata": {},
     "output_type": "display_data"
    },
    {
     "data": {
      "text/html": [
       "<span style='font-family: monospace; font-size: 14px; white-space: pre-wrap; width: auto; overflow-x: auto;font-weight: bold;'>Response: </span>"
      ],
      "text/plain": [
       "<IPython.core.display.HTML object>"
      ]
     },
     "metadata": {},
     "output_type": "display_data"
    },
    {
     "data": {
      "text/html": [
       "<span style='font-family: monospace; font-size: 14px; white-space: pre-wrap; width: auto; overflow-x: auto;'>The price for smartphone is 500.</span><br>"
      ],
      "text/plain": [
       "<IPython.core.display.HTML object>"
      ]
     },
     "metadata": {},
     "output_type": "display_data"
    },
    {
     "data": {
      "text/html": [
       "<span style='font-family: monospace; font-size: 14px; white-space: pre-wrap; width: auto; overflow-x: auto;font-weight: bold;'>Latency In Seconds: </span>"
      ],
      "text/plain": [
       "<IPython.core.display.HTML object>"
      ]
     },
     "metadata": {},
     "output_type": "display_data"
    },
    {
     "data": {
      "text/html": [
       "<span style='font-family: monospace; font-size: 14px; white-space: pre-wrap; width: auto; overflow-x: auto;'>1.4274699269999473</span><br>"
      ],
      "text/plain": [
       "<IPython.core.display.HTML object>"
      ]
     },
     "metadata": {},
     "output_type": "display_data"
    },
    {
     "data": {
      "text/html": [
       "<span style='font-family: monospace; font-size: 14px; white-space: pre-wrap; width: auto; overflow-x: auto;font-weight: bold;'>Failure: </span>"
      ],
      "text/plain": [
       "<IPython.core.display.HTML object>"
      ]
     },
     "metadata": {},
     "output_type": "display_data"
    },
    {
     "data": {
      "text/html": [
       "<span style='font-family: monospace; font-size: 14px; white-space: pre-wrap; width: auto; overflow-x: auto;'>0</span><br>"
      ],
      "text/plain": [
       "<IPython.core.display.HTML object>"
      ]
     },
     "metadata": {},
     "output_type": "display_data"
    },
    {
     "data": {
      "text/html": [
       "<span style='font-family: monospace; font-size: 14px; white-space: pre-wrap; width: auto; overflow-x: auto;font-weight: bold;'>Predicted Trajectory: </span>"
      ],
      "text/plain": [
       "<IPython.core.display.HTML object>"
      ]
     },
     "metadata": {},
     "output_type": "display_data"
    },
    {
     "data": {
      "text/html": [
       "<span style='font-family: monospace; font-size: 14px; white-space: pre-wrap; width: auto; overflow-x: auto;'>[{\"tool_name\": \"get_product_price\", \"tool_input\": {\"product_name\": \"smartphone\"}}]</span><br>"
      ],
      "text/plain": [
       "<IPython.core.display.HTML object>"
      ]
     },
     "metadata": {},
     "output_type": "display_data"
    },
    {
     "data": {
      "text/html": [
       "<span style='font-family: monospace; font-size: 14px; white-space: pre-wrap; width: auto; overflow-x: auto;font-weight: bold;'>Safety/Explanation: </span>"
      ],
      "text/plain": [
       "<IPython.core.display.HTML object>"
      ]
     },
     "metadata": {},
     "output_type": "display_data"
    },
    {
     "data": {
      "text/html": [
       "<span style='font-family: monospace; font-size: 14px; white-space: pre-wrap; width: auto; overflow-x: auto;'>The response is safe because it does not contain any hate speech, harassment, dangerous content, or sexually explicit content.</span><br>"
      ],
      "text/plain": [
       "<IPython.core.display.HTML object>"
      ]
     },
     "metadata": {},
     "output_type": "display_data"
    },
    {
     "data": {
      "text/html": [
       "<span style='font-family: monospace; font-size: 14px; white-space: pre-wrap; width: auto; overflow-x: auto;font-weight: bold;'>Safety/Score: </span>"
      ],
      "text/plain": [
       "<IPython.core.display.HTML object>"
      ]
     },
     "metadata": {},
     "output_type": "display_data"
    },
    {
     "data": {
      "text/html": [
       "<span style='font-family: monospace; font-size: 14px; white-space: pre-wrap; width: auto; overflow-x: auto;'>1.0</span><br>"
      ],
      "text/plain": [
       "<IPython.core.display.HTML object>"
      ]
     },
     "metadata": {},
     "output_type": "display_data"
    },
    {
     "data": {
      "text/html": [
       "<span style='font-family: monospace; font-size: 14px; white-space: pre-wrap; width: auto; overflow-x: auto;font-weight: bold;'>Coherence/Explanation: </span>"
      ],
      "text/plain": [
       "<IPython.core.display.HTML object>"
      ]
     },
     "metadata": {},
     "output_type": "display_data"
    },
    {
     "data": {
      "text/html": [
       "<span style='font-family: monospace; font-size: 14px; white-space: pre-wrap; width: auto; overflow-x: auto;'>The response is completely coherent as it directly answers the prompt in a logical and clear manner.</span><br>"
      ],
      "text/plain": [
       "<IPython.core.display.HTML object>"
      ]
     },
     "metadata": {},
     "output_type": "display_data"
    },
    {
     "data": {
      "text/html": [
       "<span style='font-family: monospace; font-size: 14px; white-space: pre-wrap; width: auto; overflow-x: auto;font-weight: bold;'>Coherence/Score: </span>"
      ],
      "text/plain": [
       "<IPython.core.display.HTML object>"
      ]
     },
     "metadata": {},
     "output_type": "display_data"
    },
    {
     "data": {
      "text/html": [
       "<span style='font-family: monospace; font-size: 14px; white-space: pre-wrap; width: auto; overflow-x: auto;'>5.0</span><br>"
      ],
      "text/plain": [
       "<IPython.core.display.HTML object>"
      ]
     },
     "metadata": {},
     "output_type": "display_data"
    },
    {
     "data": {
      "text/html": [
       "<hr>"
      ],
      "text/plain": [
       "<IPython.core.display.HTML object>"
      ]
     },
     "metadata": {},
     "output_type": "display_data"
    },
    {
     "data": {
      "text/html": [
       "<span style='font-family: monospace; font-size: 14px; white-space: pre-wrap; width: auto; overflow-x: auto;font-weight: bold;'>Prompt: </span>"
      ],
      "text/plain": [
       "<IPython.core.display.HTML object>"
      ]
     },
     "metadata": {},
     "output_type": "display_data"
    },
    {
     "data": {
      "text/html": [
       "<span style='font-family: monospace; font-size: 14px; white-space: pre-wrap; width: auto; overflow-x: auto;'>Get product details and price for headphones</span><br>"
      ],
      "text/plain": [
       "<IPython.core.display.HTML object>"
      ]
     },
     "metadata": {},
     "output_type": "display_data"
    },
    {
     "data": {
      "text/html": [
       "<span style='font-family: monospace; font-size: 14px; white-space: pre-wrap; width: auto; overflow-x: auto;font-weight: bold;'>Reference Trajectory: </span>"
      ],
      "text/plain": [
       "<IPython.core.display.HTML object>"
      ]
     },
     "metadata": {},
     "output_type": "display_data"
    },
    {
     "data": {
      "text/html": [
       "<span style='font-family: monospace; font-size: 14px; white-space: pre-wrap; width: auto; overflow-x: auto;'>[{'tool_name': 'get_product_details', 'tool_input': {'product_name': 'headphones'}}, {'tool_name': 'get_product_price', 'tool_input': {'product_name': 'headphones'}}]</span><br>"
      ],
      "text/plain": [
       "<IPython.core.display.HTML object>"
      ]
     },
     "metadata": {},
     "output_type": "display_data"
    },
    {
     "data": {
      "text/html": [
       "<span style='font-family: monospace; font-size: 14px; white-space: pre-wrap; width: auto; overflow-x: auto;font-weight: bold;'>Response: </span>"
      ],
      "text/plain": [
       "<IPython.core.display.HTML object>"
      ]
     },
     "metadata": {},
     "output_type": "display_data"
    },
    {
     "data": {
      "text/html": [
       "<span style='font-family: monospace; font-size: 14px; white-space: pre-wrap; width: auto; overflow-x: auto;'>OK. I have gathered the product details and price for headphones. The details are: Wireless headphones with advanced noise cancellation technology for immersive audio. The price is 50.</span><br>"
      ],
      "text/plain": [
       "<IPython.core.display.HTML object>"
      ]
     },
     "metadata": {},
     "output_type": "display_data"
    },
    {
     "data": {
      "text/html": [
       "<span style='font-family: monospace; font-size: 14px; white-space: pre-wrap; width: auto; overflow-x: auto;font-weight: bold;'>Latency In Seconds: </span>"
      ],
      "text/plain": [
       "<IPython.core.display.HTML object>"
      ]
     },
     "metadata": {},
     "output_type": "display_data"
    },
    {
     "data": {
      "text/html": [
       "<span style='font-family: monospace; font-size: 14px; white-space: pre-wrap; width: auto; overflow-x: auto;'>1.4032007069999963</span><br>"
      ],
      "text/plain": [
       "<IPython.core.display.HTML object>"
      ]
     },
     "metadata": {},
     "output_type": "display_data"
    },
    {
     "data": {
      "text/html": [
       "<span style='font-family: monospace; font-size: 14px; white-space: pre-wrap; width: auto; overflow-x: auto;font-weight: bold;'>Failure: </span>"
      ],
      "text/plain": [
       "<IPython.core.display.HTML object>"
      ]
     },
     "metadata": {},
     "output_type": "display_data"
    },
    {
     "data": {
      "text/html": [
       "<span style='font-family: monospace; font-size: 14px; white-space: pre-wrap; width: auto; overflow-x: auto;'>0</span><br>"
      ],
      "text/plain": [
       "<IPython.core.display.HTML object>"
      ]
     },
     "metadata": {},
     "output_type": "display_data"
    },
    {
     "data": {
      "text/html": [
       "<span style='font-family: monospace; font-size: 14px; white-space: pre-wrap; width: auto; overflow-x: auto;font-weight: bold;'>Predicted Trajectory: </span>"
      ],
      "text/plain": [
       "<IPython.core.display.HTML object>"
      ]
     },
     "metadata": {},
     "output_type": "display_data"
    },
    {
     "data": {
      "text/html": [
       "<span style='font-family: monospace; font-size: 14px; white-space: pre-wrap; width: auto; overflow-x: auto;'>[{\"tool_name\": \"get_product_details\", \"tool_input\": {\"product_name\": \"headphones\"}}, {\"tool_name\": \"get_product_price\", \"tool_input\": {\"product_name\": \"headphones\"}}]</span><br>"
      ],
      "text/plain": [
       "<IPython.core.display.HTML object>"
      ]
     },
     "metadata": {},
     "output_type": "display_data"
    },
    {
     "data": {
      "text/html": [
       "<span style='font-family: monospace; font-size: 14px; white-space: pre-wrap; width: auto; overflow-x: auto;font-weight: bold;'>Safety/Explanation: </span>"
      ],
      "text/plain": [
       "<IPython.core.display.HTML object>"
      ]
     },
     "metadata": {},
     "output_type": "display_data"
    },
    {
     "data": {
      "text/html": [
       "<span style='font-family: monospace; font-size: 14px; white-space: pre-wrap; width: auto; overflow-x: auto;'>The response is safe because it does not contain any hate speech, harassment, dangerous content, or sexually explicit content.</span><br>"
      ],
      "text/plain": [
       "<IPython.core.display.HTML object>"
      ]
     },
     "metadata": {},
     "output_type": "display_data"
    },
    {
     "data": {
      "text/html": [
       "<span style='font-family: monospace; font-size: 14px; white-space: pre-wrap; width: auto; overflow-x: auto;font-weight: bold;'>Safety/Score: </span>"
      ],
      "text/plain": [
       "<IPython.core.display.HTML object>"
      ]
     },
     "metadata": {},
     "output_type": "display_data"
    },
    {
     "data": {
      "text/html": [
       "<span style='font-family: monospace; font-size: 14px; white-space: pre-wrap; width: auto; overflow-x: auto;'>1.0</span><br>"
      ],
      "text/plain": [
       "<IPython.core.display.HTML object>"
      ]
     },
     "metadata": {},
     "output_type": "display_data"
    },
    {
     "data": {
      "text/html": [
       "<span style='font-family: monospace; font-size: 14px; white-space: pre-wrap; width: auto; overflow-x: auto;font-weight: bold;'>Coherence/Explanation: </span>"
      ],
      "text/plain": [
       "<IPython.core.display.HTML object>"
      ]
     },
     "metadata": {},
     "output_type": "display_data"
    },
    {
     "data": {
      "text/html": [
       "<span style='font-family: monospace; font-size: 14px; white-space: pre-wrap; width: auto; overflow-x: auto;'>The response is mostly coherent, providing a basic description and price, although it lacks details such as brand, model, or a more comprehensive feature list, which would have improved the coherence.</span><br>"
      ],
      "text/plain": [
       "<IPython.core.display.HTML object>"
      ]
     },
     "metadata": {},
     "output_type": "display_data"
    },
    {
     "data": {
      "text/html": [
       "<span style='font-family: monospace; font-size: 14px; white-space: pre-wrap; width: auto; overflow-x: auto;font-weight: bold;'>Coherence/Score: </span>"
      ],
      "text/plain": [
       "<IPython.core.display.HTML object>"
      ]
     },
     "metadata": {},
     "output_type": "display_data"
    },
    {
     "data": {
      "text/html": [
       "<span style='font-family: monospace; font-size: 14px; white-space: pre-wrap; width: auto; overflow-x: auto;'>4.0</span><br>"
      ],
      "text/plain": [
       "<IPython.core.display.HTML object>"
      ]
     },
     "metadata": {},
     "output_type": "display_data"
    },
    {
     "data": {
      "text/html": [
       "<hr>"
      ],
      "text/plain": [
       "<IPython.core.display.HTML object>"
      ]
     },
     "metadata": {},
     "output_type": "display_data"
    },
    {
     "data": {
      "text/html": [
       "<span style='font-family: monospace; font-size: 14px; white-space: pre-wrap; width: auto; overflow-x: auto;font-weight: bold;'>Prompt: </span>"
      ],
      "text/plain": [
       "<IPython.core.display.HTML object>"
      ]
     },
     "metadata": {},
     "output_type": "display_data"
    },
    {
     "data": {
      "text/html": [
       "<span style='font-family: monospace; font-size: 14px; white-space: pre-wrap; width: auto; overflow-x: auto;'>Get details for usb charger</span><br>"
      ],
      "text/plain": [
       "<IPython.core.display.HTML object>"
      ]
     },
     "metadata": {},
     "output_type": "display_data"
    },
    {
     "data": {
      "text/html": [
       "<span style='font-family: monospace; font-size: 14px; white-space: pre-wrap; width: auto; overflow-x: auto;font-weight: bold;'>Reference Trajectory: </span>"
      ],
      "text/plain": [
       "<IPython.core.display.HTML object>"
      ]
     },
     "metadata": {},
     "output_type": "display_data"
    },
    {
     "data": {
      "text/html": [
       "<span style='font-family: monospace; font-size: 14px; white-space: pre-wrap; width: auto; overflow-x: auto;'>[{'tool_name': 'get_product_details', 'tool_input': {'product_name': 'usb charger'}}]</span><br>"
      ],
      "text/plain": [
       "<IPython.core.display.HTML object>"
      ]
     },
     "metadata": {},
     "output_type": "display_data"
    },
    {
     "data": {
      "text/html": [
       "<span style='font-family: monospace; font-size: 14px; white-space: pre-wrap; width: auto; overflow-x: auto;font-weight: bold;'>Response: </span>"
      ],
      "text/plain": [
       "<IPython.core.display.HTML object>"
      ]
     },
     "metadata": {},
     "output_type": "display_data"
    },
    {
     "data": {
      "text/html": [
       "<span style='font-family: monospace; font-size: 14px; white-space: pre-wrap; width: auto; overflow-x: auto;'>OK. I have gathered basic details about the product 'usb charger'. It is a super fast and light usb charger.</span><br>"
      ],
      "text/plain": [
       "<IPython.core.display.HTML object>"
      ]
     },
     "metadata": {},
     "output_type": "display_data"
    },
    {
     "data": {
      "text/html": [
       "<span style='font-family: monospace; font-size: 14px; white-space: pre-wrap; width: auto; overflow-x: auto;font-weight: bold;'>Latency In Seconds: </span>"
      ],
      "text/plain": [
       "<IPython.core.display.HTML object>"
      ]
     },
     "metadata": {},
     "output_type": "display_data"
    },
    {
     "data": {
      "text/html": [
       "<span style='font-family: monospace; font-size: 14px; white-space: pre-wrap; width: auto; overflow-x: auto;'>2.850117905999923</span><br>"
      ],
      "text/plain": [
       "<IPython.core.display.HTML object>"
      ]
     },
     "metadata": {},
     "output_type": "display_data"
    },
    {
     "data": {
      "text/html": [
       "<span style='font-family: monospace; font-size: 14px; white-space: pre-wrap; width: auto; overflow-x: auto;font-weight: bold;'>Failure: </span>"
      ],
      "text/plain": [
       "<IPython.core.display.HTML object>"
      ]
     },
     "metadata": {},
     "output_type": "display_data"
    },
    {
     "data": {
      "text/html": [
       "<span style='font-family: monospace; font-size: 14px; white-space: pre-wrap; width: auto; overflow-x: auto;'>0</span><br>"
      ],
      "text/plain": [
       "<IPython.core.display.HTML object>"
      ]
     },
     "metadata": {},
     "output_type": "display_data"
    },
    {
     "data": {
      "text/html": [
       "<span style='font-family: monospace; font-size: 14px; white-space: pre-wrap; width: auto; overflow-x: auto;font-weight: bold;'>Predicted Trajectory: </span>"
      ],
      "text/plain": [
       "<IPython.core.display.HTML object>"
      ]
     },
     "metadata": {},
     "output_type": "display_data"
    },
    {
     "data": {
      "text/html": [
       "<span style='font-family: monospace; font-size: 14px; white-space: pre-wrap; width: auto; overflow-x: auto;'>[{\"tool_name\": \"get_product_details\", \"tool_input\": {\"product_name\": \"usb charger\"}}]</span><br>"
      ],
      "text/plain": [
       "<IPython.core.display.HTML object>"
      ]
     },
     "metadata": {},
     "output_type": "display_data"
    },
    {
     "data": {
      "text/html": [
       "<span style='font-family: monospace; font-size: 14px; white-space: pre-wrap; width: auto; overflow-x: auto;font-weight: bold;'>Safety/Explanation: </span>"
      ],
      "text/plain": [
       "<IPython.core.display.HTML object>"
      ]
     },
     "metadata": {},
     "output_type": "display_data"
    },
    {
     "data": {
      "text/html": [
       "<span style='font-family: monospace; font-size: 14px; white-space: pre-wrap; width: auto; overflow-x: auto;'>The response is safe because it does not contain any hate speech, harassment, dangerous content, or sexually explicit content.</span><br>"
      ],
      "text/plain": [
       "<IPython.core.display.HTML object>"
      ]
     },
     "metadata": {},
     "output_type": "display_data"
    },
    {
     "data": {
      "text/html": [
       "<span style='font-family: monospace; font-size: 14px; white-space: pre-wrap; width: auto; overflow-x: auto;font-weight: bold;'>Safety/Score: </span>"
      ],
      "text/plain": [
       "<IPython.core.display.HTML object>"
      ]
     },
     "metadata": {},
     "output_type": "display_data"
    },
    {
     "data": {
      "text/html": [
       "<span style='font-family: monospace; font-size: 14px; white-space: pre-wrap; width: auto; overflow-x: auto;'>1.0</span><br>"
      ],
      "text/plain": [
       "<IPython.core.display.HTML object>"
      ]
     },
     "metadata": {},
     "output_type": "display_data"
    },
    {
     "data": {
      "text/html": [
       "<span style='font-family: monospace; font-size: 14px; white-space: pre-wrap; width: auto; overflow-x: auto;font-weight: bold;'>Coherence/Explanation: </span>"
      ],
      "text/plain": [
       "<IPython.core.display.HTML object>"
      ]
     },
     "metadata": {},
     "output_type": "display_data"
    },
    {
     "data": {
      "text/html": [
       "<span style='font-family: monospace; font-size: 14px; white-space: pre-wrap; width: auto; overflow-x: auto;'>The response is somewhat coherent as it acknowledges the request and provides a brief description, but lacks detailed information and logical flow, thus a higher score cannot be given.</span><br>"
      ],
      "text/plain": [
       "<IPython.core.display.HTML object>"
      ]
     },
     "metadata": {},
     "output_type": "display_data"
    },
    {
     "data": {
      "text/html": [
       "<span style='font-family: monospace; font-size: 14px; white-space: pre-wrap; width: auto; overflow-x: auto;font-weight: bold;'>Coherence/Score: </span>"
      ],
      "text/plain": [
       "<IPython.core.display.HTML object>"
      ]
     },
     "metadata": {},
     "output_type": "display_data"
    },
    {
     "data": {
      "text/html": [
       "<span style='font-family: monospace; font-size: 14px; white-space: pre-wrap; width: auto; overflow-x: auto;'>3.0</span><br>"
      ],
      "text/plain": [
       "<IPython.core.display.HTML object>"
      ]
     },
     "metadata": {},
     "output_type": "display_data"
    },
    {
     "data": {
      "text/html": [
       "<hr>"
      ],
      "text/plain": [
       "<IPython.core.display.HTML object>"
      ]
     },
     "metadata": {},
     "output_type": "display_data"
    }
   ],
   "source": [
    "display_dataframe_rows(response_eval_result.metrics_table, num_rows=3)"
   ]
  },
  {
   "cell_type": "markdown",
   "metadata": {
    "id": "ntRBK3Te6PEc"
   },
   "source": [
    "### Evaluate generated response conditioned by tool choosing\n",
    "\n",
    "When evaluating AI agents that interact with environments, standard text generation metrics like coherence may not be sufficient. This is because these metrics primarily focus on text structure, while agent responses should be assessed based on their effectiveness within the environment.\n",
    "\n",
    "Instead, use custom metrics that assess whether the agent's response logically follows from its tools choices like the one you have in this section."
   ]
  },
  {
   "cell_type": "markdown",
   "metadata": {
    "id": "4bENwFcd6prX"
   },
   "source": [
    "#### Define a custom metric\n",
    "\n",
    "According to the [documentation](https://cloud.google.com/vertex-ai/generative-ai/docs/models/determine-eval#model-based-metrics), you can define a prompt template for evaluating whether an AI agent's response follows logically from its actions by setting up criteria and a rating system for this evaluation.\n",
    "\n",
    "Define a `criteria` to set the evaluation guidelines and a `pointwise_rating_rubric` to provide a scoring system (1 or 0). Then use a `PointwiseMetricPromptTemplate` to create the template using these components.\n"
   ]
  },
  {
   "cell_type": "code",
   "execution_count": 32,
   "metadata": {
    "id": "txGEHcg76riI",
    "tags": []
   },
   "outputs": [],
   "source": [
    "criteria = {\n",
    "    \"Follows trajectory\": (\n",
    "        \"Evaluate whether the agent's response logically follows from the \"\n",
    "        \"sequence of actions it took. Consider these sub-points:\\n\"\n",
    "        \"  - Does the response reflect the information gathered during the trajectory?\\n\"\n",
    "        \"  - Is the response consistent with the goals and constraints of the task?\\n\"\n",
    "        \"  - Are there any unexpected or illogical jumps in reasoning?\\n\"\n",
    "        \"Provide specific examples from the trajectory and response to support your evaluation.\"\n",
    "    )\n",
    "}\n",
    "\n",
    "pointwise_rating_rubric = {\n",
    "    \"1\": \"Follows trajectory\",\n",
    "    \"0\": \"Does not follow trajectory\",\n",
    "}\n",
    "\n",
    "response_follows_trajectory_prompt_template = PointwiseMetricPromptTemplate(\n",
    "    criteria=criteria,\n",
    "    rating_rubric=pointwise_rating_rubric,\n",
    "    input_variables=[\"prompt\", \"predicted_trajectory\"],\n",
    ")"
   ]
  },
  {
   "cell_type": "markdown",
   "metadata": {
    "id": "8MJqXu0kikxd"
   },
   "source": [
    "Print the prompt_data of this template containing the combined criteria and rubric information ready for use in an evaluation."
   ]
  },
  {
   "cell_type": "code",
   "execution_count": 33,
   "metadata": {
    "id": "5EL7iEDMikNQ",
    "tags": []
   },
   "outputs": [
    {
     "name": "stdout",
     "output_type": "stream",
     "text": [
      "# Instruction\n",
      "You are an expert evaluator. Your task is to evaluate the quality of the responses generated by AI models. We will provide you with the user prompt and an AI-generated responses.\n",
      "You should first read the user input carefully for analyzing the task, and then evaluate the quality of the responses based on the Criteria provided in the Evaluation section below.\n",
      "You will assign the response a rating following the Rating Rubric and Evaluation Steps. Give step by step explanations for your rating, and only choose ratings from the Rating Rubric.\n",
      "\n",
      "\n",
      "# Evaluation\n",
      "## Criteria\n",
      "Follows trajectory: Evaluate whether the agent's response logically follows from the sequence of actions it took. Consider these sub-points:\n",
      "  - Does the response reflect the information gathered during the trajectory?\n",
      "  - Is the response consistent with the goals and constraints of the task?\n",
      "  - Are there any unexpected or illogical jumps in reasoning?\n",
      "Provide specific examples from the trajectory and response to support your evaluation.\n",
      "\n",
      "## Rating Rubric\n",
      "0: Does not follow trajectory\n",
      "1: Follows trajectory\n",
      "\n",
      "## Evaluation Steps\n",
      "Step 1: Assess the response in aspects of all criteria provided. Provide assessment according to each criterion.\n",
      "Step 2: Score based on the rating rubric. Give a brief rationale to explain your evaluation considering each individual criterion.\n",
      "\n",
      "\n",
      "# User Inputs and AI-generated Response\n",
      "## User Inputs\n",
      "### prompt\n",
      "{prompt}\n",
      "\n",
      "### predicted_trajectory\n",
      "{predicted_trajectory}\n",
      "\n",
      "\n",
      "\n",
      "\n",
      "## AI-generated Response\n",
      "{response}\n"
     ]
    }
   ],
   "source": [
    "print(response_follows_trajectory_prompt_template.prompt_data)"
   ]
  },
  {
   "cell_type": "markdown",
   "metadata": {
    "id": "e1djVp7Fi4Yy"
   },
   "source": [
    "After you define the evaluation prompt template, set up the associated metric to evaluate how well a response follows a specific trajectory. The `PointwiseMetric` creates a metric where `response_follows_trajectory` is the metric's name and `response_follows_trajectory_prompt_template` provides instructions or context for evaluation you set up before.\n"
   ]
  },
  {
   "cell_type": "code",
   "execution_count": 34,
   "metadata": {
    "id": "Nx1xbZD87iMj",
    "tags": []
   },
   "outputs": [],
   "source": [
    "response_follows_trajectory_metric = PointwiseMetric(\n",
    "    metric=\"response_follows_trajectory\",\n",
    "    metric_prompt_template=response_follows_trajectory_prompt_template,\n",
    ")"
   ]
  },
  {
   "cell_type": "markdown",
   "metadata": {
    "id": "1pmxLwTe7Ywv"
   },
   "source": [
    "#### Set response metrics\n",
    "\n",
    "Set new generated response evaluation metrics by including the custom metric.\n"
   ]
  },
  {
   "cell_type": "code",
   "execution_count": 35,
   "metadata": {
    "id": "wrsbVFDd7Ywv",
    "tags": []
   },
   "outputs": [],
   "source": [
    "response_tool_metrics = [\n",
    "    \"trajectory_exact_match\",\n",
    "    \"trajectory_in_order_match\",\n",
    "    \"safety\",\n",
    "    response_follows_trajectory_metric,\n",
    "]"
   ]
  },
  {
   "cell_type": "markdown",
   "metadata": {
    "id": "Lo-Sza807Ywv"
   },
   "source": [
    "#### Run an evaluation task\n",
    "\n",
    "Run a new agent's evaluation."
   ]
  },
  {
   "cell_type": "code",
   "execution_count": null,
   "metadata": {
    "id": "_dkb4gSn7Ywv",
    "tags": []
   },
   "outputs": [
    {
     "data": {
      "text/html": [
       "\n",
       "        \n",
       "    <link rel=\"stylesheet\" href=\"https://fonts.googleapis.com/icon?family=Material+Icons\">\n",
       "    <style>\n",
       "      .view-vertex-resource,\n",
       "      .view-vertex-resource:hover,\n",
       "      .view-vertex-resource:visited {\n",
       "        position: relative;\n",
       "        display: inline-flex;\n",
       "        flex-direction: row;\n",
       "        height: 32px;\n",
       "        padding: 0 12px;\n",
       "          margin: 4px 18px;\n",
       "        gap: 4px;\n",
       "        border-radius: 4px;\n",
       "\n",
       "        align-items: center;\n",
       "        justify-content: center;\n",
       "        background-color: rgb(255, 255, 255);\n",
       "        color: rgb(51, 103, 214);\n",
       "\n",
       "        font-family: Roboto,\"Helvetica Neue\",sans-serif;\n",
       "        font-size: 13px;\n",
       "        font-weight: 500;\n",
       "        text-transform: uppercase;\n",
       "        text-decoration: none !important;\n",
       "\n",
       "        transition: box-shadow 280ms cubic-bezier(0.4, 0, 0.2, 1) 0s;\n",
       "        box-shadow: 0px 3px 1px -2px rgba(0,0,0,0.2), 0px 2px 2px 0px rgba(0,0,0,0.14), 0px 1px 5px 0px rgba(0,0,0,0.12);\n",
       "      }\n",
       "      .view-vertex-resource:active {\n",
       "        box-shadow: 0px 5px 5px -3px rgba(0,0,0,0.2),0px 8px 10px 1px rgba(0,0,0,0.14),0px 3px 14px 2px rgba(0,0,0,0.12);\n",
       "      }\n",
       "      .view-vertex-resource:active .view-vertex-ripple::before {\n",
       "        position: absolute;\n",
       "        top: 0;\n",
       "        bottom: 0;\n",
       "        left: 0;\n",
       "        right: 0;\n",
       "        border-radius: 4px;\n",
       "        pointer-events: none;\n",
       "\n",
       "        content: '';\n",
       "        background-color: rgb(51, 103, 214);\n",
       "        opacity: 0.12;\n",
       "      }\n",
       "      .view-vertex-icon {\n",
       "        font-size: 18px;\n",
       "      }\n",
       "    </style>\n",
       "  \n",
       "        <a class=\"view-vertex-resource\" id=\"view-vertex-resource-bfcbd9bc-1b68-4481-b6ab-7e09846de5bc\" href=\"#view-view-vertex-resource-bfcbd9bc-1b68-4481-b6ab-7e09846de5bc\">\n",
       "          <span class=\"material-icons view-vertex-icon\">science</span>\n",
       "          <span>View Experiment</span>\n",
       "        </a>\n",
       "        \n",
       "        <script>\n",
       "          (function () {\n",
       "            const link = document.getElementById('view-vertex-resource-bfcbd9bc-1b68-4481-b6ab-7e09846de5bc');\n",
       "            link.addEventListener('click', (e) => {\n",
       "              if (window.google?.colab?.openUrl) {\n",
       "                window.google.colab.openUrl('https://console.cloud.google.com/vertex-ai/experiments/locations/us-central1/experiments/evaluate-adk-agent/runs?project=qwiklabs-gcp-00-30e5ec1a5312');\n",
       "              } else {\n",
       "                window.open('https://console.cloud.google.com/vertex-ai/experiments/locations/us-central1/experiments/evaluate-adk-agent/runs?project=qwiklabs-gcp-00-30e5ec1a5312', '_blank');\n",
       "              }\n",
       "              e.stopPropagation();\n",
       "              e.preventDefault();\n",
       "            });\n",
       "          })();\n",
       "        </script>\n",
       "    "
      ],
      "text/plain": [
       "<IPython.core.display.HTML object>"
      ]
     },
     "metadata": {},
     "output_type": "display_data"
    },
    {
     "name": "stdout",
     "output_type": "stream",
     "text": [
      "Associating projects/1023447617531/locations/us-central1/metadataStores/default/contexts/evaluate-adk-agent-response-over-tools-g2576r90 to Experiment: evaluate-adk-agent\n"
     ]
    },
    {
     "data": {
      "text/html": [
       "\n",
       "        \n",
       "    <link rel=\"stylesheet\" href=\"https://fonts.googleapis.com/icon?family=Material+Icons\">\n",
       "    <style>\n",
       "      .view-vertex-resource,\n",
       "      .view-vertex-resource:hover,\n",
       "      .view-vertex-resource:visited {\n",
       "        position: relative;\n",
       "        display: inline-flex;\n",
       "        flex-direction: row;\n",
       "        height: 32px;\n",
       "        padding: 0 12px;\n",
       "          margin: 4px 18px;\n",
       "        gap: 4px;\n",
       "        border-radius: 4px;\n",
       "\n",
       "        align-items: center;\n",
       "        justify-content: center;\n",
       "        background-color: rgb(255, 255, 255);\n",
       "        color: rgb(51, 103, 214);\n",
       "\n",
       "        font-family: Roboto,\"Helvetica Neue\",sans-serif;\n",
       "        font-size: 13px;\n",
       "        font-weight: 500;\n",
       "        text-transform: uppercase;\n",
       "        text-decoration: none !important;\n",
       "\n",
       "        transition: box-shadow 280ms cubic-bezier(0.4, 0, 0.2, 1) 0s;\n",
       "        box-shadow: 0px 3px 1px -2px rgba(0,0,0,0.2), 0px 2px 2px 0px rgba(0,0,0,0.14), 0px 1px 5px 0px rgba(0,0,0,0.12);\n",
       "      }\n",
       "      .view-vertex-resource:active {\n",
       "        box-shadow: 0px 5px 5px -3px rgba(0,0,0,0.2),0px 8px 10px 1px rgba(0,0,0,0.14),0px 3px 14px 2px rgba(0,0,0,0.12);\n",
       "      }\n",
       "      .view-vertex-resource:active .view-vertex-ripple::before {\n",
       "        position: absolute;\n",
       "        top: 0;\n",
       "        bottom: 0;\n",
       "        left: 0;\n",
       "        right: 0;\n",
       "        border-radius: 4px;\n",
       "        pointer-events: none;\n",
       "\n",
       "        content: '';\n",
       "        background-color: rgb(51, 103, 214);\n",
       "        opacity: 0.12;\n",
       "      }\n",
       "      .view-vertex-icon {\n",
       "        font-size: 18px;\n",
       "      }\n",
       "    </style>\n",
       "  \n",
       "        <a class=\"view-vertex-resource\" id=\"view-vertex-resource-2a983f28-095d-4c55-976c-1f0f2c1e9491\" href=\"#view-view-vertex-resource-2a983f28-095d-4c55-976c-1f0f2c1e9491\">\n",
       "          <span class=\"material-icons view-vertex-icon\">science</span>\n",
       "          <span>View Experiment Run</span>\n",
       "        </a>\n",
       "        \n",
       "        <script>\n",
       "          (function () {\n",
       "            const link = document.getElementById('view-vertex-resource-2a983f28-095d-4c55-976c-1f0f2c1e9491');\n",
       "            link.addEventListener('click', (e) => {\n",
       "              if (window.google?.colab?.openUrl) {\n",
       "                window.google.colab.openUrl('https://console.cloud.google.com/vertex-ai/experiments/locations/us-central1/experiments/evaluate-adk-agent/runs/evaluate-adk-agent-response-over-tools-g2576r90?project=qwiklabs-gcp-00-30e5ec1a5312');\n",
       "              } else {\n",
       "                window.open('https://console.cloud.google.com/vertex-ai/experiments/locations/us-central1/experiments/evaluate-adk-agent/runs/evaluate-adk-agent-response-over-tools-g2576r90?project=qwiklabs-gcp-00-30e5ec1a5312', '_blank');\n",
       "              }\n",
       "              e.stopPropagation();\n",
       "              e.preventDefault();\n",
       "            });\n",
       "          })();\n",
       "        </script>\n",
       "    "
      ],
      "text/plain": [
       "<IPython.core.display.HTML object>"
      ]
     },
     "metadata": {},
     "output_type": "display_data"
    },
    {
     "name": "stdout",
     "output_type": "stream",
     "text": [
      "Logging Eval experiment evaluation metadata: {'output_file': 'gs://qwiklabs-gcp-00-30e5ec1a5312/reasoning-metric-eval/eval_results_2025-08-10-06-27-30-b5fa2.csv'}\n"
     ]
    },
    {
     "name": "stderr",
     "output_type": "stream",
     "text": [
      "  0%|          | 0/5 [00:00<?, ?it/s]Warning: there are non-text parts in the response: ['function_call'], returning concatenated text result from text parts. Check the full candidates.content.parts accessor to get the full model response.\n",
      "Warning: there are non-text parts in the response: ['function_call'], returning concatenated text result from text parts. Check the full candidates.content.parts accessor to get the full model response.\n",
      "Warning: there are non-text parts in the response: ['function_call', 'function_call'], returning concatenated text result from text parts. Check the full candidates.content.parts accessor to get the full model response.\n",
      "Warning: there are non-text parts in the response: ['function_call', 'function_call'], returning concatenated text result from text parts. Check the full candidates.content.parts accessor to get the full model response.\n",
      "Warning: there are non-text parts in the response: ['function_call'], returning concatenated text result from text parts. Check the full candidates.content.parts accessor to get the full model response.\n",
      "100%|██████████| 5/5 [00:01<00:00,  3.58it/s]"
     ]
    },
    {
     "name": "stdout",
     "output_type": "stream",
     "text": [
      "All 5 responses are successfully generated from the runnable.\n",
      "Computing metrics with a total of 20 Vertex Gen AI Evaluation Service API requests.\n"
     ]
    },
    {
     "name": "stderr",
     "output_type": "stream",
     "text": [
      "\n",
      " 25%|██▌       | 5/20 [00:00<00:02,  5.77it/s]"
     ]
    }
   ],
   "source": [
    "EXPERIMENT_RUN = f\"response-over-tools-{get_id()}\"\n",
    "\n",
    "response_eval_tool_task = EvalTask(\n",
    "    dataset=eval_sample_dataset,\n",
    "    metrics=response_tool_metrics,\n",
    "    experiment=EXPERIMENT_NAME,\n",
    "    output_uri_prefix=BUCKET_URI + \"/reasoning-metric-eval\",\n",
    ")\n",
    "\n",
    "response_eval_tool_result = response_eval_tool_task.evaluate(\n",
    "    runnable=agent_parsed_outcome, experiment_run_name=EXPERIMENT_RUN\n",
    ")\n",
    "\n",
    "display_eval_report(response_eval_tool_result)"
   ]
  },
  {
   "cell_type": "markdown",
   "metadata": {
    "id": "AtOfIFi2j88g"
   },
   "source": [
    "#### Visualize evaluation results\n",
    "\n",
    "Visualize evaluation result sample."
   ]
  },
  {
   "cell_type": "code",
   "execution_count": null,
   "metadata": {
    "id": "GH2YvXgLlLH7",
    "tags": []
   },
   "outputs": [],
   "source": [
    "display_dataframe_rows(response_eval_tool_result.metrics_table, num_rows=3)"
   ]
  },
  {
   "cell_type": "code",
   "execution_count": null,
   "metadata": {
    "id": "tdVhCURXMdLG",
    "tags": []
   },
   "outputs": [],
   "source": [
    "plot_bar_plot(\n",
    "    response_eval_tool_result,\n",
    "    title=\"Response Metrics\",\n",
    "    metrics=[f\"{metric}/mean\" for metric in response_tool_metrics],\n",
    ")"
   ]
  },
  {
   "cell_type": "markdown",
   "metadata": {
    "id": "4nuUDP3a2eTB"
   },
   "source": [
    "## Bonus: Bring-Your-Own-Dataset (BYOD) and evaluate a LangGraph agent using Vertex AI Gen AI Evaluation\n",
    "\n",
    "In Bring Your Own Dataset (BYOD) [scenarios](https://cloud.google.com/vertex-ai/generative-ai/docs/models/evaluation-dataset), you provide both the predicted trajectory and the generated response from the agent.\n"
   ]
  },
  {
   "cell_type": "markdown",
   "metadata": {
    "id": "DRLKlmWd27PK"
   },
   "source": [
    "### Bring your own evaluation dataset\n",
    "\n",
    "Define the evaluation dataset with the predicted trajectory and the generated response."
   ]
  },
  {
   "cell_type": "code",
   "execution_count": null,
   "metadata": {
    "id": "y9hBgsg324Ej"
   },
   "outputs": [],
   "source": [
    "byod_eval_data = {\n",
    "    \"prompt\": [\n",
    "        \"Get price for smartphone\",\n",
    "        \"Get product details and price for headphones\",\n",
    "        \"Get details for usb charger\",\n",
    "        \"Get product details and price for shoes\",\n",
    "        \"Get product details for speaker?\",\n",
    "    ],\n",
    "    \"reference_trajectory\": [\n",
    "        [\n",
    "            {\n",
    "                \"tool_name\": \"get_product_price\",\n",
    "                \"tool_input\": {\"product_name\": \"smartphone\"},\n",
    "            }\n",
    "        ],\n",
    "        [\n",
    "            {\n",
    "                \"tool_name\": \"get_product_details\",\n",
    "                \"tool_input\": {\"product_name\": \"headphones\"},\n",
    "            },\n",
    "            {\n",
    "                \"tool_name\": \"get_product_price\",\n",
    "                \"tool_input\": {\"product_name\": \"headphones\"},\n",
    "            },\n",
    "        ],\n",
    "        [\n",
    "            {\n",
    "                \"tool_name\": \"get_product_details\",\n",
    "                \"tool_input\": {\"product_name\": \"usb charger\"},\n",
    "            }\n",
    "        ],\n",
    "        [\n",
    "            {\n",
    "                \"tool_name\": \"get_product_details\",\n",
    "                \"tool_input\": {\"product_name\": \"shoes\"},\n",
    "            },\n",
    "            {\"tool_name\": \"get_product_price\", \"tool_input\": {\"product_name\": \"shoes\"}},\n",
    "        ],\n",
    "        [\n",
    "            {\n",
    "                \"tool_name\": \"get_product_details\",\n",
    "                \"tool_input\": {\"product_name\": \"speaker\"},\n",
    "            }\n",
    "        ],\n",
    "    ],\n",
    "    \"predicted_trajectory\": [\n",
    "        [\n",
    "            {\n",
    "                \"tool_name\": \"get_product_price\",\n",
    "                \"tool_input\": {\"product_name\": \"smartphone\"},\n",
    "            }\n",
    "        ],\n",
    "        [\n",
    "            {\n",
    "                \"tool_name\": \"get_product_details\",\n",
    "                \"tool_input\": {\"product_name\": \"headphones\"},\n",
    "            },\n",
    "            {\n",
    "                \"tool_name\": \"get_product_price\",\n",
    "                \"tool_input\": {\"product_name\": \"headphones\"},\n",
    "            },\n",
    "        ],\n",
    "        [\n",
    "            {\n",
    "                \"tool_name\": \"get_product_details\",\n",
    "                \"tool_input\": {\"product_name\": \"usb charger\"},\n",
    "            }\n",
    "        ],\n",
    "        [\n",
    "            {\n",
    "                \"tool_name\": \"get_product_details\",\n",
    "                \"tool_input\": {\"product_name\": \"shoes\"},\n",
    "            },\n",
    "            {\"tool_name\": \"get_product_price\", \"tool_input\": {\"product_name\": \"shoes\"}},\n",
    "        ],\n",
    "        [\n",
    "            {\n",
    "                \"tool_name\": \"get_product_details\",\n",
    "                \"tool_input\": {\"product_name\": \"speaker\"},\n",
    "            }\n",
    "        ],\n",
    "    ],\n",
    "    \"response\": [\n",
    "        \"500\",\n",
    "        \"50\",\n",
    "        \"A super fast and light usb charger\",\n",
    "        \"100\",\n",
    "        \"A voice-controlled smart speaker that plays music, sets alarms, and controls smart home devices.\",\n",
    "    ],\n",
    "}\n",
    "\n",
    "byod_eval_sample_dataset = pd.DataFrame(byod_eval_data)\n",
    "byod_eval_sample_dataset[\"predicted_trajectory\"] = byod_eval_sample_dataset[\n",
    "    \"predicted_trajectory\"\n",
    "].apply(json.dumps)\n",
    "byod_eval_sample_dataset[\"reference_trajectory\"] = byod_eval_sample_dataset[\n",
    "    \"reference_trajectory\"\n",
    "].apply(json.dumps)"
   ]
  },
  {
   "cell_type": "markdown",
   "metadata": {
    "id": "oEYmU2eJ7q-1"
   },
   "source": [
    "### Run an evaluation task\n",
    "\n",
    "Run a new agent's evaluation using your own dataset and the same setting of the latest evaluation."
   ]
  },
  {
   "cell_type": "code",
   "execution_count": null,
   "metadata": {
    "id": "wBD-4wpB7q-3"
   },
   "outputs": [],
   "source": [
    "EXPERIMENT_RUN_NAME = f\"response-over-tools-byod-{get_id()}\"\n",
    "\n",
    "byod_response_eval_tool_task = EvalTask(\n",
    "    dataset=byod_eval_sample_dataset,\n",
    "    metrics=response_tool_metrics,\n",
    "    experiment=EXPERIMENT_NAME,\n",
    "    output_uri_prefix=BUCKET_URI + \"/byod-eval\",\n",
    ")\n",
    "\n",
    "byod_response_eval_tool_result = byod_response_eval_tool_task.evaluate(\n",
    "    runnable=agent_parsed_outcome,\n",
    "    experiment_run_name=EXPERIMENT_RUN_NAME\n",
    ")\n",
    "\n",
    "display_eval_report(byod_response_eval_tool_result)"
   ]
  },
  {
   "cell_type": "markdown",
   "metadata": {
    "id": "9eU3LG6r7q-3"
   },
   "source": [
    "### Visualize evaluation results\n",
    "\n",
    "Visualize evaluation result sample."
   ]
  },
  {
   "cell_type": "code",
   "execution_count": null,
   "metadata": {
    "id": "pQFzmd2I7q-3"
   },
   "outputs": [],
   "source": [
    "display_dataframe_rows(byod_response_eval_tool_result.metrics_table, num_rows=3)"
   ]
  },
  {
   "cell_type": "code",
   "execution_count": null,
   "metadata": {
    "id": "84HiPDOkPseW"
   },
   "outputs": [],
   "source": [
    "display_radar_plot(\n",
    "    byod_response_eval_tool_result,\n",
    "    title=\"ADK agent evaluation\",\n",
    "    metrics=[f\"{metric}/mean\" for metric in response_tool_metrics],\n",
    ")"
   ]
  },
  {
   "cell_type": "markdown",
   "metadata": {
    "id": "fIppkS2jq_Dn"
   },
   "source": [
    "## Cleaning up\n"
   ]
  },
  {
   "cell_type": "code",
   "execution_count": null,
   "metadata": {
    "id": "Ox2I3UfRlTOd"
   },
   "outputs": [],
   "source": [
    "delete_experiment = True\n",
    "\n",
    "if delete_experiment:\n",
    "    try:\n",
    "        experiment = aiplatform.Experiment(EXPERIMENT_NAME)\n",
    "        experiment.delete(delete_backing_tensorboard_runs=True)\n",
    "    except Exception as e:\n",
    "        print(e)"
   ]
  }
 ],
 "metadata": {
  "colab": {
   "name": "evaluating_adk_agent.ipynb",
   "toc_visible": true
  },
  "environment": {
   "kernel": "conda-base-py",
   "name": "workbench-notebooks.m131",
   "type": "gcloud",
   "uri": "us-docker.pkg.dev/deeplearning-platform-release/gcr.io/workbench-notebooks:m131"
  },
  "kernelspec": {
   "display_name": "Python 3 (ipykernel) (Local)",
   "language": "python",
   "name": "conda-base-py"
  },
  "language_info": {
   "codemirror_mode": {
    "name": "ipython",
    "version": 3
   },
   "file_extension": ".py",
   "mimetype": "text/x-python",
   "name": "python",
   "nbconvert_exporter": "python",
   "pygments_lexer": "ipython3",
   "version": "3.10.18"
  }
 },
 "nbformat": 4,
 "nbformat_minor": 4
}
